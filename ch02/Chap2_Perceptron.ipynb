{
 "cells": [
  {
   "cell_type": "markdown",
   "metadata": {},
   "source": [
    "## パーセプトロン"
   ]
  },
  {
   "cell_type": "markdown",
   "metadata": {},
   "source": [
    "![https://qiita-image-store.s3.amazonaws.com/0/5807/684fe085-00cb-4bed-321c-a65cb84db07d.png](https://qiita-image-store.s3.amazonaws.com/0/5807/684fe085-00cb-4bed-321c-a65cb84db07d.png)"
   ]
  },
  {
   "cell_type": "markdown",
   "metadata": {},
   "source": [
    "$$\n",
    "x_1 = 入力1\\\\\n",
    "x_2 = 入力2\\\\\n",
    "w_1 = 重み1\\\\\n",
    "w_2 = 重み2\\\\\n",
    "y = 出力\n",
    "$$\n",
    "\n",
    "$$\\begin{eqnarray}\n",
    "発火判定\\ \\ \\ \\ y= \\left\\{\n",
    "\\begin{array}{ll}\n",
    "0\\ \\ \\ \\ (w_1x_1 + w_1x_2 \\leq \\theta)\\\\\n",
    "1\\ \\ \\ \\ (w_1x_1 + w_1x_2 \\gt \\theta)\\\\\n",
    "\\end{array}\n",
    "\\right\\}\n",
    "\\end{eqnarray}$$"
   ]
  },
  {
   "cell_type": "markdown",
   "metadata": {},
   "source": [
    "----------------------------------------------"
   ]
  },
  {
   "cell_type": "markdown",
   "metadata": {},
   "source": [
    "$$\\begin{eqnarray}\n",
    "AND発火判定\\ \\ \\ \\ y= \\left\\{\n",
    "\\begin{array}{ll}\n",
    "0\\ \\ \\ \\ (0.5x_1 + 0.5x_2 \\leq 0.6)\\\\\n",
    "1\\ \\ \\ \\ (0.5x_1 + 0.5x_2 \\gt 0.6)\\\\\n",
    "\\end{array}\n",
    "\\right\\}\n",
    "\\end{eqnarray}$$"
   ]
  },
  {
   "cell_type": "code",
   "execution_count": 54,
   "metadata": {
    "collapsed": false
   },
   "outputs": [],
   "source": [
    "def AND(x1, x2):\n",
    "    w1, w2, theta = 0.5, 0.5, 0.6 #0001\n",
    "    tmp = x1*w1 + x2*w2\n",
    "    if tmp <= theta:\n",
    "        return 0\n",
    "    else:\n",
    "        return 1"
   ]
  },
  {
   "cell_type": "markdown",
   "metadata": {},
   "source": [
    "$$\\begin{eqnarray}\n",
    "OR発火判定\\ \\ \\ \\ y= \\left\\{\n",
    "\\begin{array}{ll}\n",
    "0\\ \\ \\ \\ (0.5x_1 + 0.5x_2 \\leq 0.4)\\\\\n",
    "1\\ \\ \\ \\ (0.5x_1 + 0.5x_2 \\gt 0.4)\\\\\n",
    "\\end{array}\n",
    "\\right\\}\n",
    "\\end{eqnarray}$$"
   ]
  },
  {
   "cell_type": "code",
   "execution_count": 45,
   "metadata": {
    "collapsed": false
   },
   "outputs": [],
   "source": [
    "def OR(x1, x2):\n",
    "    w1, w2, theta = 0.5, 0.5, 0.4 #0111\n",
    "    tmp = x1*w1 + x2*w2\n",
    "    if tmp <= theta:\n",
    "        return 0\n",
    "    else:\n",
    "        return 1"
   ]
  },
  {
   "cell_type": "markdown",
   "metadata": {},
   "source": [
    "$$\\begin{eqnarray}\n",
    "NAND発火判定\\ \\ \\ \\ y= \\left\\{\n",
    "\\begin{array}{ll}\n",
    "0\\ \\ \\ \\ (0.5x_1 + 0.5x_2 \\gt 0.6)\\\\\n",
    "1\\ \\ \\ \\ (0.5x_1 + 0.5x_2 \\leq 0.6)\\\\\n",
    "\\end{array}\n",
    "\\right\\}\n",
    "\\end{eqnarray}$$"
   ]
  },
  {
   "cell_type": "code",
   "execution_count": 56,
   "metadata": {
    "collapsed": true
   },
   "outputs": [],
   "source": [
    "def NAND(x1, x2):\n",
    "    w1, w2, theta = 0.5, 0.5, 0.6 #1110\n",
    "    tmp = x1*w1 + x2*w2\n",
    "    if tmp > theta:\n",
    "        return 0\n",
    "    else:\n",
    "        return 1"
   ]
  },
  {
   "cell_type": "markdown",
   "metadata": {},
   "source": [
    "$$\\begin{eqnarray}\n",
    "NOR発火判定\\ \\ \\ \\ y= \\left\\{\n",
    "\\begin{array}{ll}\n",
    "0\\ \\ \\ \\ (0.5x_1 + 0.5x_2 \\gt 0.4)\\\\\n",
    "1\\ \\ \\ \\ (0.5x_1 + 0.5x_2 \\leq 0.4)\\\\\n",
    "\\end{array}\n",
    "\\right\\}\n",
    "\\end{eqnarray}$$"
   ]
  },
  {
   "cell_type": "code",
   "execution_count": 58,
   "metadata": {
    "collapsed": true
   },
   "outputs": [],
   "source": [
    "def NOR(x1, x2):\n",
    "    w1, w2, theta = 0.5, 0.5, 0.4 #1000\n",
    "    tmp = x1*w1 + x2*w2\n",
    "    if tmp > theta:\n",
    "        return 0\n",
    "    else:\n",
    "        return 1"
   ]
  },
  {
   "cell_type": "markdown",
   "metadata": {},
   "source": [
    "$$\\begin{eqnarray}\n",
    "XOR発火判定\\ \\ \n",
    "\\ \\ y= \\left\\{\n",
    "\\begin{array}{ll}\n",
    "0\\ \\ \\ \\ ???\\\\\n",
    "1\\ \\ \\ \\ ???\\\\\n",
    "\\end{array}\n",
    "\\right\\}\n",
    "\\end{eqnarray}$$"
   ]
  },
  {
   "cell_type": "code",
   "execution_count": 59,
   "metadata": {
    "collapsed": false
   },
   "outputs": [],
   "source": [
    "def XOR(x1, x2):\n",
    "    AND_x1x2 = AND(x1,x2) # 0001\n",
    "    OR_x1x2 = OR(x1, x2) #0111\n",
    "    AND_x1x2 = NAND(x1,x2) #1110\n",
    "    return AND(NAND_x1x2, OR_x1x2) #0110"
   ]
  },
  {
   "cell_type": "markdown",
   "metadata": {
    "collapsed": true
   },
   "source": [
    "\n",
    "##### パーセプトロンの概念はAND/OR/NANDを表すことができるので、一般的な電子コンピュータと同様のことが可能である。"
   ]
  },
  {
   "cell_type": "code",
   "execution_count": null,
   "metadata": {
    "collapsed": true
   },
   "outputs": [],
   "source": []
  }
 ],
 "metadata": {
  "kernelspec": {
   "display_name": "Python 3",
   "language": "python",
   "name": "python3"
  },
  "language_info": {
   "codemirror_mode": {
    "name": "ipython",
    "version": 3
   },
   "file_extension": ".py",
   "mimetype": "text/x-python",
   "name": "python",
   "nbconvert_exporter": "python",
   "pygments_lexer": "ipython3",
   "version": "3.6.0"
  }
 },
 "nbformat": 4,
 "nbformat_minor": 2
}
