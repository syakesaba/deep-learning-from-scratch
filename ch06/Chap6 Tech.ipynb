{
 "cells": [
  {
   "cell_type": "markdown",
   "metadata": {},
   "source": [
    "# 学習に関するテクニック"
   ]
  },
  {
   "cell_type": "markdown",
   "metadata": {},
   "source": [
    "[最適化（optimization）](http://www.orsj.or.jp/archive2/or60-4/or60_4_191.pdf)はニューラルネットワークの課題。損失関数（loss function）の値を小さくするようにパラメータを調整すること。過学習・勾配消失・爆発（発散）を防ぐ手法を学ぶことが学習に関するテクニックである。一般的には以下のよな手法が知られている。\n",
    "\n",
    "- パラメータの更新方法を変更する\n",
    "- 活性化関数を変更する\n",
    "- ネットワークの重みの初期値を調整する\n",
    "- 学習係数を下げる\n",
    "- ネットワークの自由度を制約する（Dropoutなど）\n",
    "\n",
    "しかし、近年においては\n",
    "\n",
    "- Batch Normalizationを挿入する\n",
    "- ハイパーパラメータを探索する\n",
    "\n",
    "という手法が主流になっている。"
   ]
  },
  {
   "cell_type": "markdown",
   "metadata": {},
   "source": [
    "## 勾配更新アルゴリズムの選定による最適化\n",
    "基本的には、勾配消失・爆発を防ぐための手法であり、これまでは\n",
    "\n",
    "活性化関数を変更する（ReLUなど）\n",
    "ネットワークの重みの初期値を事前学習する\n",
    "学習係数を下げる\n",
    "ネットワークの自由度を制約する（Dropoutなど）\n"
   ]
  },
  {
   "cell_type": "markdown",
   "metadata": {
    "collapsed": true
   },
   "source": [
    "### 勾配降下法"
   ]
  },
  {
   "cell_type": "markdown",
   "metadata": {},
   "source": [
    "微分の傾きを収束させることを目指す方法。  "
   ]
  },
  {
   "cell_type": "markdown",
   "metadata": {},
   "source": [
    "### バッチ勾配降下法"
   ]
  },
  {
   "cell_type": "markdown",
   "metadata": {},
   "source": [
    "ミニバッチ処理により、全てのデータ／テストを一括で順番に計算し勾配を求める。確実だが、リソースの問題がある。"
   ]
  },
  {
   "cell_type": "markdown",
   "metadata": {},
   "source": [
    "### 確率的勾配降下法"
   ]
  },
  {
   "cell_type": "markdown",
   "metadata": {},
   "source": [
    "全てのデータを一括で処理せず、データをある確率分布に基づいて無作為全抽出し勾配を求める。\n",
    "優良なデータを先に処理することが出来る可能性がある。"
   ]
  },
  {
   "cell_type": "markdown",
   "metadata": {},
   "source": [
    "### ミニバッチ勾配降下法"
   ]
  },
  {
   "cell_type": "markdown",
   "metadata": {},
   "source": [
    "全てのデータを一括で処理せず、データをある確率分布に基づいて無作為標本抽出し勾配を求める。\n",
    "サンプリングレート（バッチサイズ）とサンプリング分布（基本的にランダムサンプリングとなる）により\n",
    "優良な標本データを先に処理し目的関数に近づける事ができる。\n",
    "現在の機械学習においては基本的にこの手法が推奨される。"
   ]
  },
  {
   "cell_type": "markdown",
   "metadata": {
    "collapsed": true
   },
   "source": [
    "### 勾配更新アルゴリズムによる収束までの違い"
   ]
  },
  {
   "cell_type": "markdown",
   "metadata": {
    "collapsed": true
   },
   "source": [
    "http://ruder.io/optimizing-gradient-descent/  \n",
    "https://keras.io/optimizers/"
   ]
  },
  {
   "cell_type": "markdown",
   "metadata": {},
   "source": [
    "![](http://sebastianruder.com/content/images/2016/01/saddle_point_evaluation_optimizers.gif)"
   ]
  },
  {
   "cell_type": "markdown",
   "metadata": {
    "collapsed": true
   },
   "source": [
    "### 様々な勾配降下法の最適化アルゴリズム"
   ]
  },
  {
   "cell_type": "markdown",
   "metadata": {
    "collapsed": true
   },
   "source": [
    "#### SGD(Stochastic Gradient Descent, 確率的勾配降下法)"
   ]
  },
  {
   "cell_type": "markdown",
   "metadata": {},
   "source": [
    "$W \\leftarrow W - \\eta \\frac{\\partial L}{\\partial W}$  \n",
    "$0 \\lt \\eta \\lt 1$  \n",
    "$W::Weight\\ \\ \\eta::Learning\\ Rate\\ \\ L::Loss\\ Function\\ \\ \\partial::Partial\\ Differentiation$"
   ]
  },
  {
   "cell_type": "markdown",
   "metadata": {
    "collapsed": true
   },
   "source": [
    "単純な勾配降下法全てのベース(Vanilla)となる。全集合（学習データ集合、テストデータ集合）の中の一部(batch_size分)の集合をepoch回だけ__無作為サンプリング（サンプリング分布に注意）__し、勾配降下法の計算に反映する手法。大規模なデータを処理する際、少ない計算量で実装可能であり、非常にシンプルなのでMLアルゴリズムのデバッグが容易。__目的関数と一致しない集合で学習してしまうと急激に勾配が上下し目的関数もそれにつられて大きく変動する可能性がある__。"
   ]
  },
  {
   "cell_type": "code",
   "execution_count": 1,
   "metadata": {},
   "outputs": [],
   "source": [
    "class SGD:\n",
    "    \"\"\"確率的勾配降下法（Stochastic Gradient Descent）\"\"\"\n",
    "    def __init__(self, lr=0.01):\n",
    "        self.lr = lr\n",
    "    def update(self, params, grads):\n",
    "        for key in params.keys():\n",
    "            params[key] -= self.lr * grads[key] "
   ]
  },
  {
   "cell_type": "markdown",
   "metadata": {
    "collapsed": true
   },
   "source": [
    "#### Momentam (Momentam SGD)"
   ]
  },
  {
   "cell_type": "markdown",
   "metadata": {},
   "source": [
    "$v \\leftarrow \\alpha v - \\eta \\frac{\\partial L}{\\partial W}$  \n",
    "$W \\leftarrow W + v $  \n",
    "$0 \\lt \\alpha \\lt 1$  \n",
    "$v::velocity\\ \\ \\alpha::Air\\ Resistance\\ (aka. Friction)$"
   ]
  },
  {
   "cell_type": "markdown",
   "metadata": {
    "collapsed": true
   },
   "source": [
    "SGDにおいて勾配更新の際に勾配を直接計算に反映するのではなく「直前の勾配の加速度」変数を掛け算し続けることでSGDの勾配更新を滑らかにする方法。複雑な関数でなければSGDよりも早く収束する可能性がある。勾配と正方向の加速度が「勢い」であり、逆方向の加速度が物理学でいう「摩擦」や「空気抵抗」に近い。__加速度に定数$\\alpha$を毎回掛け算しているのは、静止摩擦を付加し収束を期待する為である。__"
   ]
  },
  {
   "cell_type": "code",
   "execution_count": 8,
   "metadata": {},
   "outputs": [],
   "source": [
    "class Momentum:\n",
    "    \"\"\"慣性SGD (Momentam SGD)\"\"\"\n",
    "    def __init__(self, lr=0.01, momentum=0.9):\n",
    "        self.lr = lr\n",
    "        self.momentum = momentum\n",
    "        self.v = None\n",
    "    def update(self, params, grads):\n",
    "        if self.v is None:\n",
    "            self.v = {}\n",
    "            for key, val in params.items():                                \n",
    "                self.v[key] = np.zeros_like(val)\n",
    "        for key in params.keys():\n",
    "            self.v[key] = self.momentum*self.v[key] - self.lr*grads[key] \n",
    "            params[key] += self.v[key]"
   ]
  },
  {
   "cell_type": "markdown",
   "metadata": {},
   "source": [
    "#### NAG (Nesterov's Accelerated Gradient) "
   ]
  },
  {
   "cell_type": "markdown",
   "metadata": {},
   "source": [
    "Momentamでは加速度を計算する際に勾配計算前の値を使用していたが、NAGでは勾配計算後の値を使用することで、勾配の変化に関してMomentamよりも一歩先で気づくことが出来るようになる。それ以外は特に変わらない。同盟で複数のアルゴリズムが存在する。"
   ]
  },
  {
   "cell_type": "markdown",
   "metadata": {
    "collapsed": true
   },
   "source": [
    "#### Adagrad"
   ]
  },
  {
   "cell_type": "markdown",
   "metadata": {},
   "source": [
    "$h \\leftarrow h + \\frac{\\partial L}{\\partial W} \\odot \\frac{\\partial L}{\\partial W}$  \n",
    "$W \\leftarrow W - \\eta \\frac{1}{\\sqrt{h}} \\frac{\\partial L}{\\partial W}$  \n",
    "$h::Rate\\ of\\ Learning\\ Rate\\ \\ \\odot::Hadamard\\ Product$ (アダマール積::行列の要素ごとの単純乗算。内積でない。)"
   ]
  },
  {
   "cell_type": "markdown",
   "metadata": {},
   "source": [
    "勾配更新の際に「学習率」自体を勾配で自乗したもので割る。これにより学習率そのものの指数関数的な減衰をもたらす。最初の勾配が大きいものが強く学習され、収束に従って緩やかに学習されるようになるので最初に大きく学習を進めることが出来る。最初に学習したデータが良好なデータであればあるほど効果的に働くが学習が進むに連れて学習率が0に近づく為、__オンライン学習（継続的学習）の場合は新鮮なデータを受け入れるのが難しくなる欠点がある__。アダマール積を使用しているのは、各種パラメータ（行・列）毎のデータ変動を一個ずつ対応して反映できるようにするためである。※$h$は最初は非常に小さな数値に設定し、ゼロ除算を回避すること。  "
   ]
  },
  {
   "cell_type": "code",
   "execution_count": 4,
   "metadata": {},
   "outputs": [],
   "source": [
    "class AdaGrad:\n",
    "    \"\"\"AdaGrad (Adaptive subgradient methods for online learning and stochastic optimization)\"\"\"\n",
    "    def __init__(self, lr=0.01):\n",
    "        self.lr = lr\n",
    "        self.h = None\n",
    "    def update(self, params, grads):\n",
    "        if self.h is None:\n",
    "            self.h = {}\n",
    "            for key, val in params.items():\n",
    "                self.h[key] = np.zeros_like(val)\n",
    "        for key in params.keys():\n",
    "            self.h[key] += grads[key] * grads[key]\n",
    "            params[key] -= self.lr * grads[key] / (np.sqrt(self.h[key]) + 1e-7)\n",
    "            #1e-7はゼロ除算を防ぐため"
   ]
  },
  {
   "cell_type": "markdown",
   "metadata": {
    "collapsed": true
   },
   "source": [
    "#### RMSprop"
   ]
  },
  {
   "cell_type": "markdown",
   "metadata": {},
   "source": [
    "$h \\leftarrow \\alpha h + (1-\\alpha)\\frac{\\partial L}{\\partial W} \\odot \\frac{\\partial L}{\\partial W}$  \n",
    "$W \\leftarrow W - \\eta \\frac{1}{\\sqrt{h}} \\frac{\\partial L}{\\partial W}$  \n",
    "$0 \\le \\alpha \\le 1$  \n",
    "$\\alpha::Rate\\ of\\ exponential\\ moving\\ average;EMA;$ 指数移動平均"
   ]
  },
  {
   "cell_type": "markdown",
   "metadata": {},
   "source": [
    "Adagradにおいて学習が進むにつれて新鮮なデータを受入し難くなる欠点を克服するため、__一つ前の学習率に定数$\\alpha$を掛けて減衰させ、受け入れる新鮮なデータの学習率の影響を強める__手法。hに関して指数移動平均を適用したものである。過去のデータの影響力の加重が指数関数的に減衰するので、$\\alpha$の数値が低すぎた場合は過去のデータの影響力が直ちに低下してしまい、新鮮すぎる結果が発生し、数値が高すぎた場合は腐った結果が発生するリスクがある。"
   ]
  },
  {
   "cell_type": "code",
   "execution_count": 5,
   "metadata": {},
   "outputs": [],
   "source": [
    "class RMSprop:\n",
    "    \"\"\"RMSprop\"\"\"\n",
    "    def __init__(self, lr=0.01, decay_rate = 0.99):\n",
    "        self.lr = lr\n",
    "        self.decay_rate = decay_rate\n",
    "        self.h = None\n",
    "    def update(self, params, grads):\n",
    "        if self.h is None:\n",
    "            self.h = {}\n",
    "            for key, val in params.items():\n",
    "                self.h[key] = np.zeros_like(val)\n",
    "        for key in params.keys():\n",
    "            self.h[key] *= self.decay_rate\n",
    "            self.h[key] += (1 - self.decay_rate) * grads[key] * grads[key]\n",
    "            params[key] -= self.lr * grads[key] / (np.sqrt(self.h[key]) + 1e-7)"
   ]
  },
  {
   "cell_type": "markdown",
   "metadata": {},
   "source": [
    "#### AdaDelta"
   ]
  },
  {
   "cell_type": "markdown",
   "metadata": {},
   "source": [
    "AdagradとRMSpropをあわせたもの。学習率が存在せず移動平均がそのまま学習率に反映される。"
   ]
  },
  {
   "cell_type": "markdown",
   "metadata": {},
   "source": [
    "#### Adam"
   ]
  },
  {
   "cell_type": "markdown",
   "metadata": {},
   "source": [
    "AdaGrad、RMSprop、AdaDeltaを合わせスケールを追加したもの"
   ]
  },
  {
   "cell_type": "code",
   "execution_count": 6,
   "metadata": {},
   "outputs": [],
   "source": [
    "class Adam:\n",
    "    \"\"\"Adam (Adaptive moment estimation)\"\"\"\n",
    "    def __init__(self, lr=0.001, beta1=0.9, beta2=0.999):\n",
    "        self.lr = lr\n",
    "        self.beta1 = beta1\n",
    "        self.beta2 = beta2\n",
    "        self.iter = 0\n",
    "        self.m = None\n",
    "        self.v = None        \n",
    "    def update(self, params, grads):\n",
    "        if self.m is None:\n",
    "            self.m, self.v = {}, {}\n",
    "            for key, val in params.items():\n",
    "                self.m[key] = np.zeros_like(val)\n",
    "                self.v[key] = np.zeros_like(val)\n",
    "        self.iter += 1\n",
    "        lr_t  = self.lr * np.sqrt(1.0 - self.beta2**self.iter) / (1.0 - self.beta1**self.iter)         \n",
    "        for key in params.keys():\n",
    "            #self.m[key] = self.beta1*self.m[key] + (1-self.beta1)*grads[key]\n",
    "            #self.v[key] = self.beta2*self.v[key] + (1-self.beta2)*(grads[key]**2)\n",
    "            self.m[key] += (1 - self.beta1) * (grads[key] - self.m[key])\n",
    "            self.v[key] += (1 - self.beta2) * (grads[key]**2 - self.v[key])\n",
    "            \n",
    "            params[key] -= lr_t * self.m[key] / (np.sqrt(self.v[key]) + 1e-7)\n",
    "            \n",
    "            #unbias_m += (1 - self.beta1) * (grads[key] - self.m[key]) # correct bias\n",
    "            #unbisa_b += (1 - self.beta2) * (grads[key]*grads[key] - self.v[key]) # correct bias\n",
    "            #params[key] += self.lr * unbias_m / (np.sqrt(unbisa_b) + 1e-7)"
   ]
  },
  {
   "cell_type": "markdown",
   "metadata": {},
   "source": [
    "#### MNISTデータセットによる更新手法の比較"
   ]
  },
  {
   "cell_type": "code",
   "execution_count": 2,
   "metadata": {},
   "outputs": [
    {
     "name": "stdout",
     "output_type": "stream",
     "text": [
      "===========iteration:0===========\n",
      "AdaGrad:2.073306458903855\n",
      "SGD:2.523300165662966\n",
      "Adam:2.121038352570406\n",
      "Momentum:2.38792091140304\n",
      "===========iteration:100===========\n",
      "AdaGrad:0.2131088105273944\n",
      "SGD:1.6044179080128664\n",
      "Adam:0.3808571137285117\n",
      "Momentum:0.3969831247395848\n",
      "===========iteration:200===========\n",
      "AdaGrad:0.13124025086807267\n",
      "SGD:0.7830985515944628\n",
      "Adam:0.22064014047211133\n",
      "Momentum:0.3216731484452754\n",
      "===========iteration:300===========\n",
      "AdaGrad:0.06808923098744606\n",
      "SGD:0.6325237467606476\n",
      "Adam:0.16051907326110734\n",
      "Momentum:0.23042036201574118\n",
      "===========iteration:400===========\n",
      "AdaGrad:0.06313508623562003\n",
      "SGD:0.45209547106182657\n",
      "Adam:0.13090639195898196\n",
      "Momentum:0.16881274795022827\n",
      "===========iteration:500===========\n",
      "AdaGrad:0.0746353204854379\n",
      "SGD:0.33067102745064325\n",
      "Adam:0.12430283308476585\n",
      "Momentum:0.17795406996349522\n",
      "===========iteration:600===========\n",
      "AdaGrad:0.041437727939144256\n",
      "SGD:0.36918525431898697\n",
      "Adam:0.127014809423026\n",
      "Momentum:0.16947254478379217\n",
      "===========iteration:700===========\n",
      "AdaGrad:0.07854171706682012\n",
      "SGD:0.3318232246950431\n",
      "Adam:0.1209986514495654\n",
      "Momentum:0.14913166839228031\n",
      "===========iteration:800===========\n",
      "AdaGrad:0.05195006133127446\n",
      "SGD:0.3025152503875316\n",
      "Adam:0.10859296970221899\n",
      "Momentum:0.1732654572600429\n",
      "===========iteration:900===========\n",
      "AdaGrad:0.07781836733265007\n",
      "SGD:0.26347814560455185\n",
      "Adam:0.08727690727995363\n",
      "Momentum:0.15707644843134425\n",
      "===========iteration:1000===========\n",
      "AdaGrad:0.03065622516498518\n",
      "SGD:0.20389467073413406\n",
      "Adam:0.027024578641755104\n",
      "Momentum:0.07996497290843516\n",
      "===========iteration:1100===========\n",
      "AdaGrad:0.09872289321572919\n",
      "SGD:0.23547226998879367\n",
      "Adam:0.0934946021846558\n",
      "Momentum:0.14254957758981768\n",
      "===========iteration:1200===========\n",
      "AdaGrad:0.055191379811268274\n",
      "SGD:0.3109738353784294\n",
      "Adam:0.06514229213904917\n",
      "Momentum:0.1379175719410351\n",
      "===========iteration:1300===========\n",
      "AdaGrad:0.04387204579920525\n",
      "SGD:0.26196650572611313\n",
      "Adam:0.0625853256957209\n",
      "Momentum:0.09036903564636829\n",
      "===========iteration:1400===========\n",
      "AdaGrad:0.02219086430991235\n",
      "SGD:0.1877208319403718\n",
      "Adam:0.029426675946386555\n",
      "Momentum:0.0845638241078313\n",
      "===========iteration:1500===========\n",
      "AdaGrad:0.11608670588608397\n",
      "SGD:0.33773967606904787\n",
      "Adam:0.08622036049471533\n",
      "Momentum:0.21650175829174115\n",
      "===========iteration:1600===========\n",
      "AdaGrad:0.046115608649423\n",
      "SGD:0.25291991636150213\n",
      "Adam:0.09449451108675003\n",
      "Momentum:0.09031445958452815\n",
      "===========iteration:1700===========\n",
      "AdaGrad:0.03207546608854157\n",
      "SGD:0.16174878427926614\n",
      "Adam:0.019466190695012753\n",
      "Momentum:0.03876243380325855\n",
      "===========iteration:1800===========\n",
      "AdaGrad:0.014310622225061862\n",
      "SGD:0.17121837372399037\n",
      "Adam:0.0194596575829714\n",
      "Momentum:0.0393406117694879\n",
      "===========iteration:1900===========\n",
      "AdaGrad:0.020184199816534614\n",
      "SGD:0.20354824799564297\n",
      "Adam:0.021922311598918012\n",
      "Momentum:0.040479245423072255\n"
     ]
    },
    {
     "data": {
      "image/png": "[encoded data removed]",
      "text/plain": [
       "<matplotlib.figure.Figure at 0x7fc0fa1c3128>"
      ]
     },
     "metadata": {},
     "output_type": "display_data"
    }
   ],
   "source": [
    "# coding: utf-8\n",
    "import os\n",
    "import sys\n",
    "sys.path.append(os.pardir)  # 親ディレクトリのファイルをインポートするための設定\n",
    "import matplotlib.pyplot as plt\n",
    "from dataset.mnist import load_mnist\n",
    "from common.util import smooth_curve\n",
    "from common.multi_layer_net import MultiLayerNet\n",
    "from common.optimizer import *\n",
    "\n",
    "\n",
    "# 0:MNISTデータの読み込み==========\n",
    "(x_train, t_train), (x_test, t_test) = load_mnist(normalize=True)\n",
    "\n",
    "train_size = x_train.shape[0]\n",
    "batch_size = 128\n",
    "max_iterations = 2000\n",
    "\n",
    "\n",
    "# 1:実験の設定==========\n",
    "optimizers = {}\n",
    "optimizers['SGD'] = SGD()\n",
    "optimizers['Momentum'] = Momentum()\n",
    "optimizers['AdaGrad'] = AdaGrad()\n",
    "optimizers['Adam'] = Adam()\n",
    "#optimizers['RMSprop'] = RMSprop()\n",
    "\n",
    "networks = {}\n",
    "train_loss = {}\n",
    "for key in optimizers.keys():\n",
    "    networks[key] = MultiLayerNet(\n",
    "        input_size=784, hidden_size_list=[100, 100, 100, 100],\n",
    "        output_size=10)\n",
    "    train_loss[key] = []    \n",
    "\n",
    "\n",
    "# 2:訓練の開始==========\n",
    "for i in range(max_iterations):\n",
    "    batch_mask = np.random.choice(train_size, batch_size)\n",
    "    x_batch = x_train[batch_mask]\n",
    "    t_batch = t_train[batch_mask]\n",
    "    \n",
    "    for key in optimizers.keys():\n",
    "        grads = networks[key].gradient(x_batch, t_batch)\n",
    "        optimizers[key].update(networks[key].params, grads)\n",
    "    \n",
    "        loss = networks[key].loss(x_batch, t_batch)\n",
    "        train_loss[key].append(loss)\n",
    "    \n",
    "    if i % 100 == 0:\n",
    "        print( \"===========\" + \"iteration:\" + str(i) + \"===========\")\n",
    "        for key in optimizers.keys():\n",
    "            loss = networks[key].loss(x_batch, t_batch)\n",
    "            print(key + \":\" + str(loss))\n",
    "\n",
    "\n",
    "# 3.グラフの描画==========\n",
    "markers = {\"SGD\": \"o\", \"Momentum\": \"x\", \"AdaGrad\": \"s\", \"Adam\": \"D\"}\n",
    "x = np.arange(max_iterations)\n",
    "for key in optimizers.keys():\n",
    "    plt.plot(x, smooth_curve(train_loss[key]), marker=markers[key], markevery=100, label=key)\n",
    "plt.xlabel(\"iterations\")\n",
    "plt.ylabel(\"loss\")\n",
    "plt.ylim(0, 1)\n",
    "plt.legend()\n",
    "plt.show()\n"
   ]
  },
  {
   "cell_type": "markdown",
   "metadata": {},
   "source": [
    "__留意__\n",
    "* SGDは最初から最後まで学習に行き詰まっている\n",
    "* Momentumは振れ幅が大きい\n",
    "* Adamは最初の収束が早く振れ幅が少ない\n",
    "* AdaGradが最初の方で効率よく学習しそのままキープできている"
   ]
  },
  {
   "cell_type": "markdown",
   "metadata": {},
   "source": [
    "## 重みの初期値の調整による最適化"
   ]
  },
  {
   "cell_type": "markdown",
   "metadata": {},
   "source": [
    "### 重みの初期値を0にするのはNG"
   ]
  },
  {
   "cell_type": "markdown",
   "metadata": {},
   "source": [
    "これまではガウス分布（正規分布,np.random.randn）により生成される平均0標準偏差1のランダム分布から得られる重みを0.01倍して重みに割り当てていた。  それを例えばW = np.zeros_like(W)してしまうというのはバッドプラクティスである。  \n",
    "__ニューラルネットワークにおいて重みの初期値を各要素毎に均一に設定してしまうと誤差逆伝搬方で各層が均一の値で更新されてしまい__、層と層の間の計算に意味が無くなってしまうためである。"
   ]
  },
  {
   "cell_type": "markdown",
   "metadata": {},
   "source": [
    "### 隠れ層のアクティベーション分布から重みの初期値の最適な標準偏差を探る"
   ]
  },
  {
   "cell_type": "markdown",
   "metadata": {},
   "source": [
    "隠れ層のアクティベーション（活性化関数適用後の出力データ）の分布を観察することで、ニューラルネットワークのパラメータの調整に関して有効な手立てを考えることができる。重みの初期値を調整しアクティベーション分布に偏りなくさせてニューラルネットワークの「表現の制限」と「勾配消失（Gradient Vanishing）」を避けることが目標。"
   ]
  },
  {
   "cell_type": "markdown",
   "metadata": {},
   "source": [
    "### 重みの初期値（Sigmoid関数をアクティベーション関数にした場合）"
   ]
  },
  {
   "cell_type": "code",
   "execution_count": 14,
   "metadata": {},
   "outputs": [
    {
     "name": "stdout",
     "output_type": "stream",
     "text": [
      "標準偏差1の正規分布： w = np.random.randn(node_num, node_num) * 1\n"
     ]
    },
    {
     "data": {
      "image/png": "[encoded data removed]",
      "text/plain": [
       "<matplotlib.figure.Figure at 0x7fc0fa089358>"
      ]
     },
     "metadata": {},
     "output_type": "display_data"
    },
    {
     "name": "stdout",
     "output_type": "stream",
     "text": [
      "標準偏差0.01の正規分布： w = np.random.randn(node_num, node_num) * 0.01\n"
     ]
    },
    {
     "data": {
      "image/png": "[encoded data removed]",
      "text/plain": [
       "<matplotlib.figure.Figure at 0x7fc0f9caa908>"
      ]
     },
     "metadata": {},
     "output_type": "display_data"
    },
    {
     "name": "stdout",
     "output_type": "stream",
     "text": [
      "Xavierの初期値： w = np.random.randn(node_num, node_num) * np.sqrt(1.0 / node_num)\n"
     ]
    },
    {
     "data": {
      "image/png": "[encoded data removed]",
      "text/plain": [
       "<matplotlib.figure.Figure at 0x7fc0f99fe6a0>"
      ]
     },
     "metadata": {},
     "output_type": "display_data"
    },
    {
     "name": "stdout",
     "output_type": "stream",
     "text": [
      "Heの初期値： w = np.random.randn(node_num, node_num) * np.sqrt(2.0 / node_num)\n"
     ]
    },
    {
     "data": {
      "image/png": "[encoded data removed]",
      "text/plain": [
       "<matplotlib.figure.Figure at 0x7fc0f99fe9b0>"
      ]
     },
     "metadata": {},
     "output_type": "display_data"
    }
   ],
   "source": [
    "# coding: utf-8\n",
    "import numpy as np\n",
    "import matplotlib.pyplot as plt\n",
    "\n",
    "\n",
    "def sigmoid(x):\n",
    "    return 1 / (1 + np.exp(-x))\n",
    "\n",
    "\n",
    "def ReLU(x):\n",
    "    return np.maximum(0, x)\n",
    "\n",
    "\n",
    "def tanh(x):\n",
    "    return np.tanh(x)\n",
    "    \n",
    "input_data = np.random.randn(1000, 100)  # 1000個のデータ\n",
    "node_num = 100  # 各隠れ層のノード（ニューロン）の数\n",
    "hidden_layer_size = 5  # 隠れ層が5層\n",
    "activations = {}  # ここにアクティベーションの結果を格納する\n",
    "\n",
    "x = input_data\n",
    "print(\"標準偏差1の正規分布： w = np.random.randn(node_num, node_num) * 1\")\n",
    "for i in range(hidden_layer_size):\n",
    "    if i != 0:\n",
    "        x = activations[i-1]\n",
    "\n",
    "    # 初期値の値をいろいろ変えて実験しよう！\n",
    "    w = np.random.randn(node_num, node_num) * 1\n",
    "    # w = np.random.randn(node_num, node_num) * 0.01\n",
    "    # w = np.random.randn(node_num, node_num) * np.sqrt(1.0 / node_num)\n",
    "    # w = np.random.randn(node_num, node_num) * np.sqrt(2.0 / node_num)\n",
    "\n",
    "\n",
    "    a = np.dot(x, w)\n",
    "\n",
    "\n",
    "    # 活性化関数の種類も変えて実験しよう！\n",
    "    z = sigmoid(a)\n",
    "    # z = ReLU(a)\n",
    "    # z = tanh(a)\n",
    "\n",
    "    activations[i] = z\n",
    "\n",
    "# ヒストグラムを描画\n",
    "for i, a in activations.items():\n",
    "    plt.subplot(1, len(activations), i+1)\n",
    "    plt.title(str(i+1) + \"-layer\")\n",
    "    if i != 0: plt.yticks([], [])\n",
    "    # plt.xlim(0.1, 1)\n",
    "    # plt.ylim(0, 7000)\n",
    "    plt.hist(a.flatten(), 30, range=(0,1))\n",
    "plt.show()\n",
    "\n",
    "x = input_data\n",
    "\n",
    "print(\"標準偏差0.01の正規分布： w = np.random.randn(node_num, node_num) * 0.01\")\n",
    "for i in range(hidden_layer_size):\n",
    "    if i != 0:\n",
    "        x = activations[i-1]\n",
    "\n",
    "    # 初期値の値をいろいろ変えて実験しよう！\n",
    "    #w = np.random.randn(node_num, node_num) * 1\n",
    "    w = np.random.randn(node_num, node_num) * 0.01\n",
    "    # w = np.random.randn(node_num, node_num) * np.sqrt(1.0 / node_num)\n",
    "    # w = np.random.randn(node_num, node_num) * np.sqrt(2.0 / node_num)\n",
    "\n",
    "\n",
    "    a = np.dot(x, w)\n",
    "\n",
    "\n",
    "    # 活性化関数の種類も変えて実験しよう！\n",
    "    z = sigmoid(a)\n",
    "    # z = ReLU(a)\n",
    "    # z = tanh(a)\n",
    "\n",
    "    activations[i] = z\n",
    "\n",
    "# ヒストグラムを描画\n",
    "for i, a in activations.items():\n",
    "    plt.subplot(1, len(activations), i+1)\n",
    "    plt.title(str(i+1) + \"-layer\")\n",
    "    if i != 0: plt.yticks([], [])\n",
    "    # plt.xlim(0.1, 1)\n",
    "    # plt.ylim(0, 7000)\n",
    "    plt.hist(a.flatten(), 30, range=(0,1))\n",
    "plt.show()\n",
    "\n",
    "x = input_data\n",
    "\n",
    "print(\"Xavierの初期値： w = np.random.randn(node_num, node_num) * np.sqrt(1.0 / node_num)\")\n",
    "for i in range(hidden_layer_size):\n",
    "    if i != 0:\n",
    "        x = activations[i-1]\n",
    "\n",
    "    # 初期値の値をいろいろ変えて実験しよう！\n",
    "    #w = np.random.randn(node_num, node_num) * 1\n",
    "    #w = np.random.randn(node_num, node_num) * 0.01\n",
    "    w = np.random.randn(node_num, node_num) * np.sqrt(1.0 / node_num)\n",
    "    # w = np.random.randn(node_num, node_num) * np.sqrt(2.0 / node_num)\n",
    "\n",
    "\n",
    "    a = np.dot(x, w)\n",
    "\n",
    "\n",
    "    # 活性化関数の種類も変えて実験しよう！\n",
    "    z = sigmoid(a)\n",
    "    # z = ReLU(a)\n",
    "    # z = tanh(a)\n",
    "\n",
    "    activations[i] = z\n",
    "\n",
    "# ヒストグラムを描画\n",
    "for i, a in activations.items():\n",
    "    plt.subplot(1, len(activations), i+1)\n",
    "    plt.title(str(i+1) + \"-layer\")\n",
    "    if i != 0: plt.yticks([], [])\n",
    "    # plt.xlim(0.1, 1)\n",
    "    # plt.ylim(0, 7000)\n",
    "    plt.hist(a.flatten(), 30, range=(0,1))\n",
    "plt.show()\n",
    "\n",
    "x = input_data\n",
    "\n",
    "print(\"Heの初期値： w = np.random.randn(node_num, node_num) * np.sqrt(2.0 / node_num)\")\n",
    "for i in range(hidden_layer_size):\n",
    "    if i != 0:\n",
    "        x = activations[i-1]\n",
    "\n",
    "    # 初期値の値をいろいろ変えて実験しよう！\n",
    "    #w = np.random.randn(node_num, node_num) * 1\n",
    "    #w = np.random.randn(node_num, node_num) * 0.01\n",
    "    #w = np.random.randn(node_num, node_num) * np.sqrt(1.0 / node_num)\n",
    "    w = np.random.randn(node_num, node_num) * np.sqrt(2.0 / node_num)\n",
    "\n",
    "\n",
    "    a = np.dot(x, w)\n",
    "\n",
    "\n",
    "    # 活性化関数の種類も変えて実験しよう！\n",
    "    z = sigmoid(a)\n",
    "    # z = ReLU(a)\n",
    "    # z = tanh(a)\n",
    "\n",
    "    activations[i] = z\n",
    "\n",
    "# ヒストグラムを描画\n",
    "for i, a in activations.items():\n",
    "    plt.subplot(1, len(activations), i+1)\n",
    "    plt.title(str(i+1) + \"-layer\")\n",
    "    if i != 0: plt.yticks([], [])\n",
    "    # plt.xlim(0.1, 1)\n",
    "    # plt.ylim(0, 7000)\n",
    "    plt.hist(a.flatten(), 30, range=(0,1))\n",
    "plt.show()\n"
   ]
  },
  {
   "cell_type": "markdown",
   "metadata": {},
   "source": [
    "### 重みの初期値（ReLU関数をアクティベーション関数にした場合）"
   ]
  },
  {
   "cell_type": "code",
   "execution_count": 15,
   "metadata": {},
   "outputs": [
    {
     "name": "stdout",
     "output_type": "stream",
     "text": [
      "標準偏差1の正規分布： w = np.random.randn(node_num, node_num) * 1\n"
     ]
    },
    {
     "data": {
      "image/png": "[encoded data removed]",
      "text/plain": [
       "<matplotlib.figure.Figure at 0x7fc0f98d0668>"
      ]
     },
     "metadata": {},
     "output_type": "display_data"
    },
    {
     "name": "stdout",
     "output_type": "stream",
     "text": [
      "標準偏差0.01の正規分布： w = np.random.randn(node_num, node_num) * 0.01\n"
     ]
    },
    {
     "data": {
      "image/png": "[encoded data removed]",
      "text/plain": [
       "<matplotlib.figure.Figure at 0x7fc0f9cde908>"
      ]
     },
     "metadata": {},
     "output_type": "display_data"
    },
    {
     "name": "stdout",
     "output_type": "stream",
     "text": [
      "Xavierの初期値： w = np.random.randn(node_num, node_num) * np.sqrt(1.0 / node_num)\n"
     ]
    },
    {
     "data": {
      "image/png": "[encoded data removed]",
      "text/plain": [
       "<matplotlib.figure.Figure at 0x7fc0f9c8a278>"
      ]
     },
     "metadata": {},
     "output_type": "display_data"
    },
    {
     "name": "stdout",
     "output_type": "stream",
     "text": [
      "Heの初期値： w = np.random.randn(node_num, node_num) * np.sqrt(2.0 / node_num)\n"
     ]
    },
    {
     "data": {
      "image/png": "[encoded data removed]",
      "text/plain": [
       "<matplotlib.figure.Figure at 0x7fc0f9d13438>"
      ]
     },
     "metadata": {},
     "output_type": "display_data"
    }
   ],
   "source": [
    "# coding: utf-8\n",
    "import numpy as np\n",
    "import matplotlib.pyplot as plt\n",
    "\n",
    "\n",
    "def sigmoid(x):\n",
    "    return 1 / (1 + np.exp(-x))\n",
    "\n",
    "\n",
    "def ReLU(x):\n",
    "    return np.maximum(0, x)\n",
    "\n",
    "\n",
    "def tanh(x):\n",
    "    return np.tanh(x)\n",
    "    \n",
    "input_data = np.random.randn(1000, 100)  # 1000個のデータ\n",
    "node_num = 100  # 各隠れ層のノード（ニューロン）の数\n",
    "hidden_layer_size = 5  # 隠れ層が5層\n",
    "activations = {}  # ここにアクティベーションの結果を格納する\n",
    "\n",
    "x = input_data\n",
    "print(\"標準偏差1の正規分布： w = np.random.randn(node_num, node_num) * 1\")\n",
    "for i in range(hidden_layer_size):\n",
    "    if i != 0:\n",
    "        x = activations[i-1]\n",
    "\n",
    "    # 初期値の値をいろいろ変えて実験しよう！\n",
    "    w = np.random.randn(node_num, node_num) * 1\n",
    "    # w = np.random.randn(node_num, node_num) * 0.01\n",
    "    # w = np.random.randn(node_num, node_num) * np.sqrt(1.0 / node_num)\n",
    "    # w = np.random.randn(node_num, node_num) * np.sqrt(2.0 / node_num)\n",
    "\n",
    "\n",
    "    a = np.dot(x, w)\n",
    "\n",
    "\n",
    "    # 活性化関数の種類も変えて実験しよう！\n",
    "    #z = sigmoid(a)\n",
    "    z = ReLU(a)\n",
    "    # z = tanh(a)\n",
    "\n",
    "    activations[i] = z\n",
    "\n",
    "# ヒストグラムを描画\n",
    "for i, a in activations.items():\n",
    "    plt.subplot(1, len(activations), i+1)\n",
    "    plt.title(str(i+1) + \"-layer\")\n",
    "    if i != 0: plt.yticks([], [])\n",
    "    # plt.xlim(0.1, 1)\n",
    "    # plt.ylim(0, 7000)\n",
    "    plt.hist(a.flatten(), 30, range=(0,1))\n",
    "plt.show()\n",
    "\n",
    "x = input_data\n",
    "\n",
    "print(\"標準偏差0.01の正規分布： w = np.random.randn(node_num, node_num) * 0.01\")\n",
    "for i in range(hidden_layer_size):\n",
    "    if i != 0:\n",
    "        x = activations[i-1]\n",
    "\n",
    "    # 初期値の値をいろいろ変えて実験しよう！\n",
    "    #w = np.random.randn(node_num, node_num) * 1\n",
    "    w = np.random.randn(node_num, node_num) * 0.01\n",
    "    # w = np.random.randn(node_num, node_num) * np.sqrt(1.0 / node_num)\n",
    "    # w = np.random.randn(node_num, node_num) * np.sqrt(2.0 / node_num)\n",
    "\n",
    "\n",
    "    a = np.dot(x, w)\n",
    "\n",
    "\n",
    "    # 活性化関数の種類も変えて実験しよう！\n",
    "    #z = sigmoid(a)\n",
    "    z = ReLU(a)\n",
    "    # z = tanh(a)\n",
    "\n",
    "    activations[i] = z\n",
    "\n",
    "# ヒストグラムを描画\n",
    "for i, a in activations.items():\n",
    "    plt.subplot(1, len(activations), i+1)\n",
    "    plt.title(str(i+1) + \"-layer\")\n",
    "    if i != 0: plt.yticks([], [])\n",
    "    # plt.xlim(0.1, 1)\n",
    "    # plt.ylim(0, 7000)\n",
    "    plt.hist(a.flatten(), 30, range=(0,1))\n",
    "plt.show()\n",
    "\n",
    "x = input_data\n",
    "\n",
    "print(\"Xavierの初期値： w = np.random.randn(node_num, node_num) * np.sqrt(1.0 / node_num)\")\n",
    "for i in range(hidden_layer_size):\n",
    "    if i != 0:\n",
    "        x = activations[i-1]\n",
    "\n",
    "    # 初期値の値をいろいろ変えて実験しよう！\n",
    "    #w = np.random.randn(node_num, node_num) * 1\n",
    "    #w = np.random.randn(node_num, node_num) * 0.01\n",
    "    w = np.random.randn(node_num, node_num) * np.sqrt(1.0 / node_num)\n",
    "    # w = np.random.randn(node_num, node_num) * np.sqrt(2.0 / node_num)\n",
    "\n",
    "\n",
    "    a = np.dot(x, w)\n",
    "\n",
    "\n",
    "    # 活性化関数の種類も変えて実験しよう！\n",
    "    #z = sigmoid(a)\n",
    "    z = ReLU(a)\n",
    "    # z = tanh(a)\n",
    "\n",
    "    activations[i] = z\n",
    "\n",
    "# ヒストグラムを描画\n",
    "for i, a in activations.items():\n",
    "    plt.subplot(1, len(activations), i+1)\n",
    "    plt.title(str(i+1) + \"-layer\")\n",
    "    if i != 0: plt.yticks([], [])\n",
    "    # plt.xlim(0.1, 1)\n",
    "    # plt.ylim(0, 7000)\n",
    "    plt.hist(a.flatten(), 30, range=(0,1))\n",
    "plt.show()\n",
    "\n",
    "x = input_data\n",
    "\n",
    "print(\"Heの初期値： w = np.random.randn(node_num, node_num) * np.sqrt(2.0 / node_num)\")\n",
    "for i in range(hidden_layer_size):\n",
    "    if i != 0:\n",
    "        x = activations[i-1]\n",
    "\n",
    "    # 初期値の値をいろいろ変えて実験しよう！\n",
    "    #w = np.random.randn(node_num, node_num) * 1\n",
    "    #w = np.random.randn(node_num, node_num) * 0.01\n",
    "    #w = np.random.randn(node_num, node_num) * np.sqrt(1.0 / node_num)\n",
    "    w = np.random.randn(node_num, node_num) * np.sqrt(2.0 / node_num)\n",
    "\n",
    "\n",
    "    a = np.dot(x, w)\n",
    "\n",
    "\n",
    "    # 活性化関数の種類も変えて実験しよう！\n",
    "    #z = sigmoid(a)\n",
    "    z = ReLU(a)\n",
    "    # z = tanh(a)\n",
    "\n",
    "    activations[i] = z\n",
    "\n",
    "# ヒストグラムを描画\n",
    "for i, a in activations.items():\n",
    "    plt.subplot(1, len(activations), i+1)\n",
    "    plt.title(str(i+1) + \"-layer\")\n",
    "    if i != 0: plt.yticks([], [])\n",
    "    # plt.xlim(0.1, 1)\n",
    "    # plt.ylim(0, 7000)\n",
    "    plt.hist(a.flatten(), 30, range=(0,1))\n",
    "plt.show()\n"
   ]
  },
  {
   "cell_type": "markdown",
   "metadata": {},
   "source": [
    "### 重みの初期値（tanh関数をアクティベーション関数にした場合）"
   ]
  },
  {
   "cell_type": "code",
   "execution_count": 16,
   "metadata": {},
   "outputs": [
    {
     "name": "stdout",
     "output_type": "stream",
     "text": [
      "標準偏差1の正規分布： w = np.random.randn(node_num, node_num) * 1\n"
     ]
    },
    {
     "data": {
      "image/png": "[encoded data removed]",
      "text/plain": [
       "<matplotlib.figure.Figure at 0x7fc0f98d0550>"
      ]
     },
     "metadata": {},
     "output_type": "display_data"
    },
    {
     "name": "stdout",
     "output_type": "stream",
     "text": [
      "標準偏差0.01の正規分布： w = np.random.randn(node_num, node_num) * 0.01\n"
     ]
    },
    {
     "data": {
      "image/png": "[encoded data removed]",
      "text/plain": [
       "<matplotlib.figure.Figure at 0x7fc0f95905f8>"
      ]
     },
     "metadata": {},
     "output_type": "display_data"
    },
    {
     "name": "stdout",
     "output_type": "stream",
     "text": [
      "Xavierの初期値： w = np.random.randn(node_num, node_num) * np.sqrt(1.0 / node_num)\n"
     ]
    },
    {
     "data": {
      "image/png": "[encoded data removed]",
      "text/plain": [
       "<matplotlib.figure.Figure at 0x7fc0fa1e2f28>"
      ]
     },
     "metadata": {},
     "output_type": "display_data"
    },
    {
     "name": "stdout",
     "output_type": "stream",
     "text": [
      "Heの初期値： w = np.random.randn(node_num, node_num) * np.sqrt(2.0 / node_num)\n"
     ]
    },
    {
     "data": {
      "image/png": "[encoded data removed]",
      "text/plain": [
       "<matplotlib.figure.Figure at 0x7fc0f9db0fd0>"
      ]
     },
     "metadata": {},
     "output_type": "display_data"
    }
   ],
   "source": [
    "# coding: utf-8\n",
    "import numpy as np\n",
    "import matplotlib.pyplot as plt\n",
    "\n",
    "\n",
    "def sigmoid(x):\n",
    "    return 1 / (1 + np.exp(-x))\n",
    "\n",
    "\n",
    "def ReLU(x):\n",
    "    return np.maximum(0, x)\n",
    "\n",
    "\n",
    "def tanh(x):\n",
    "    return np.tanh(x)\n",
    "    \n",
    "input_data = np.random.randn(1000, 100)  # 1000個のデータ\n",
    "node_num = 100  # 各隠れ層のノード（ニューロン）の数\n",
    "hidden_layer_size = 5  # 隠れ層が5層\n",
    "activations = {}  # ここにアクティベーションの結果を格納する\n",
    "\n",
    "x = input_data\n",
    "print(\"標準偏差1の正規分布： w = np.random.randn(node_num, node_num) * 1\")\n",
    "for i in range(hidden_layer_size):\n",
    "    if i != 0:\n",
    "        x = activations[i-1]\n",
    "\n",
    "    # 初期値の値をいろいろ変えて実験しよう！\n",
    "    w = np.random.randn(node_num, node_num) * 1\n",
    "    # w = np.random.randn(node_num, node_num) * 0.01\n",
    "    # w = np.random.randn(node_num, node_num) * np.sqrt(1.0 / node_num)\n",
    "    # w = np.random.randn(node_num, node_num) * np.sqrt(2.0 / node_num)\n",
    "\n",
    "\n",
    "    a = np.dot(x, w)\n",
    "\n",
    "\n",
    "    # 活性化関数の種類も変えて実験しよう！\n",
    "    z = sigmoid(a)\n",
    "    #z = ReLU(a)\n",
    "    # z = tanh(a)\n",
    "\n",
    "    activations[i] = z\n",
    "\n",
    "# ヒストグラムを描画\n",
    "for i, a in activations.items():\n",
    "    plt.subplot(1, len(activations), i+1)\n",
    "    plt.title(str(i+1) + \"-layer\")\n",
    "    if i != 0: plt.yticks([], [])\n",
    "    # plt.xlim(0.1, 1)\n",
    "    # plt.ylim(0, 7000)\n",
    "    plt.hist(a.flatten(), 30, range=(0,1))\n",
    "plt.show()\n",
    "\n",
    "x = input_data\n",
    "\n",
    "print(\"標準偏差0.01の正規分布： w = np.random.randn(node_num, node_num) * 0.01\")\n",
    "for i in range(hidden_layer_size):\n",
    "    if i != 0:\n",
    "        x = activations[i-1]\n",
    "\n",
    "    # 初期値の値をいろいろ変えて実験しよう！\n",
    "    #w = np.random.randn(node_num, node_num) * 1\n",
    "    w = np.random.randn(node_num, node_num) * 0.01\n",
    "    # w = np.random.randn(node_num, node_num) * np.sqrt(1.0 / node_num)\n",
    "    # w = np.random.randn(node_num, node_num) * np.sqrt(2.0 / node_num)\n",
    "\n",
    "\n",
    "    a = np.dot(x, w)\n",
    "\n",
    "\n",
    "    # 活性化関数の種類も変えて実験しよう！\n",
    "    #z = sigmoid(a)\n",
    "    #z = ReLU(a)\n",
    "    z = tanh(a)\n",
    "\n",
    "    activations[i] = z\n",
    "\n",
    "# ヒストグラムを描画\n",
    "for i, a in activations.items():\n",
    "    plt.subplot(1, len(activations), i+1)\n",
    "    plt.title(str(i+1) + \"-layer\")\n",
    "    if i != 0: plt.yticks([], [])\n",
    "    # plt.xlim(0.1, 1)\n",
    "    # plt.ylim(0, 7000)\n",
    "    plt.hist(a.flatten(), 30, range=(0,1))\n",
    "plt.show()\n",
    "\n",
    "x = input_data\n",
    "\n",
    "print(\"Xavierの初期値： w = np.random.randn(node_num, node_num) * np.sqrt(1.0 / node_num)\")\n",
    "for i in range(hidden_layer_size):\n",
    "    if i != 0:\n",
    "        x = activations[i-1]\n",
    "\n",
    "    # 初期値の値をいろいろ変えて実験しよう！\n",
    "    #w = np.random.randn(node_num, node_num) * 1\n",
    "    #w = np.random.randn(node_num, node_num) * 0.01\n",
    "    w = np.random.randn(node_num, node_num) * np.sqrt(1.0 / node_num)\n",
    "    # w = np.random.randn(node_num, node_num) * np.sqrt(2.0 / node_num)\n",
    "\n",
    "\n",
    "    a = np.dot(x, w)\n",
    "\n",
    "\n",
    "    # 活性化関数の種類も変えて実験しよう！\n",
    "    #z = sigmoid(a)\n",
    "    #z = ReLU(a)\n",
    "    z = tanh(a)\n",
    "\n",
    "    activations[i] = z\n",
    "\n",
    "# ヒストグラムを描画\n",
    "for i, a in activations.items():\n",
    "    plt.subplot(1, len(activations), i+1)\n",
    "    plt.title(str(i+1) + \"-layer\")\n",
    "    if i != 0: plt.yticks([], [])\n",
    "    # plt.xlim(0.1, 1)\n",
    "    # plt.ylim(0, 7000)\n",
    "    plt.hist(a.flatten(), 30, range=(0,1))\n",
    "plt.show()\n",
    "\n",
    "x = input_data\n",
    "\n",
    "print(\"Heの初期値： w = np.random.randn(node_num, node_num) * np.sqrt(2.0 / node_num)\")\n",
    "for i in range(hidden_layer_size):\n",
    "    if i != 0:\n",
    "        x = activations[i-1]\n",
    "\n",
    "    # 初期値の値をいろいろ変えて実験しよう！\n",
    "    #w = np.random.randn(node_num, node_num) * 1\n",
    "    #w = np.random.randn(node_num, node_num) * 0.01\n",
    "    #w = np.random.randn(node_num, node_num) * np.sqrt(1.0 / node_num)\n",
    "    w = np.random.randn(node_num, node_num) * np.sqrt(2.0 / node_num)\n",
    "\n",
    "\n",
    "    a = np.dot(x, w)\n",
    "\n",
    "\n",
    "    # 活性化関数の種類も変えて実験しよう！\n",
    "    #z = sigmoid(a)\n",
    "    #z = ReLU(a)\n",
    "    z = tanh(a)\n",
    "\n",
    "    activations[i] = z\n",
    "\n",
    "# ヒストグラムを描画\n",
    "for i, a in activations.items():\n",
    "    plt.subplot(1, len(activations), i+1)\n",
    "    plt.title(str(i+1) + \"-layer\")\n",
    "    if i != 0: plt.yticks([], [])\n",
    "    # plt.xlim(0.1, 1)\n",
    "    # plt.ylim(0, 7000)\n",
    "    plt.hist(a.flatten(), 30, range=(0,1))\n",
    "plt.show()\n"
   ]
  },
  {
   "cell_type": "markdown",
   "metadata": {},
   "source": [
    "### ベストプラクティス：アクティベーション関数がReLU関数ならHeの初期値を、アクティベーション関数がSigmoid関数ならXavierの初期値を、アクティベーション関数がtanh関数なら・・・？"
   ]
  },
  {
   "cell_type": "markdown",
   "metadata": {},
   "source": [
    "#### ReLU関数をアクティベーション関数として持ったMNISTニューラルネットワークに対するの重み初期値分布による誤差比較"
   ]
  },
  {
   "cell_type": "code",
   "execution_count": 28,
   "metadata": {},
   "outputs": [
    {
     "name": "stdout",
     "output_type": "stream",
     "text": [
      "===========iteration:0===========\n",
      "std=0.01:2.3025047128640304\n",
      "Xavier:2.313383374896556\n",
      "He:2.352801464350353\n",
      "===========iteration:100===========\n",
      "std=0.01:2.30188197530518\n",
      "Xavier:2.2583643765094026\n",
      "He:1.6330238543552074\n",
      "===========iteration:200===========\n",
      "std=0.01:2.30225644165031\n",
      "Xavier:2.127229207938062\n",
      "He:0.8634702094812619\n",
      "===========iteration:300===========\n",
      "std=0.01:2.301582259289641\n",
      "Xavier:1.8551789364382827\n",
      "He:0.5666139899888614\n",
      "===========iteration:400===========\n",
      "std=0.01:2.301262224991351\n",
      "Xavier:1.448088413431125\n",
      "He:0.5453957233261428\n",
      "===========iteration:500===========\n",
      "std=0.01:2.304384023598031\n",
      "Xavier:0.9737266777861089\n",
      "He:0.45937795981259955\n",
      "===========iteration:600===========\n",
      "std=0.01:2.301924097038047\n",
      "Xavier:0.6974414715127122\n",
      "He:0.40279157119477155\n",
      "===========iteration:700===========\n",
      "std=0.01:2.3049056291970613\n",
      "Xavier:0.6206533838797386\n",
      "He:0.3511152901133047\n",
      "===========iteration:800===========\n",
      "std=0.01:2.3021688467700567\n",
      "Xavier:0.5277811176619274\n",
      "He:0.31619016329750155\n",
      "===========iteration:900===========\n",
      "std=0.01:2.305490581934902\n",
      "Xavier:0.5316058519119236\n",
      "He:0.3863825629734081\n",
      "===========iteration:1000===========\n",
      "std=0.01:2.3019716689938097\n",
      "Xavier:0.33345604396308015\n",
      "He:0.19290576757400066\n",
      "===========iteration:1100===========\n",
      "std=0.01:2.3047431769893496\n",
      "Xavier:0.32166373878701876\n",
      "He:0.19660967913562705\n",
      "===========iteration:1200===========\n",
      "std=0.01:2.3065100112564387\n",
      "Xavier:0.3919677636547596\n",
      "He:0.2811031060728417\n",
      "===========iteration:1300===========\n",
      "std=0.01:2.298382991120612\n",
      "Xavier:0.3256385951040112\n",
      "He:0.23813610990007453\n",
      "===========iteration:1400===========\n",
      "std=0.01:2.3002620821553146\n",
      "Xavier:0.19148429374938503\n",
      "He:0.1170751590197682\n",
      "===========iteration:1500===========\n",
      "std=0.01:2.3102575567578034\n",
      "Xavier:0.2768294280683701\n",
      "He:0.17432819226626506\n",
      "===========iteration:1600===========\n",
      "std=0.01:2.296022719092897\n",
      "Xavier:0.3269595160743929\n",
      "He:0.2578675253280397\n",
      "===========iteration:1700===========\n",
      "std=0.01:2.2974744452575573\n",
      "Xavier:0.2851566039208631\n",
      "He:0.21482860725066988\n",
      "===========iteration:1800===========\n",
      "std=0.01:2.305259722415504\n",
      "Xavier:0.3747880669248833\n",
      "He:0.28387139627777247\n",
      "===========iteration:1900===========\n",
      "std=0.01:2.2960603606317145\n",
      "Xavier:0.30538080507020426\n",
      "He:0.21328616728326982\n"
     ]
    },
    {
     "data": {
      "image/png": "[encoded data removed]",
      "text/plain": [
       "<matplotlib.figure.Figure at 0x7fc0fcf4ceb8>"
      ]
     },
     "metadata": {},
     "output_type": "display_data"
    }
   ],
   "source": [
    "# coding: utf-8\n",
    "import os\n",
    "import sys\n",
    "\n",
    "sys.path.append(os.pardir)  # 親ディレクトリのファイルをインポートするための設定\n",
    "import numpy as np\n",
    "import matplotlib.pyplot as plt\n",
    "from dataset.mnist import load_mnist\n",
    "from common.util import smooth_curve\n",
    "from common.multi_layer_net import MultiLayerNet\n",
    "from common.optimizer import SGD\n",
    "\n",
    "\n",
    "# 0:MNISTデータの読み込み==========\n",
    "(x_train, t_train), (x_test, t_test) = load_mnist(normalize=True)\n",
    "\n",
    "train_size = x_train.shape[0]\n",
    "batch_size = 128\n",
    "max_iterations = 2000\n",
    "\n",
    "\n",
    "# 1:実験の設定==========\n",
    "weight_init_types = {'std=0.01': 0.01, 'Xavier': 'sigmoid', 'He': 'relu'}\n",
    "optimizer = SGD(lr=0.01)\n",
    "\n",
    "networks = {}\n",
    "train_loss = {}\n",
    "for key, weight_type in weight_init_types.items():\n",
    "    networks[key] = MultiLayerNet(input_size=784, hidden_size_list=[100, 100, 100, 100],\n",
    "                                  output_size=10, weight_init_std=weight_type)\n",
    "    train_loss[key] = []\n",
    "\n",
    "\n",
    "# 2:訓練の開始==========\n",
    "for i in range(max_iterations):\n",
    "    batch_mask = np.random.choice(train_size, batch_size)\n",
    "    x_batch = x_train[batch_mask]\n",
    "    t_batch = t_train[batch_mask]\n",
    "    \n",
    "    for key in weight_init_types.keys():\n",
    "        grads = networks[key].gradient(x_batch, t_batch)\n",
    "        optimizer.update(networks[key].params, grads)\n",
    "    \n",
    "        loss = networks[key].loss(x_batch, t_batch)\n",
    "        train_loss[key].append(loss)\n",
    "    \n",
    "    if i % 100 == 0:\n",
    "        print(\"===========\" + \"iteration:\" + str(i) + \"===========\")\n",
    "        for key in weight_init_types.keys():\n",
    "            loss = networks[key].loss(x_batch, t_batch)\n",
    "            print(key + \":\" + str(loss))\n",
    "\n",
    "\n",
    "# 3.グラフの描画==========\n",
    "markers = {'std=0.01': 'o', 'Xavier': 's', 'He': 'D'}\n",
    "x = np.arange(max_iterations)\n",
    "for key in weight_init_types.keys():\n",
    "    plt.plot(x, smooth_curve(train_loss[key]), marker=markers[key], markevery=100, label=key)\n",
    "plt.xlabel(\"iterations\")\n",
    "plt.ylabel(\"loss\")\n",
    "plt.ylim(0, 2.5)\n",
    "plt.legend()\n",
    "plt.show()"
   ]
  },
  {
   "cell_type": "markdown",
   "metadata": {},
   "source": [
    "先述の通り、Heの初期値で学習が上手くいっている（誤差が減衰していっている）ことを確認する。これは\n",
    "```python\n",
    "networks[key] = MultiLayerNet(input_size=784, hidden_size_list=[100, 100, 100, 100],\n",
    "                                  output_size=10, weight_init_std=weight_type)\n",
    "```\n",
    "がReLU関数をアクティベーション関数としてもっているからである。今回は5層 x100個のニューロンのニューラルネットワークでMNISTの手書き文字を学習する際のケースである。"
   ]
  },
  {
   "cell_type": "markdown",
   "metadata": {},
   "source": [
    "__アクティバーション関数によって発火されるニューロンの分布が偏った場合は学習以前の問題であり、もし偏りにより発火しなかった／発火の度合いが極端に低いニューロンにより引き起こされる学習が滞ってしまう。（学習の結果ニューロンの発火が起こらないのではなく、学習パラメータの設定が偏った結果発火が起こらないというのは正当なアクティベーションとは呼ばない）__"
   ]
  },
  {
   "cell_type": "markdown",
   "metadata": {},
   "source": [
    "## Batch Normalization"
   ]
  },
  {
   "cell_type": "markdown",
   "metadata": {},
   "source": [
    "先述では各層での「発火分布の正規化」をすることで学習の偏りを無くすということをしたがBatch Normalizationでは「各層の中の、ミニバッチ処理の中での発火分布の正規化」をすることで学習の方よりを無くす。以下のメリットがある。  \n",
    "- 学習を速く進行させることが出来る（学習係数を大きくすることが出来る）\n",
    "- 初期値にそれほど依存しない\n",
    "- 過学習を抑制する（Dropoutなどの必要性を減らす）\n",
    "  \n"
   ]
  },
  {
   "cell_type": "markdown",
   "metadata": {},
   "source": [
    "### Batch Normalization とは"
   ]
  },
  {
   "cell_type": "code",
   "execution_count": 25,
   "metadata": {},
   "outputs": [
    {
     "data": {
      "image/svg+xml": [
       "<?xml version=\"1.0\" encoding=\"UTF-8\" standalone=\"no\"?>\n",
       "<!DOCTYPE svg PUBLIC \"-//W3C//DTD SVG 1.1//EN\"\n",
       " \"http://www.w3.org/Graphics/SVG/1.1/DTD/svg11.dtd\">\n",
       "<!-- Generated by graphviz version 2.38.0 (20140413.2041)\n",
       " -->\n",
       "<!-- Title: %3 Pages: 1 -->\n",
       "<svg width=\"312pt\" height=\"819pt\"\n",
       " viewBox=\"0.00 0.00 312.00 819.00\" xmlns=\"http://www.w3.org/2000/svg\" xmlns:xlink=\"http://www.w3.org/1999/xlink\">\n",
       "<g id=\"graph0\" class=\"graph\" transform=\"scale(1 1) rotate(0) translate(4 815)\">\n",
       "<title>%3</title>\n",
       "<polygon fill=\"white\" stroke=\"none\" points=\"-4,4 -4,-815 308,-815 308,4 -4,4\"/>\n",
       "<text text-anchor=\"middle\" x=\"152\" y=\"-7.8\" font-family=\"Times,serif\" font-size=\"14.00\">Batch Normalization: バッチ毎に正規化処理を行う</text>\n",
       "<g id=\"clust2\" class=\"cluster\"><title>cluster_L1</title>\n",
       "<polygon fill=\"none\" stroke=\"white\" points=\"110,-751 110,-803 194,-803 194,-751 110,-751\"/>\n",
       "</g>\n",
       "<g id=\"clust3\" class=\"cluster\"><title>cluster_L2</title>\n",
       "<polygon fill=\"none\" stroke=\"white\" points=\"110,-679 110,-731 194,-731 194,-679 110,-679\"/>\n",
       "</g>\n",
       "<g id=\"clust4\" class=\"cluster\"><title>cluster_L3</title>\n",
       "<polygon fill=\"none\" stroke=\"white\" points=\"51,-607 51,-659 253,-659 253,-607 51,-607\"/>\n",
       "</g>\n",
       "<g id=\"clust5\" class=\"cluster\"><title>cluster_L4</title>\n",
       "<polygon fill=\"none\" stroke=\"white\" points=\"112,-535 112,-587 192,-587 192,-535 112,-535\"/>\n",
       "</g>\n",
       "<g id=\"clust6\" class=\"cluster\"><title>cluster_L5</title>\n",
       "<polygon fill=\"none\" stroke=\"white\" points=\"110,-463 110,-515 194,-515 194,-463 110,-463\"/>\n",
       "</g>\n",
       "<g id=\"clust7\" class=\"cluster\"><title>cluster_L6</title>\n",
       "<polygon fill=\"none\" stroke=\"white\" points=\"51,-391 51,-443 253,-443 253,-391 51,-391\"/>\n",
       "</g>\n",
       "<g id=\"clust8\" class=\"cluster\"><title>cluster_L7</title>\n",
       "<polygon fill=\"none\" stroke=\"white\" points=\"112,-319 112,-371 192,-371 192,-319 112,-319\"/>\n",
       "</g>\n",
       "<g id=\"clust9\" class=\"cluster\"><title>cluster_L8</title>\n",
       "<polygon fill=\"none\" stroke=\"white\" points=\"110,-247 110,-299 194,-299 194,-247 110,-247\"/>\n",
       "</g>\n",
       "<g id=\"clust10\" class=\"cluster\"><title>cluster_L9</title>\n",
       "<polygon fill=\"none\" stroke=\"white\" points=\"51,-175 51,-227 253,-227 253,-175 51,-175\"/>\n",
       "</g>\n",
       "<g id=\"clust11\" class=\"cluster\"><title>cluster_L10</title>\n",
       "<polygon fill=\"none\" stroke=\"white\" points=\"102,-103 102,-155 202,-155 202,-103 102,-103\"/>\n",
       "</g>\n",
       "<g id=\"clust12\" class=\"cluster\"><title>cluster_L11</title>\n",
       "<polygon fill=\"none\" stroke=\"white\" points=\"104,-31 104,-83 200,-83 200,-31 104,-31\"/>\n",
       "</g>\n",
       "<!-- main.L1N1 -->\n",
       "<g id=\"node1\" class=\"node\"><title>main.L1N1</title>\n",
       "<ellipse fill=\"none\" stroke=\"white\" cx=\"152\" cy=\"-777\" rx=\"34.394\" ry=\"18\"/>\n",
       "<text text-anchor=\"middle\" x=\"152\" y=\"-773.3\" font-family=\"Times,serif\" font-size=\"14.00\">InData</text>\n",
       "</g>\n",
       "<!-- main.L2N1 -->\n",
       "<g id=\"node2\" class=\"node\"><title>main.L2N1</title>\n",
       "<ellipse fill=\"none\" stroke=\"black\" cx=\"152\" cy=\"-705\" rx=\"33.5952\" ry=\"18\"/>\n",
       "<text text-anchor=\"middle\" x=\"152\" y=\"-701.3\" font-family=\"Times,serif\" font-size=\"14.00\">Affine</text>\n",
       "</g>\n",
       "<!-- main.L1N1&#45;&gt;main.L2N1 -->\n",
       "<g id=\"edge1\" class=\"edge\"><title>main.L1N1&#45;&gt;main.L2N1</title>\n",
       "<path fill=\"none\" stroke=\"black\" d=\"M152,-758.697C152,-750.983 152,-741.712 152,-733.112\"/>\n",
       "<polygon fill=\"black\" stroke=\"black\" points=\"155.5,-733.104 152,-723.104 148.5,-733.104 155.5,-733.104\"/>\n",
       "</g>\n",
       "<!-- main.L3N1 -->\n",
       "<g id=\"node3\" class=\"node\"><title>main.L3N1</title>\n",
       "<ellipse fill=\"none\" stroke=\"black\" cx=\"152\" cy=\"-633\" rx=\"92.8835\" ry=\"18\"/>\n",
       "<text text-anchor=\"middle\" x=\"152\" y=\"-629.3\" font-family=\"Times,serif\" font-size=\"14.00\">+ Batch Normalization</text>\n",
       "</g>\n",
       "<!-- main.L2N1&#45;&gt;main.L3N1 -->\n",
       "<g id=\"edge2\" class=\"edge\"><title>main.L2N1&#45;&gt;main.L3N1</title>\n",
       "<path fill=\"none\" stroke=\"black\" d=\"M152,-686.697C152,-678.983 152,-669.712 152,-661.112\"/>\n",
       "<polygon fill=\"black\" stroke=\"black\" points=\"155.5,-661.104 152,-651.104 148.5,-661.104 155.5,-661.104\"/>\n",
       "</g>\n",
       "<!-- main.L4N1 -->\n",
       "<g id=\"node4\" class=\"node\"><title>main.L4N1</title>\n",
       "<ellipse fill=\"none\" stroke=\"black\" cx=\"152\" cy=\"-561\" rx=\"32.4942\" ry=\"18\"/>\n",
       "<text text-anchor=\"middle\" x=\"152\" y=\"-557.3\" font-family=\"Times,serif\" font-size=\"14.00\">ReLU</text>\n",
       "</g>\n",
       "<!-- main.L3N1&#45;&gt;main.L4N1 -->\n",
       "<g id=\"edge3\" class=\"edge\"><title>main.L3N1&#45;&gt;main.L4N1</title>\n",
       "<path fill=\"none\" stroke=\"black\" d=\"M152,-614.697C152,-606.983 152,-597.712 152,-589.112\"/>\n",
       "<polygon fill=\"black\" stroke=\"black\" points=\"155.5,-589.104 152,-579.104 148.5,-589.104 155.5,-589.104\"/>\n",
       "</g>\n",
       "<!-- main.L5N1 -->\n",
       "<g id=\"node5\" class=\"node\"><title>main.L5N1</title>\n",
       "<ellipse fill=\"none\" stroke=\"black\" cx=\"152\" cy=\"-489\" rx=\"33.5952\" ry=\"18\"/>\n",
       "<text text-anchor=\"middle\" x=\"152\" y=\"-485.3\" font-family=\"Times,serif\" font-size=\"14.00\">Affine</text>\n",
       "</g>\n",
       "<!-- main.L4N1&#45;&gt;main.L5N1 -->\n",
       "<g id=\"edge4\" class=\"edge\"><title>main.L4N1&#45;&gt;main.L5N1</title>\n",
       "<path fill=\"none\" stroke=\"black\" d=\"M152,-542.697C152,-534.983 152,-525.712 152,-517.112\"/>\n",
       "<polygon fill=\"black\" stroke=\"black\" points=\"155.5,-517.104 152,-507.104 148.5,-517.104 155.5,-517.104\"/>\n",
       "</g>\n",
       "<!-- main.L6N1 -->\n",
       "<g id=\"node6\" class=\"node\"><title>main.L6N1</title>\n",
       "<ellipse fill=\"none\" stroke=\"black\" cx=\"152\" cy=\"-417\" rx=\"92.8835\" ry=\"18\"/>\n",
       "<text text-anchor=\"middle\" x=\"152\" y=\"-413.3\" font-family=\"Times,serif\" font-size=\"14.00\">+ Batch Normalization</text>\n",
       "</g>\n",
       "<!-- main.L5N1&#45;&gt;main.L6N1 -->\n",
       "<g id=\"edge5\" class=\"edge\"><title>main.L5N1&#45;&gt;main.L6N1</title>\n",
       "<path fill=\"none\" stroke=\"black\" d=\"M152,-470.697C152,-462.983 152,-453.712 152,-445.112\"/>\n",
       "<polygon fill=\"black\" stroke=\"black\" points=\"155.5,-445.104 152,-435.104 148.5,-445.104 155.5,-445.104\"/>\n",
       "</g>\n",
       "<!-- main.L7N1 -->\n",
       "<g id=\"node7\" class=\"node\"><title>main.L7N1</title>\n",
       "<ellipse fill=\"none\" stroke=\"black\" cx=\"152\" cy=\"-345\" rx=\"32.4942\" ry=\"18\"/>\n",
       "<text text-anchor=\"middle\" x=\"152\" y=\"-341.3\" font-family=\"Times,serif\" font-size=\"14.00\">ReLU</text>\n",
       "</g>\n",
       "<!-- main.L6N1&#45;&gt;main.L7N1 -->\n",
       "<g id=\"edge6\" class=\"edge\"><title>main.L6N1&#45;&gt;main.L7N1</title>\n",
       "<path fill=\"none\" stroke=\"black\" d=\"M152,-398.697C152,-390.983 152,-381.712 152,-373.112\"/>\n",
       "<polygon fill=\"black\" stroke=\"black\" points=\"155.5,-373.104 152,-363.104 148.5,-373.104 155.5,-373.104\"/>\n",
       "</g>\n",
       "<!-- main.L8N1 -->\n",
       "<g id=\"node8\" class=\"node\"><title>main.L8N1</title>\n",
       "<ellipse fill=\"none\" stroke=\"black\" cx=\"152\" cy=\"-273\" rx=\"33.5952\" ry=\"18\"/>\n",
       "<text text-anchor=\"middle\" x=\"152\" y=\"-269.3\" font-family=\"Times,serif\" font-size=\"14.00\">Affine</text>\n",
       "</g>\n",
       "<!-- main.L7N1&#45;&gt;main.L8N1 -->\n",
       "<g id=\"edge7\" class=\"edge\"><title>main.L7N1&#45;&gt;main.L8N1</title>\n",
       "<path fill=\"none\" stroke=\"black\" d=\"M152,-326.697C152,-318.983 152,-309.712 152,-301.112\"/>\n",
       "<polygon fill=\"black\" stroke=\"black\" points=\"155.5,-301.104 152,-291.104 148.5,-301.104 155.5,-301.104\"/>\n",
       "</g>\n",
       "<!-- main.L9N1 -->\n",
       "<g id=\"node9\" class=\"node\"><title>main.L9N1</title>\n",
       "<ellipse fill=\"none\" stroke=\"black\" cx=\"152\" cy=\"-201\" rx=\"92.8835\" ry=\"18\"/>\n",
       "<text text-anchor=\"middle\" x=\"152\" y=\"-197.3\" font-family=\"Times,serif\" font-size=\"14.00\">+ Batch Normalization</text>\n",
       "</g>\n",
       "<!-- main.L8N1&#45;&gt;main.L9N1 -->\n",
       "<g id=\"edge8\" class=\"edge\"><title>main.L8N1&#45;&gt;main.L9N1</title>\n",
       "<path fill=\"none\" stroke=\"black\" d=\"M152,-254.697C152,-246.983 152,-237.712 152,-229.112\"/>\n",
       "<polygon fill=\"black\" stroke=\"black\" points=\"155.5,-229.104 152,-219.104 148.5,-229.104 155.5,-229.104\"/>\n",
       "</g>\n",
       "<!-- main.L10N1 -->\n",
       "<g id=\"node10\" class=\"node\"><title>main.L10N1</title>\n",
       "<ellipse fill=\"none\" stroke=\"black\" cx=\"152\" cy=\"-129\" rx=\"42.4939\" ry=\"18\"/>\n",
       "<text text-anchor=\"middle\" x=\"152\" y=\"-125.3\" font-family=\"Times,serif\" font-size=\"14.00\">SoftMax</text>\n",
       "</g>\n",
       "<!-- main.L9N1&#45;&gt;main.L10N1 -->\n",
       "<g id=\"edge9\" class=\"edge\"><title>main.L9N1&#45;&gt;main.L10N1</title>\n",
       "<path fill=\"none\" stroke=\"black\" d=\"M152,-182.697C152,-174.983 152,-165.712 152,-157.112\"/>\n",
       "<polygon fill=\"black\" stroke=\"black\" points=\"155.5,-157.104 152,-147.104 148.5,-157.104 155.5,-157.104\"/>\n",
       "</g>\n",
       "<!-- main.L11N1 -->\n",
       "<g id=\"node11\" class=\"node\"><title>main.L11N1</title>\n",
       "<ellipse fill=\"none\" stroke=\"white\" cx=\"152\" cy=\"-57\" rx=\"40.0939\" ry=\"18\"/>\n",
       "<text text-anchor=\"middle\" x=\"152\" y=\"-53.3\" font-family=\"Times,serif\" font-size=\"14.00\">OutData</text>\n",
       "</g>\n",
       "<!-- main.L10N1&#45;&gt;main.L11N1 -->\n",
       "<g id=\"edge10\" class=\"edge\"><title>main.L10N1&#45;&gt;main.L11N1</title>\n",
       "<path fill=\"none\" stroke=\"black\" d=\"M152,-110.697C152,-102.983 152,-93.7125 152,-85.1124\"/>\n",
       "<polygon fill=\"black\" stroke=\"black\" points=\"155.5,-85.1043 152,-75.1043 148.5,-85.1044 155.5,-85.1043\"/>\n",
       "</g>\n",
       "</g>\n",
       "</svg>\n"
      ],
      "text/plain": [
       "<graphviz.dot.Digraph at 0x7f4440585198>"
      ]
     },
     "execution_count": 25,
     "metadata": {},
     "output_type": "execute_result"
    }
   ],
   "source": [
    "from graphviz import Digraph\n",
    "dot = Digraph(comment=\"Batch Normalization: バッチ毎に正規化処理を行う\")\n",
    "dot.attr(rankdir=\"UD\")\n",
    "#dot.attr(ranksep=\"1.2\")\n",
    "dot.attr(nodesep=\".05\")\n",
    "#dot.attr(margin=\"1\")\n",
    "#dot.attr(splines=\"polyline\") #line or curved or ortho or polyline;\n",
    "dot.attr(fixedsize=\"true\")\n",
    "dot.attr(label=\"Batch Normalization: バッチ毎に正規化処理を行う\")\n",
    "with dot.subgraph(name=\"main\") as main:\n",
    "    with main.subgraph(name=\"cluster_L1\") as L1:\n",
    "        L1.attr(label=\"\")\n",
    "        L1.attr(color=\"white\")\n",
    "        L1.node(\"main.L1N1\", \"InData\", color=\"white\")\n",
    "    with main.subgraph(name=\"cluster_L2\") as L2:\n",
    "        L2.attr(label=\"\")\n",
    "        L2.attr(color=\"white\")\n",
    "        L2.node(\"main.L2N1\",\"Affine\")\n",
    "    with main.subgraph(name=\"cluster_L3\") as L3:\n",
    "        L3.attr(label=\"\")\n",
    "        L3.attr(color=\"white\")\n",
    "        L3.node(\"main.L3N1\", \"+ Batch Normalization\")\n",
    "    with main.subgraph(name=\"cluster_L4\") as L4:\n",
    "        L4.attr(label=\"\")\n",
    "        L4.attr(color=\"white\")\n",
    "        L4.node(\"main.L4N1\", \"ReLU\")\n",
    "    with main.subgraph(name=\"cluster_L5\") as L5:\n",
    "        L5.attr(label=\"\")\n",
    "        L5.attr(color=\"white\")\n",
    "        L5.node(\"main.L5N1\",\"Affine\")\n",
    "    with main.subgraph(name=\"cluster_L6\") as L6:\n",
    "        L6.attr(label=\"\")\n",
    "        L6.attr(color=\"white\")\n",
    "        L6.node(\"main.L6N1\", \"+ Batch Normalization\")\n",
    "    with main.subgraph(name=\"cluster_L7\") as L7:\n",
    "        L7.attr(label=\"\")\n",
    "        L7.attr(color=\"white\")\n",
    "        L7.node(\"main.L7N1\", \"ReLU\")\n",
    "    with main.subgraph(name=\"cluster_L8\") as L8:\n",
    "        L8.attr(label=\"\")\n",
    "        L8.attr(color=\"white\")\n",
    "        L8.node(\"main.L8N1\",\"Affine\")\n",
    "    with main.subgraph(name=\"cluster_L9\") as L9:\n",
    "        L9.attr(label=\"\")\n",
    "        L9.attr(color=\"white\")\n",
    "        L9.node(\"main.L9N1\", \"+ Batch Normalization\")\n",
    "    with main.subgraph(name=\"cluster_L10\") as L10:\n",
    "        L10.attr(label=\"\")\n",
    "        L10.attr(color=\"white\")\n",
    "        L10.node(\"main.L10N1\", \"SoftMax\")\n",
    "    with main.subgraph(name=\"cluster_L11\") as L11:\n",
    "        L11.attr(label=\"\")\n",
    "        L11.attr(color=\"white\")\n",
    "        L11.node(\"main.L11N1\", \"OutData\", color=\"white\")\n",
    "    dot.edge(\"main.L1N1\", \"main.L2N1\", label=\"\")\n",
    "    dot.edge(\"main.L2N1\", \"main.L3N1\", label=\"\")\n",
    "    dot.edge(\"main.L3N1\", \"main.L4N1\", label=\"\")\n",
    "    dot.edge(\"main.L4N1\", \"main.L5N1\", label=\"\")\n",
    "    dot.edge(\"main.L5N1\", \"main.L6N1\", label=\"\")\n",
    "    dot.edge(\"main.L6N1\", \"main.L7N1\", label=\"\")\n",
    "    dot.edge(\"main.L7N1\", \"main.L8N1\", label=\"\")\n",
    "    dot.edge(\"main.L8N1\", \"main.L9N1\", label=\"\")\n",
    "    dot.edge(\"main.L9N1\", \"main.L10N1\", label=\"\")\n",
    "    dot.edge(\"main.L10N1\", \"main.L11N1\", label=\"\")\n",
    "dot"
   ]
  },
  {
   "cell_type": "markdown",
   "metadata": {},
   "source": [
    "Batch Normalizationはその名の通り学習の際のミニバッチを基本単位としてミニバッチ毎に正規化を行います。具体的には、データの平均が0で分散が1になるように正規化をその都度行う。正規化を行うタイミングは活性化関数の前（または後）にすることで、データ分布の偏りを減らすことが出来る。"
   ]
  },
  {
   "cell_type": "markdown",
   "metadata": {},
   "source": [
    "### BatchNormalizationによる正規化処理"
   ]
  },
  {
   "cell_type": "markdown",
   "metadata": {},
   "source": [
    "https://qiita.com/t-tkd3a/items/14950dbf55f7a3095600"
   ]
  },
  {
   "cell_type": "markdown",
   "metadata": {},
   "source": [
    "#### ミニバッチ配列を平均0 分散1に計算し直す処理（一般的にな正規化処理）\n",
    "- ミニバッチ平均: ${\\mu _x \\leftarrow \\frac {1}{N} \\sum _{i=1} ^{N} x_i}$\n",
    "- ミニバッチ分散: ${\\sigma^2 _x \\leftarrow \\frac {1}{N} \\sum _{i=1} ^{N} (x_i - \\mu_x)^2}$\n",
    "- ミニバッチの正規化計算式: ${\\hat{x_i} \\leftarrow \\frac {x_i - \\mu_x}{\\sqrt{\\sigma^2_x+ \\epsilon}}}$"
   ]
  },
  {
   "cell_type": "markdown",
   "metadata": {},
   "source": [
    "$x_i$ : ミニバッチ配列$\\ (x_1, x_2, x_3, x_4 , ... , x_i)$  \n",
    "$\\epsilon$ : 非常に小さな値 (0.0000001等) ※0除算回避の為   \n",
    "$\\hat{x_i}$ : 正規化後ミニバッチ配列$\\ (\\hat{x}_1, \\hat{x}_2, \\hat{x}_3, \\hat{x}_4 , ... , \\hat{x}_i)$"
   ]
  },
  {
   "cell_type": "markdown",
   "metadata": {},
   "source": [
    "#### 正規化したデータに対するスケールとシフト変換が可能になる\n",
    "- ミニバッチ配列のスケール・シフト: $y_i \\leftarrow \\gamma \\hat{x} + \\beta$"
   ]
  },
  {
   "cell_type": "markdown",
   "metadata": {},
   "source": [
    "$\\gamma$ : 変倍調整パラメタ。$\\gamma = 1$を初期値とする。  \n",
    "$\\beta$ : 移動調整パラメタ。$\\beta = 0$を初期値とする。"
   ]
  },
  {
   "cell_type": "markdown",
   "metadata": {},
   "source": [
    "#### Batch Normalizationの計算グラフ"
   ]
  },
  {
   "cell_type": "markdown",
   "metadata": {},
   "source": [
    "https://kratzert.github.io/2016/02/12/understanding-the-gradient-flow-through-the-batch-normalization-layer.html"
   ]
  },
  {
   "cell_type": "markdown",
   "metadata": {},
   "source": [
    "![https://kratzert.github.io/images/bn_backpass/BNcircuit.png](https://kratzert.github.io/images/bn_backpass/BNcircuit.png)"
   ]
  },
  {
   "cell_type": "markdown",
   "metadata": {},
   "source": [
    "#### Btach Normalizationの評価"
   ]
  },
  {
   "cell_type": "code",
   "execution_count": 27,
   "metadata": {},
   "outputs": [
    {
     "name": "stdout",
     "output_type": "stream",
     "text": [
      "============== 1/16 ==============\n",
      "epoch:0 | 0.093 - 0.113\n",
      "epoch:1 | 0.117 - 0.128\n",
      "epoch:2 | 0.116 - 0.134\n",
      "epoch:3 | 0.116 - 0.15\n",
      "epoch:4 | 0.116 - 0.172\n",
      "epoch:5 | 0.117 - 0.188\n",
      "epoch:6 | 0.116 - 0.217\n",
      "epoch:7 | 0.116 - 0.23\n",
      "epoch:8 | 0.116 - 0.25\n",
      "epoch:9 | 0.116 - 0.266\n",
      "epoch:10 | 0.116 - 0.286\n",
      "epoch:11 | 0.116 - 0.304\n",
      "epoch:12 | 0.116 - 0.325\n",
      "epoch:13 | 0.116 - 0.331\n",
      "epoch:14 | 0.116 - 0.339\n",
      "epoch:15 | 0.116 - 0.354\n",
      "epoch:16 | 0.116 - 0.371\n",
      "epoch:17 | 0.116 - 0.386\n",
      "epoch:18 | 0.116 - 0.407\n"
     ]
    },
    {
     "name": "stderr",
     "output_type": "stream",
     "text": [
      "No handles with labels found to put in legend.\n"
     ]
    },
    {
     "name": "stdout",
     "output_type": "stream",
     "text": [
      "epoch:19 | 0.116 - 0.416\n",
      "============== 2/16 ==============\n",
      "epoch:0 | 0.097 - 0.068\n"
     ]
    },
    {
     "name": "stderr",
     "output_type": "stream",
     "text": [
      "/home/nbuser/library/common/multi_layer_net_extend.py:101: RuntimeWarning: overflow encountered in square\n",
      "  weight_decay += 0.5 * self.weight_decay_lambda * np.sum(W**2)\n",
      "/home/nbuser/library/common/multi_layer_net_extend.py:101: RuntimeWarning: invalid value encountered in double_scalars\n",
      "  weight_decay += 0.5 * self.weight_decay_lambda * np.sum(W**2)\n",
      "/home/nbuser/anaconda3_420/lib/python3.5/site-packages/numpy/core/_methods.py:26: RuntimeWarning: invalid value encountered in reduce\n",
      "  return umr_maximum(a, axis, None, out, keepdims)\n",
      "/home/nbuser/library/common/layers.py:12: RuntimeWarning: invalid value encountered in less_equal\n",
      "  self.mask = (x <= 0)\n"
     ]
    },
    {
     "name": "stdout",
     "output_type": "stream",
     "text": [
      "epoch:1 | 0.097 - 0.079\n",
      "epoch:2 | 0.097 - 0.104\n",
      "epoch:3 | 0.097 - 0.113\n",
      "epoch:4 | 0.097 - 0.133\n",
      "epoch:5 | 0.097 - 0.165\n",
      "epoch:6 | 0.097 - 0.185\n",
      "epoch:7 | 0.097 - 0.203\n",
      "epoch:8 | 0.097 - 0.245\n",
      "epoch:9 | 0.097 - 0.284\n",
      "epoch:10 | 0.097 - 0.295\n",
      "epoch:11 | 0.097 - 0.332\n",
      "epoch:12 | 0.097 - 0.347\n",
      "epoch:13 | 0.097 - 0.373\n",
      "epoch:14 | 0.097 - 0.385\n",
      "epoch:15 | 0.097 - 0.407\n",
      "epoch:16 | 0.097 - 0.42\n",
      "epoch:17 | 0.097 - 0.441\n",
      "epoch:18 | 0.097 - 0.454\n"
     ]
    },
    {
     "name": "stderr",
     "output_type": "stream",
     "text": [
      "No handles with labels found to put in legend.\n"
     ]
    },
    {
     "name": "stdout",
     "output_type": "stream",
     "text": [
      "epoch:19 | 0.097 - 0.464\n",
      "============== 3/16 ==============\n",
      "epoch:0 | 0.087 - 0.072\n",
      "epoch:1 | 0.268 - 0.087\n",
      "epoch:2 | 0.373 - 0.109\n",
      "epoch:3 | 0.502 - 0.13\n",
      "epoch:4 | 0.58 - 0.179\n",
      "epoch:5 | 0.636 - 0.202\n",
      "epoch:6 | 0.694 - 0.241\n",
      "epoch:7 | 0.715 - 0.279\n",
      "epoch:8 | 0.765 - 0.318\n",
      "epoch:9 | 0.794 - 0.353\n",
      "epoch:10 | 0.809 - 0.373\n",
      "epoch:11 | 0.84 - 0.413\n",
      "epoch:12 | 0.864 - 0.446\n",
      "epoch:13 | 0.885 - 0.478\n",
      "epoch:14 | 0.894 - 0.507\n",
      "epoch:15 | 0.916 - 0.529\n",
      "epoch:16 | 0.925 - 0.541\n",
      "epoch:17 | 0.93 - 0.57\n",
      "epoch:18 | 0.944 - 0.599\n"
     ]
    },
    {
     "name": "stderr",
     "output_type": "stream",
     "text": [
      "No handles with labels found to put in legend.\n"
     ]
    },
    {
     "name": "stdout",
     "output_type": "stream",
     "text": [
      "epoch:19 | 0.95 - 0.62\n",
      "============== 4/16 ==============\n",
      "epoch:0 | 0.11 - 0.079\n",
      "epoch:1 | 0.202 - 0.104\n",
      "epoch:2 | 0.33 - 0.16\n",
      "epoch:3 | 0.455 - 0.225\n",
      "epoch:4 | 0.517 - 0.291\n",
      "epoch:5 | 0.602 - 0.362\n",
      "epoch:6 | 0.643 - 0.421\n",
      "epoch:7 | 0.67 - 0.482\n",
      "epoch:8 | 0.695 - 0.518\n",
      "epoch:9 | 0.714 - 0.559\n",
      "epoch:10 | 0.74 - 0.594\n",
      "epoch:11 | 0.752 - 0.616\n",
      "epoch:12 | 0.77 - 0.646\n",
      "epoch:13 | 0.78 - 0.668\n",
      "epoch:14 | 0.789 - 0.682\n",
      "epoch:15 | 0.801 - 0.698\n",
      "epoch:16 | 0.815 - 0.722\n",
      "epoch:17 | 0.825 - 0.737\n",
      "epoch:18 | 0.831 - 0.755\n"
     ]
    },
    {
     "name": "stderr",
     "output_type": "stream",
     "text": [
      "No handles with labels found to put in legend.\n"
     ]
    },
    {
     "name": "stdout",
     "output_type": "stream",
     "text": [
      "epoch:19 | 0.839 - 0.764\n",
      "============== 5/16 ==============\n",
      "epoch:0 | 0.095 - 0.105\n",
      "epoch:1 | 0.099 - 0.164\n",
      "epoch:2 | 0.107 - 0.222\n",
      "epoch:3 | 0.115 - 0.333\n",
      "epoch:4 | 0.131 - 0.421\n",
      "epoch:5 | 0.156 - 0.516\n",
      "epoch:6 | 0.169 - 0.585\n",
      "epoch:7 | 0.199 - 0.646\n",
      "epoch:8 | 0.227 - 0.694\n",
      "epoch:9 | 0.239 - 0.719\n",
      "epoch:10 | 0.257 - 0.742\n",
      "epoch:11 | 0.247 - 0.76\n",
      "epoch:12 | 0.247 - 0.78\n",
      "epoch:13 | 0.261 - 0.807\n",
      "epoch:14 | 0.264 - 0.82\n",
      "epoch:15 | 0.275 - 0.833\n",
      "epoch:16 | 0.26 - 0.846\n",
      "epoch:17 | 0.27 - 0.852\n",
      "epoch:18 | 0.264 - 0.861\n"
     ]
    },
    {
     "name": "stderr",
     "output_type": "stream",
     "text": [
      "No handles with labels found to put in legend.\n"
     ]
    },
    {
     "name": "stdout",
     "output_type": "stream",
     "text": [
      "epoch:19 | 0.279 - 0.872\n",
      "============== 6/16 ==============\n",
      "epoch:0 | 0.087 - 0.092\n",
      "epoch:1 | 0.125 - 0.268\n",
      "epoch:2 | 0.137 - 0.511\n",
      "epoch:3 | 0.129 - 0.637\n",
      "epoch:4 | 0.132 - 0.709\n",
      "epoch:5 | 0.113 - 0.749\n",
      "epoch:6 | 0.113 - 0.788\n",
      "epoch:7 | 0.121 - 0.824\n",
      "epoch:8 | 0.139 - 0.848\n",
      "epoch:9 | 0.113 - 0.863\n",
      "epoch:10 | 0.143 - 0.878\n",
      "epoch:11 | 0.122 - 0.897\n",
      "epoch:12 | 0.123 - 0.908\n",
      "epoch:13 | 0.116 - 0.916\n",
      "epoch:14 | 0.116 - 0.932\n",
      "epoch:15 | 0.116 - 0.938\n",
      "epoch:16 | 0.116 - 0.947\n",
      "epoch:17 | 0.129 - 0.955\n",
      "epoch:18 | 0.157 - 0.958\n"
     ]
    },
    {
     "name": "stderr",
     "output_type": "stream",
     "text": [
      "No handles with labels found to put in legend.\n"
     ]
    },
    {
     "name": "stdout",
     "output_type": "stream",
     "text": [
      "epoch:19 | 0.146 - 0.963\n",
      "============== 7/16 ==============\n",
      "epoch:0 | 0.094 - 0.102\n",
      "epoch:1 | 0.118 - 0.34\n",
      "epoch:2 | 0.117 - 0.635\n",
      "epoch:3 | 0.117 - 0.731\n",
      "epoch:4 | 0.117 - 0.768\n",
      "epoch:5 | 0.117 - 0.808\n",
      "epoch:6 | 0.116 - 0.831\n",
      "epoch:7 | 0.116 - 0.849\n",
      "epoch:8 | 0.116 - 0.871\n",
      "epoch:9 | 0.116 - 0.889\n",
      "epoch:10 | 0.116 - 0.91\n",
      "epoch:11 | 0.116 - 0.919\n",
      "epoch:12 | 0.116 - 0.93\n",
      "epoch:13 | 0.116 - 0.952\n",
      "epoch:14 | 0.116 - 0.962\n",
      "epoch:15 | 0.116 - 0.969\n",
      "epoch:16 | 0.116 - 0.98\n",
      "epoch:17 | 0.116 - 0.985\n",
      "epoch:18 | 0.116 - 0.985\n"
     ]
    },
    {
     "name": "stderr",
     "output_type": "stream",
     "text": [
      "No handles with labels found to put in legend.\n"
     ]
    },
    {
     "name": "stdout",
     "output_type": "stream",
     "text": [
      "epoch:19 | 0.116 - 0.988\n",
      "============== 8/16 ==============\n",
      "epoch:0 | 0.105 - 0.092\n",
      "epoch:1 | 0.117 - 0.299\n",
      "epoch:2 | 0.117 - 0.553\n",
      "epoch:3 | 0.105 - 0.677\n",
      "epoch:4 | 0.105 - 0.757\n",
      "epoch:5 | 0.116 - 0.83\n",
      "epoch:6 | 0.116 - 0.879\n",
      "epoch:7 | 0.117 - 0.919\n",
      "epoch:8 | 0.116 - 0.944\n",
      "epoch:9 | 0.116 - 0.967\n",
      "epoch:10 | 0.116 - 0.975\n",
      "epoch:11 | 0.116 - 0.978\n",
      "epoch:12 | 0.116 - 0.987\n",
      "epoch:13 | 0.116 - 0.989\n",
      "epoch:14 | 0.117 - 0.993\n",
      "epoch:15 | 0.117 - 0.995\n",
      "epoch:16 | 0.117 - 0.998\n",
      "epoch:17 | 0.116 - 0.997\n",
      "epoch:18 | 0.117 - 0.997\n"
     ]
    },
    {
     "name": "stderr",
     "output_type": "stream",
     "text": [
      "No handles with labels found to put in legend.\n"
     ]
    },
    {
     "name": "stdout",
     "output_type": "stream",
     "text": [
      "epoch:19 | 0.116 - 0.997\n",
      "============== 9/16 ==============\n",
      "epoch:0 | 0.105 - 0.134\n",
      "epoch:1 | 0.116 - 0.532\n",
      "epoch:2 | 0.116 - 0.736\n",
      "epoch:3 | 0.116 - 0.811\n",
      "epoch:4 | 0.116 - 0.846\n",
      "epoch:5 | 0.116 - 0.889\n",
      "epoch:6 | 0.116 - 0.907\n",
      "epoch:7 | 0.116 - 0.913\n",
      "epoch:8 | 0.117 - 0.948\n",
      "epoch:9 | 0.116 - 0.98\n",
      "epoch:10 | 0.116 - 0.986\n",
      "epoch:11 | 0.116 - 0.989\n",
      "epoch:12 | 0.116 - 0.996\n",
      "epoch:13 | 0.116 - 0.996\n",
      "epoch:14 | 0.116 - 0.999\n",
      "epoch:15 | 0.116 - 0.999\n",
      "epoch:16 | 0.116 - 1.0\n",
      "epoch:17 | 0.116 - 1.0\n",
      "epoch:18 | 0.116 - 1.0\n"
     ]
    },
    {
     "name": "stderr",
     "output_type": "stream",
     "text": [
      "No handles with labels found to put in legend.\n"
     ]
    },
    {
     "name": "stdout",
     "output_type": "stream",
     "text": [
      "epoch:19 | 0.116 - 1.0\n",
      "============== 10/16 ==============\n",
      "epoch:0 | 0.105 - 0.137\n",
      "epoch:1 | 0.116 - 0.499\n",
      "epoch:2 | 0.117 - 0.75\n",
      "epoch:3 | 0.117 - 0.807\n",
      "epoch:4 | 0.117 - 0.912\n",
      "epoch:5 | 0.117 - 0.862\n",
      "epoch:6 | 0.116 - 0.979\n",
      "epoch:7 | 0.116 - 0.979\n",
      "epoch:8 | 0.116 - 0.968\n",
      "epoch:9 | 0.116 - 0.987\n",
      "epoch:10 | 0.116 - 0.993\n",
      "epoch:11 | 0.116 - 0.992\n",
      "epoch:12 | 0.116 - 0.992\n",
      "epoch:13 | 0.116 - 0.994\n",
      "epoch:14 | 0.117 - 0.996\n",
      "epoch:15 | 0.117 - 0.997\n",
      "epoch:16 | 0.117 - 0.997\n",
      "epoch:17 | 0.117 - 0.997\n",
      "epoch:18 | 0.117 - 0.998\n"
     ]
    },
    {
     "name": "stderr",
     "output_type": "stream",
     "text": [
      "No handles with labels found to put in legend.\n"
     ]
    },
    {
     "name": "stdout",
     "output_type": "stream",
     "text": [
      "epoch:19 | 0.117 - 0.998\n",
      "============== 11/16 ==============\n",
      "epoch:0 | 0.092 - 0.212\n",
      "epoch:1 | 0.117 - 0.73\n",
      "epoch:2 | 0.117 - 0.777\n",
      "epoch:3 | 0.117 - 0.823\n",
      "epoch:4 | 0.116 - 0.923\n",
      "epoch:5 | 0.116 - 0.936\n",
      "epoch:6 | 0.116 - 0.884\n",
      "epoch:7 | 0.116 - 0.968\n",
      "epoch:8 | 0.116 - 0.98\n",
      "epoch:9 | 0.116 - 0.982\n",
      "epoch:10 | 0.116 - 0.991\n",
      "epoch:11 | 0.116 - 0.991\n",
      "epoch:12 | 0.116 - 0.985\n",
      "epoch:13 | 0.116 - 0.987\n",
      "epoch:14 | 0.116 - 0.968\n",
      "epoch:15 | 0.116 - 0.992\n",
      "epoch:16 | 0.116 - 0.995\n",
      "epoch:17 | 0.116 - 0.955\n",
      "epoch:18 | 0.116 - 0.995\n"
     ]
    },
    {
     "name": "stderr",
     "output_type": "stream",
     "text": [
      "No handles with labels found to put in legend.\n"
     ]
    },
    {
     "name": "stdout",
     "output_type": "stream",
     "text": [
      "epoch:19 | 0.116 - 0.992\n",
      "============== 12/16 ==============\n",
      "epoch:0 | 0.105 - 0.112\n",
      "epoch:1 | 0.116 - 0.517\n",
      "epoch:2 | 0.117 - 0.647\n",
      "epoch:3 | 0.116 - 0.674\n",
      "epoch:4 | 0.117 - 0.642\n",
      "epoch:5 | 0.117 - 0.687\n",
      "epoch:6 | 0.117 - 0.689\n",
      "epoch:7 | 0.117 - 0.698\n",
      "epoch:8 | 0.117 - 0.696\n",
      "epoch:9 | 0.117 - 0.701\n",
      "epoch:10 | 0.117 - 0.782\n",
      "epoch:11 | 0.117 - 0.786\n",
      "epoch:12 | 0.117 - 0.875\n",
      "epoch:13 | 0.116 - 0.89\n",
      "epoch:14 | 0.117 - 0.963\n",
      "epoch:15 | 0.117 - 0.884\n",
      "epoch:16 | 0.117 - 0.891\n",
      "epoch:17 | 0.117 - 0.896\n",
      "epoch:18 | 0.117 - 0.985\n"
     ]
    },
    {
     "name": "stderr",
     "output_type": "stream",
     "text": [
      "No handles with labels found to put in legend.\n"
     ]
    },
    {
     "name": "stdout",
     "output_type": "stream",
     "text": [
      "epoch:19 | 0.117 - 0.935\n",
      "============== 13/16 ==============\n",
      "epoch:0 | 0.099 - 0.16\n",
      "epoch:1 | 0.117 - 0.39\n",
      "epoch:2 | 0.117 - 0.472\n",
      "epoch:3 | 0.117 - 0.585\n",
      "epoch:4 | 0.117 - 0.6\n",
      "epoch:5 | 0.117 - 0.653\n",
      "epoch:6 | 0.117 - 0.662\n",
      "epoch:7 | 0.117 - 0.663\n",
      "epoch:8 | 0.117 - 0.671\n",
      "epoch:9 | 0.117 - 0.678\n",
      "epoch:10 | 0.117 - 0.692\n",
      "epoch:11 | 0.117 - 0.692\n",
      "epoch:12 | 0.117 - 0.695\n",
      "epoch:13 | 0.117 - 0.702\n",
      "epoch:14 | 0.117 - 0.776\n",
      "epoch:15 | 0.117 - 0.791\n",
      "epoch:16 | 0.117 - 0.736\n",
      "epoch:17 | 0.117 - 0.748\n",
      "epoch:18 | 0.116 - 0.781\n"
     ]
    },
    {
     "name": "stderr",
     "output_type": "stream",
     "text": [
      "No handles with labels found to put in legend.\n"
     ]
    },
    {
     "name": "stdout",
     "output_type": "stream",
     "text": [
      "epoch:19 | 0.116 - 0.782\n",
      "============== 14/16 ==============\n",
      "epoch:0 | 0.116 - 0.22\n",
      "epoch:1 | 0.117 - 0.383\n",
      "epoch:2 | 0.117 - 0.486\n",
      "epoch:3 | 0.117 - 0.52\n",
      "epoch:4 | 0.117 - 0.567\n",
      "epoch:5 | 0.117 - 0.539\n",
      "epoch:6 | 0.117 - 0.541\n",
      "epoch:7 | 0.117 - 0.558\n",
      "epoch:8 | 0.117 - 0.61\n",
      "epoch:9 | 0.116 - 0.589\n",
      "epoch:10 | 0.116 - 0.578\n",
      "epoch:11 | 0.116 - 0.585\n",
      "epoch:12 | 0.116 - 0.587\n",
      "epoch:13 | 0.116 - 0.594\n",
      "epoch:14 | 0.116 - 0.609\n",
      "epoch:15 | 0.116 - 0.61\n",
      "epoch:16 | 0.116 - 0.617\n",
      "epoch:17 | 0.116 - 0.618\n",
      "epoch:18 | 0.116 - 0.625\n"
     ]
    },
    {
     "name": "stderr",
     "output_type": "stream",
     "text": [
      "No handles with labels found to put in legend.\n"
     ]
    },
    {
     "name": "stdout",
     "output_type": "stream",
     "text": [
      "epoch:19 | 0.116 - 0.618\n",
      "============== 15/16 ==============\n",
      "epoch:0 | 0.117 - 0.103\n",
      "epoch:1 | 0.117 - 0.289\n",
      "epoch:2 | 0.117 - 0.39\n",
      "epoch:3 | 0.117 - 0.405\n",
      "epoch:4 | 0.117 - 0.393\n",
      "epoch:5 | 0.117 - 0.391\n",
      "epoch:6 | 0.117 - 0.413\n",
      "epoch:7 | 0.117 - 0.418\n",
      "epoch:8 | 0.117 - 0.419\n",
      "epoch:9 | 0.117 - 0.419\n",
      "epoch:10 | 0.117 - 0.418\n",
      "epoch:11 | 0.117 - 0.419\n",
      "epoch:12 | 0.117 - 0.419\n",
      "epoch:13 | 0.117 - 0.396\n",
      "epoch:14 | 0.117 - 0.503\n",
      "epoch:15 | 0.117 - 0.508\n",
      "epoch:16 | 0.117 - 0.508\n",
      "epoch:17 | 0.117 - 0.526\n",
      "epoch:18 | 0.117 - 0.526\n"
     ]
    },
    {
     "name": "stderr",
     "output_type": "stream",
     "text": [
      "No handles with labels found to put in legend.\n"
     ]
    },
    {
     "name": "stdout",
     "output_type": "stream",
     "text": [
      "epoch:19 | 0.117 - 0.525\n",
      "============== 16/16 ==============\n",
      "epoch:0 | 0.087 - 0.116\n",
      "epoch:1 | 0.117 - 0.258\n",
      "epoch:2 | 0.116 - 0.402\n",
      "epoch:3 | 0.116 - 0.404\n",
      "epoch:4 | 0.117 - 0.409\n",
      "epoch:5 | 0.117 - 0.409\n",
      "epoch:6 | 0.117 - 0.512\n",
      "epoch:7 | 0.117 - 0.479\n",
      "epoch:8 | 0.117 - 0.515\n",
      "epoch:9 | 0.117 - 0.502\n",
      "epoch:10 | 0.117 - 0.52\n",
      "epoch:11 | 0.117 - 0.494\n",
      "epoch:12 | 0.117 - 0.513\n",
      "epoch:13 | 0.117 - 0.512\n",
      "epoch:14 | 0.117 - 0.522\n",
      "epoch:15 | 0.117 - 0.518\n",
      "epoch:16 | 0.117 - 0.521\n",
      "epoch:17 | 0.117 - 0.521\n",
      "epoch:18 | 0.117 - 0.522\n",
      "epoch:19 | 0.117 - 0.523\n"
     ]
    },
    {
     "data": {
      "image/png": "[encoded data removed]",
      "text/plain": [
       "<matplotlib.figure.Figure at 0x7f443e381208>"
      ]
     },
     "metadata": {},
     "output_type": "display_data"
    }
   ],
   "source": [
    "# coding: utf-8\n",
    "import sys, os\n",
    "sys.path.append(os.pardir)  # 親ディレクトリのファイルをインポートするための設定\n",
    "import numpy as np\n",
    "import matplotlib.pyplot as plt\n",
    "from dataset.mnist import load_mnist\n",
    "from common.multi_layer_net_extend import MultiLayerNetExtend\n",
    "from common.optimizer import SGD, Adam\n",
    "\n",
    "(x_train, t_train), (x_test, t_test) = load_mnist(normalize=True)\n",
    "\n",
    "# 学習データを削減\n",
    "x_train = x_train[:1000]\n",
    "t_train = t_train[:1000]\n",
    "\n",
    "max_epochs = 20\n",
    "train_size = x_train.shape[0]\n",
    "batch_size = 100\n",
    "learning_rate = 0.01\n",
    "\n",
    "\n",
    "def __train(weight_init_std):\n",
    "    bn_network = MultiLayerNetExtend(input_size=784, hidden_size_list=[100, 100, 100, 100, 100], output_size=10, \n",
    "                                    weight_init_std=weight_init_std, use_batchnorm=True)\n",
    "    network = MultiLayerNetExtend(input_size=784, hidden_size_list=[100, 100, 100, 100, 100], output_size=10,\n",
    "                                weight_init_std=weight_init_std)\n",
    "    optimizer = SGD(lr=learning_rate)\n",
    "    \n",
    "    train_acc_list = []\n",
    "    bn_train_acc_list = []\n",
    "    \n",
    "    iter_per_epoch = max(train_size / batch_size, 1)\n",
    "    epoch_cnt = 0\n",
    "    \n",
    "    for i in range(1000000000):\n",
    "        batch_mask = np.random.choice(train_size, batch_size)\n",
    "        x_batch = x_train[batch_mask]\n",
    "        t_batch = t_train[batch_mask]\n",
    "    \n",
    "        for _network in (bn_network, network):\n",
    "            grads = _network.gradient(x_batch, t_batch)\n",
    "            optimizer.update(_network.params, grads)\n",
    "    \n",
    "        if i % iter_per_epoch == 0:\n",
    "            train_acc = network.accuracy(x_train, t_train)\n",
    "            bn_train_acc = bn_network.accuracy(x_train, t_train)\n",
    "            train_acc_list.append(train_acc)\n",
    "            bn_train_acc_list.append(bn_train_acc)\n",
    "    \n",
    "            print(\"epoch:\" + str(epoch_cnt) + \" | \" + str(train_acc) + \" - \" + str(bn_train_acc))\n",
    "    \n",
    "            epoch_cnt += 1\n",
    "            if epoch_cnt >= max_epochs:\n",
    "                break\n",
    "                \n",
    "    return train_acc_list, bn_train_acc_list\n",
    "\n",
    "\n",
    "# 3.グラフの描画==========\n",
    "weight_scale_list = np.logspace(0, -4, num=16)\n",
    "x = np.arange(max_epochs)\n",
    "\n",
    "for i, w in enumerate(weight_scale_list):\n",
    "    print( \"============== \" + str(i+1) + \"/16\" + \" ==============\")\n",
    "    train_acc_list, bn_train_acc_list = __train(w)\n",
    "    \n",
    "    plt.subplot(4,4,i+1)\n",
    "    plt.title(\"W:\" + str(w))\n",
    "    if i == 15:\n",
    "        plt.plot(x, bn_train_acc_list, label='Batch Normalization', markevery=2)\n",
    "        plt.plot(x, train_acc_list, linestyle = \"--\", label='Normal(without BatchNorm)', markevery=2)\n",
    "    else:\n",
    "        plt.plot(x, bn_train_acc_list, markevery=2)\n",
    "        plt.plot(x, train_acc_list, linestyle=\"--\", markevery=2)\n",
    "\n",
    "    plt.ylim(0, 1.0)\n",
    "    if i % 4:\n",
    "        plt.yticks([])\n",
    "    else:\n",
    "        plt.ylabel(\"accuracy\")\n",
    "    if i < 12:\n",
    "        plt.xticks([])\n",
    "    else:\n",
    "        plt.xlabel(\"epochs\")\n",
    "    plt.legend(loc='lower right')\n",
    "    \n",
    "plt.show()"
   ]
  },
  {
   "cell_type": "markdown",
   "metadata": {},
   "source": [
    "## 正則化"
   ]
  },
  {
   "cell_type": "markdown",
   "metadata": {},
   "source": [
    "正則化とは特定のデータに囚われない学習モデルを作ること。"
   ]
  },
  {
   "cell_type": "markdown",
   "metadata": {},
   "source": [
    "### 過学習"
   ]
  },
  {
   "cell_type": "markdown",
   "metadata": {},
   "source": [
    "過学習とは、訓練データだけに適応しすぎてしまい、訓練データに含まれない他のデータにはうまく対応できない状態を言う。  \n",
    "過学習が起きる原因としては以下のような原因が挙げられる。  \n",
    "  \n",
    "- パラメータを大量に持ち、表現力の高いモデルであること\n",
    "- 訓練データが少ないこと"
   ]
  },
  {
   "cell_type": "markdown",
   "metadata": {},
   "source": [
    "#### わざと過学習させる"
   ]
  },
  {
   "cell_type": "code",
   "execution_count": 29,
   "metadata": {},
   "outputs": [
    {
     "name": "stdout",
     "output_type": "stream",
     "text": [
      "epoch:0, train acc:0.14666666666666667, test acc:0.1087\n",
      "epoch:1, train acc:0.17333333333333334, test acc:0.127\n",
      "epoch:2, train acc:0.21666666666666667, test acc:0.1475\n",
      "epoch:3, train acc:0.24333333333333335, test acc:0.1669\n",
      "epoch:4, train acc:0.26, test acc:0.1875\n",
      "epoch:5, train acc:0.2833333333333333, test acc:0.2045\n",
      "epoch:6, train acc:0.30666666666666664, test acc:0.2249\n",
      "epoch:7, train acc:0.34, test acc:0.2411\n",
      "epoch:8, train acc:0.3466666666666667, test acc:0.2496\n",
      "epoch:9, train acc:0.36666666666666664, test acc:0.2624\n",
      "epoch:10, train acc:0.36333333333333334, test acc:0.2681\n",
      "epoch:11, train acc:0.41, test acc:0.2916\n",
      "epoch:12, train acc:0.42333333333333334, test acc:0.3005\n",
      "epoch:13, train acc:0.41333333333333333, test acc:0.3031\n",
      "epoch:14, train acc:0.44333333333333336, test acc:0.3216\n",
      "epoch:15, train acc:0.4633333333333333, test acc:0.3298\n",
      "epoch:16, train acc:0.49333333333333335, test acc:0.3542\n",
      "epoch:17, train acc:0.49, test acc:0.3539\n",
      "epoch:18, train acc:0.5466666666666666, test acc:0.3776\n",
      "epoch:19, train acc:0.5366666666666666, test acc:0.3813\n",
      "epoch:20, train acc:0.55, test acc:0.392\n",
      "epoch:21, train acc:0.58, test acc:0.409\n",
      "epoch:22, train acc:0.56, test acc:0.4\n",
      "epoch:23, train acc:0.5866666666666667, test acc:0.4197\n",
      "epoch:24, train acc:0.6133333333333333, test acc:0.4506\n",
      "epoch:25, train acc:0.6266666666666667, test acc:0.4604\n",
      "epoch:26, train acc:0.6533333333333333, test acc:0.4668\n",
      "epoch:27, train acc:0.6466666666666666, test acc:0.4606\n",
      "epoch:28, train acc:0.6533333333333333, test acc:0.4579\n",
      "epoch:29, train acc:0.63, test acc:0.4444\n",
      "epoch:30, train acc:0.6733333333333333, test acc:0.4795\n",
      "epoch:31, train acc:0.67, test acc:0.4755\n",
      "epoch:32, train acc:0.66, test acc:0.4763\n",
      "epoch:33, train acc:0.67, test acc:0.4813\n",
      "epoch:34, train acc:0.6733333333333333, test acc:0.4952\n",
      "epoch:35, train acc:0.69, test acc:0.5024\n",
      "epoch:36, train acc:0.6833333333333333, test acc:0.4992\n",
      "epoch:37, train acc:0.6833333333333333, test acc:0.5056\n",
      "epoch:38, train acc:0.7033333333333334, test acc:0.5105\n",
      "epoch:39, train acc:0.72, test acc:0.5236\n",
      "epoch:40, train acc:0.7266666666666667, test acc:0.5294\n",
      "epoch:41, train acc:0.7133333333333334, test acc:0.5265\n",
      "epoch:42, train acc:0.7366666666666667, test acc:0.5455\n",
      "epoch:43, train acc:0.7266666666666667, test acc:0.5378\n",
      "epoch:44, train acc:0.7333333333333333, test acc:0.547\n",
      "epoch:45, train acc:0.73, test acc:0.5428\n",
      "epoch:46, train acc:0.7333333333333333, test acc:0.549\n",
      "epoch:47, train acc:0.7433333333333333, test acc:0.5504\n",
      "epoch:48, train acc:0.7433333333333333, test acc:0.5557\n",
      "epoch:49, train acc:0.76, test acc:0.5782\n",
      "epoch:50, train acc:0.7566666666666667, test acc:0.5692\n",
      "epoch:51, train acc:0.75, test acc:0.5744\n",
      "epoch:52, train acc:0.76, test acc:0.5832\n",
      "epoch:53, train acc:0.7566666666666667, test acc:0.5899\n",
      "epoch:54, train acc:0.7566666666666667, test acc:0.582\n",
      "epoch:55, train acc:0.7566666666666667, test acc:0.595\n",
      "epoch:56, train acc:0.7666666666666667, test acc:0.6031\n",
      "epoch:57, train acc:0.7566666666666667, test acc:0.5873\n",
      "epoch:58, train acc:0.7766666666666666, test acc:0.6036\n",
      "epoch:59, train acc:0.7733333333333333, test acc:0.6112\n",
      "epoch:60, train acc:0.78, test acc:0.6178\n",
      "epoch:61, train acc:0.7866666666666666, test acc:0.6215\n",
      "epoch:62, train acc:0.7833333333333333, test acc:0.6201\n",
      "epoch:63, train acc:0.79, test acc:0.6258\n",
      "epoch:64, train acc:0.78, test acc:0.6258\n",
      "epoch:65, train acc:0.7966666666666666, test acc:0.6354\n",
      "epoch:66, train acc:0.7933333333333333, test acc:0.6198\n",
      "epoch:67, train acc:0.8, test acc:0.6219\n",
      "epoch:68, train acc:0.7966666666666666, test acc:0.6297\n",
      "epoch:69, train acc:0.8, test acc:0.625\n",
      "epoch:70, train acc:0.8133333333333334, test acc:0.6176\n",
      "epoch:71, train acc:0.8, test acc:0.6394\n",
      "epoch:72, train acc:0.8033333333333333, test acc:0.6428\n",
      "epoch:73, train acc:0.8, test acc:0.6353\n",
      "epoch:74, train acc:0.8066666666666666, test acc:0.6169\n",
      "epoch:75, train acc:0.7933333333333333, test acc:0.6248\n",
      "epoch:76, train acc:0.81, test acc:0.6346\n",
      "epoch:77, train acc:0.8, test acc:0.6519\n",
      "epoch:78, train acc:0.8066666666666666, test acc:0.6388\n",
      "epoch:79, train acc:0.8066666666666666, test acc:0.6458\n",
      "epoch:80, train acc:0.81, test acc:0.6473\n",
      "epoch:81, train acc:0.8, test acc:0.6401\n",
      "epoch:82, train acc:0.8433333333333334, test acc:0.6587\n",
      "epoch:83, train acc:0.8166666666666667, test acc:0.659\n",
      "epoch:84, train acc:0.8133333333333334, test acc:0.6574\n",
      "epoch:85, train acc:0.8233333333333334, test acc:0.6614\n",
      "epoch:86, train acc:0.8233333333333334, test acc:0.6604\n",
      "epoch:87, train acc:0.8233333333333334, test acc:0.6593\n",
      "epoch:88, train acc:0.82, test acc:0.6623\n",
      "epoch:89, train acc:0.8333333333333334, test acc:0.66\n",
      "epoch:90, train acc:0.8266666666666667, test acc:0.6722\n",
      "epoch:91, train acc:0.8333333333333334, test acc:0.6602\n",
      "epoch:92, train acc:0.83, test acc:0.668\n",
      "epoch:93, train acc:0.82, test acc:0.6559\n",
      "epoch:94, train acc:0.85, test acc:0.6719\n",
      "epoch:95, train acc:0.8333333333333334, test acc:0.6745\n",
      "epoch:96, train acc:0.84, test acc:0.6625\n",
      "epoch:97, train acc:0.8333333333333334, test acc:0.6657\n",
      "epoch:98, train acc:0.84, test acc:0.6708\n",
      "epoch:99, train acc:0.8333333333333334, test acc:0.656\n",
      "epoch:100, train acc:0.8166666666666667, test acc:0.6687\n",
      "epoch:101, train acc:0.8366666666666667, test acc:0.6751\n",
      "epoch:102, train acc:0.83, test acc:0.6647\n",
      "epoch:103, train acc:0.84, test acc:0.6682\n",
      "epoch:104, train acc:0.8266666666666667, test acc:0.6682\n",
      "epoch:105, train acc:0.8333333333333334, test acc:0.6666\n",
      "epoch:106, train acc:0.83, test acc:0.671\n",
      "epoch:107, train acc:0.84, test acc:0.6772\n",
      "epoch:108, train acc:0.85, test acc:0.6735\n",
      "epoch:109, train acc:0.8466666666666667, test acc:0.6762\n",
      "epoch:110, train acc:0.8433333333333334, test acc:0.6779\n",
      "epoch:111, train acc:0.86, test acc:0.6819\n",
      "epoch:112, train acc:0.8533333333333334, test acc:0.6779\n",
      "epoch:113, train acc:0.8466666666666667, test acc:0.6881\n",
      "epoch:114, train acc:0.8633333333333333, test acc:0.6912\n",
      "epoch:115, train acc:0.8466666666666667, test acc:0.6884\n",
      "epoch:116, train acc:0.86, test acc:0.6872\n",
      "epoch:117, train acc:0.8533333333333334, test acc:0.6851\n",
      "epoch:118, train acc:0.85, test acc:0.6842\n",
      "epoch:119, train acc:0.8533333333333334, test acc:0.6871\n",
      "epoch:120, train acc:0.8566666666666667, test acc:0.6741\n",
      "epoch:121, train acc:0.8533333333333334, test acc:0.6797\n",
      "epoch:122, train acc:0.85, test acc:0.6805\n",
      "epoch:123, train acc:0.8466666666666667, test acc:0.6762\n",
      "epoch:124, train acc:0.8333333333333334, test acc:0.683\n",
      "epoch:125, train acc:0.8533333333333334, test acc:0.6827\n",
      "epoch:126, train acc:0.8533333333333334, test acc:0.6809\n",
      "epoch:127, train acc:0.8433333333333334, test acc:0.6866\n",
      "epoch:128, train acc:0.85, test acc:0.6748\n",
      "epoch:129, train acc:0.8466666666666667, test acc:0.6789\n",
      "epoch:130, train acc:0.86, test acc:0.6842\n",
      "epoch:131, train acc:0.8533333333333334, test acc:0.691\n",
      "epoch:132, train acc:0.8666666666666667, test acc:0.6924\n",
      "epoch:133, train acc:0.8666666666666667, test acc:0.6966\n",
      "epoch:134, train acc:0.8633333333333333, test acc:0.6866\n",
      "epoch:135, train acc:0.8633333333333333, test acc:0.6918\n",
      "epoch:136, train acc:0.8666666666666667, test acc:0.6916\n",
      "epoch:137, train acc:0.8666666666666667, test acc:0.6869\n",
      "epoch:138, train acc:0.86, test acc:0.6909\n",
      "epoch:139, train acc:0.8533333333333334, test acc:0.6889\n",
      "epoch:140, train acc:0.86, test acc:0.6936\n",
      "epoch:141, train acc:0.86, test acc:0.6987\n",
      "epoch:142, train acc:0.86, test acc:0.6918\n",
      "epoch:143, train acc:0.8633333333333333, test acc:0.6921\n",
      "epoch:144, train acc:0.8633333333333333, test acc:0.6945\n",
      "epoch:145, train acc:0.87, test acc:0.6864\n",
      "epoch:146, train acc:0.8566666666666667, test acc:0.6747\n",
      "epoch:147, train acc:0.8633333333333333, test acc:0.6838\n",
      "epoch:148, train acc:0.86, test acc:0.6914\n",
      "epoch:149, train acc:0.8566666666666667, test acc:0.6888\n",
      "epoch:150, train acc:0.8533333333333334, test acc:0.6922\n",
      "epoch:151, train acc:0.8566666666666667, test acc:0.6854\n",
      "epoch:152, train acc:0.8633333333333333, test acc:0.6877\n",
      "epoch:153, train acc:0.8633333333333333, test acc:0.6891\n",
      "epoch:154, train acc:0.87, test acc:0.6831\n",
      "epoch:155, train acc:0.8566666666666667, test acc:0.695\n",
      "epoch:156, train acc:0.86, test acc:0.6894\n",
      "epoch:157, train acc:0.8633333333333333, test acc:0.6901\n",
      "epoch:158, train acc:0.8633333333333333, test acc:0.6948\n"
     ]
    },
    {
     "name": "stdout",
     "output_type": "stream",
     "text": [
      "epoch:159, train acc:0.8566666666666667, test acc:0.6952\n",
      "epoch:160, train acc:0.8633333333333333, test acc:0.6997\n",
      "epoch:161, train acc:0.8633333333333333, test acc:0.6964\n",
      "epoch:162, train acc:0.86, test acc:0.6969\n",
      "epoch:163, train acc:0.86, test acc:0.6923\n",
      "epoch:164, train acc:0.85, test acc:0.6878\n",
      "epoch:165, train acc:0.86, test acc:0.6896\n",
      "epoch:166, train acc:0.8666666666666667, test acc:0.6905\n",
      "epoch:167, train acc:0.87, test acc:0.686\n",
      "epoch:168, train acc:0.8566666666666667, test acc:0.6954\n",
      "epoch:169, train acc:0.8666666666666667, test acc:0.6733\n",
      "epoch:170, train acc:0.86, test acc:0.6944\n",
      "epoch:171, train acc:0.8633333333333333, test acc:0.7021\n",
      "epoch:172, train acc:0.87, test acc:0.6985\n",
      "epoch:173, train acc:0.87, test acc:0.6966\n",
      "epoch:174, train acc:0.8733333333333333, test acc:0.7019\n",
      "epoch:175, train acc:0.8666666666666667, test acc:0.6967\n",
      "epoch:176, train acc:0.8566666666666667, test acc:0.6941\n",
      "epoch:177, train acc:0.8666666666666667, test acc:0.6958\n",
      "epoch:178, train acc:0.87, test acc:0.6978\n",
      "epoch:179, train acc:0.87, test acc:0.6945\n",
      "epoch:180, train acc:0.8666666666666667, test acc:0.6881\n",
      "epoch:181, train acc:0.8666666666666667, test acc:0.6954\n",
      "epoch:182, train acc:0.87, test acc:0.6921\n",
      "epoch:183, train acc:0.8666666666666667, test acc:0.6971\n",
      "epoch:184, train acc:0.87, test acc:0.7043\n",
      "epoch:185, train acc:0.86, test acc:0.7043\n",
      "epoch:186, train acc:0.8666666666666667, test acc:0.6904\n",
      "epoch:187, train acc:0.8666666666666667, test acc:0.6886\n",
      "epoch:188, train acc:0.8666666666666667, test acc:0.7035\n",
      "epoch:189, train acc:0.87, test acc:0.6978\n",
      "epoch:190, train acc:0.87, test acc:0.6995\n",
      "epoch:191, train acc:0.8633333333333333, test acc:0.6968\n",
      "epoch:192, train acc:0.8666666666666667, test acc:0.6996\n",
      "epoch:193, train acc:0.86, test acc:0.6943\n",
      "epoch:194, train acc:0.8733333333333333, test acc:0.6986\n",
      "epoch:195, train acc:0.8666666666666667, test acc:0.7018\n",
      "epoch:196, train acc:0.8633333333333333, test acc:0.6899\n",
      "epoch:197, train acc:0.8666666666666667, test acc:0.6829\n",
      "epoch:198, train acc:0.8633333333333333, test acc:0.6856\n",
      "epoch:199, train acc:0.87, test acc:0.6921\n",
      "epoch:200, train acc:0.86, test acc:0.693\n"
     ]
    },
    {
     "data": {
      "image/png": "[encoded data removed]",
      "text/plain": [
       "<matplotlib.figure.Figure at 0x7f443dbeff28>"
      ]
     },
     "metadata": {},
     "output_type": "display_data"
    }
   ],
   "source": [
    "# coding: utf-8\n",
    "import os\n",
    "import sys\n",
    "\n",
    "sys.path.append(os.pardir)  # 親ディレクトリのファイルをインポートするための設定\n",
    "import numpy as np\n",
    "import matplotlib.pyplot as plt\n",
    "from dataset.mnist import load_mnist\n",
    "from common.multi_layer_net import MultiLayerNet\n",
    "from common.optimizer import SGD\n",
    "\n",
    "(x_train, t_train), (x_test, t_test) = load_mnist(normalize=True)\n",
    "\n",
    "# 過学習を再現するために、学習データを削減\n",
    "x_train = x_train[:300]\n",
    "t_train = t_train[:300]\n",
    "\n",
    "# weight decay（荷重減衰）の設定 =======================\n",
    "#weight_decay_lambda = 0 # weight decayを使用しない場合\n",
    "weight_decay_lambda = 0.1\n",
    "# ====================================================\n",
    "\n",
    "network = MultiLayerNet(input_size=784, hidden_size_list=[100, 100, 100, 100, 100, 100], output_size=10,\n",
    "                        weight_decay_lambda=weight_decay_lambda)\n",
    "optimizer = SGD(lr=0.01)\n",
    "\n",
    "max_epochs = 201\n",
    "train_size = x_train.shape[0]\n",
    "batch_size = 100\n",
    "\n",
    "train_loss_list = []\n",
    "train_acc_list = []\n",
    "test_acc_list = []\n",
    "\n",
    "iter_per_epoch = max(train_size / batch_size, 1)\n",
    "epoch_cnt = 0\n",
    "\n",
    "for i in range(1000000000):\n",
    "    batch_mask = np.random.choice(train_size, batch_size)\n",
    "    x_batch = x_train[batch_mask]\n",
    "    t_batch = t_train[batch_mask]\n",
    "\n",
    "    grads = network.gradient(x_batch, t_batch)\n",
    "    optimizer.update(network.params, grads)\n",
    "\n",
    "    if i % iter_per_epoch == 0:\n",
    "        train_acc = network.accuracy(x_train, t_train)\n",
    "        test_acc = network.accuracy(x_test, t_test)\n",
    "        train_acc_list.append(train_acc)\n",
    "        test_acc_list.append(test_acc)\n",
    "\n",
    "        print(\"epoch:\" + str(epoch_cnt) + \", train acc:\" + str(train_acc) + \", test acc:\" + str(test_acc))\n",
    "\n",
    "        epoch_cnt += 1\n",
    "        if epoch_cnt >= max_epochs:\n",
    "            break\n",
    "\n",
    "\n",
    "# 3.グラフの描画==========\n",
    "markers = {'train': 'o', 'test': 's'}\n",
    "x = np.arange(max_epochs)\n",
    "plt.plot(x, train_acc_list, marker='o', label='train', markevery=10)\n",
    "plt.plot(x, test_acc_list, marker='s', label='test', markevery=10)\n",
    "plt.xlabel(\"epochs\")\n",
    "plt.ylabel(\"accuracy\")\n",
    "plt.ylim(0, 1.0)\n",
    "plt.legend(loc='lower right')\n",
    "plt.show()"
   ]
  },
  {
   "cell_type": "markdown",
   "metadata": {},
   "source": [
    "**訓練データに関する認識精度は100%なのに、テストデータに関する認識精度は60%～80%で高止まりしている→過学習状態**"
   ]
  },
  {
   "cell_type": "code",
   "execution_count": null,
   "metadata": {},
   "outputs": [],
   "source": []
  },
  {
   "cell_type": "code",
   "execution_count": null,
   "metadata": {},
   "outputs": [],
   "source": []
  }
 ],
 "metadata": {
  "kernelspec": {
   "display_name": "Python 3",
   "language": "python",
   "name": "python3"
  },
  "language_info": {
   "codemirror_mode": {
    "name": "ipython",
    "version": 3
   },
   "file_extension": ".py",
   "mimetype": "text/x-python",
   "name": "python",
   "nbconvert_exporter": "python",
   "pygments_lexer": "ipython3",
   "version": "3.5.4"
  }
 },
 "nbformat": 4,
 "nbformat_minor": 2
}
