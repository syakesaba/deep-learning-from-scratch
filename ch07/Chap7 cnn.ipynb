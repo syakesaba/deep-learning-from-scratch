{
 "cells": [
  {
   "cell_type": "markdown",
   "metadata": {},
   "source": [
    "# 畳み込みニューラルネットワーク"
   ]
  },
  {
   "cell_type": "markdown",
   "metadata": {},
   "source": [
    "## 畳み込み層"
   ]
  },
  {
   "cell_type": "markdown",
   "metadata": {},
   "source": [
    "- 畳み込み層: CNN（Convolutional Neural Network）で新たに取り入れられる層の一つ。\n",
    "- 特徴マップ(feature map): 畳み込み層における入出力データのこと\n",
    "- 入力特徴マップ(input feature map): 畳み込み層における入力データのこと\n",
    "- 出力特徴マップ(output feature map): 畳み込み層における出力データのこと"
   ]
  },
  {
   "cell_type": "markdown",
   "metadata": {},
   "source": [
    "http://www.hpc.co.jp/AboutDeepLearning.html\n",
    "![http://www.hpc.co.jp/images/DL_kaisetsu_09.png](http://www.hpc.co.jp/images/DL_kaisetsu_09.png)"
   ]
  },
  {
   "cell_type": "markdown",
   "metadata": {},
   "source": [
    "http://pythonskywalker.hatenablog.com/entry/2016/12/26/164545  \n",
    "![https://cdn-ak.f.st-hatena.com/images/fotolife/r/riikku/20161226/20161226141944.png](https://cdn-ak.f.st-hatena.com/images/fotolife/r/riikku/20161226/20161226141944.png)"
   ]
  },
  {
   "cell_type": "markdown",
   "metadata": {},
   "source": [
    "### 全結合層の問題点"
   ]
  },
  {
   "cell_type": "markdown",
   "metadata": {},
   "source": [
    "これまでのニューラルネットワークは隣接する層のすべてのニューロンとニューロンの間で結合がある（fully-connected; 全結合;）状態だった。  \n",
    "我々はこれまでそれぞれの結合部をAffineレイヤ（行列の内積計算）で実装しReLUにて発火させた。これは何の考慮もせずに入力値をそのまま行列に変換してニューラルネットワークを構築したことになる。つまり今回のMNISTの手書き文字の場合、元々あった縦・横などの「データの形状情報」やRGB（ピクセルの色合いの順序情報;R要素・G要素・B要素の区別;）が失われてしまうことになる。  \n",
    "__データをそのまま全結合層の入力（行列）として扱った場合3次元以上の情報は失われてしまう！__  \n",
    "例えば、画像を行列として扱った場合に失われる情報としては以下が考えられる\n",
    "- ピクセルのR,G,B,Aのそれぞれの濃度\n",
    "- 縦・横のピクセル幅\n",
    "- 上下左右で連続したピクセル間の値の推移"
   ]
  },
  {
   "cell_type": "markdown",
   "metadata": {},
   "source": [
    "### 畳み込み演算"
   ]
  },
  {
   "cell_type": "markdown",
   "metadata": {},
   "source": [
    "畳み込み演算は画像処理で言う「フィルター演算」にあたる。  \n",
    "http://www.hpc.co.jp/AboutDeepLearning.html  \n",
    "![http://www.hpc.co.jp/images/DL_kaisetsu_10.png](http://www.hpc.co.jp/images/DL_kaisetsu_10.png)"
   ]
  },
  {
   "cell_type": "markdown",
   "metadata": {},
   "source": [
    "「フィルター」はカーネルとも呼ばれ、入力データに対してあるウインドウサイズの区画で積和演算を行う。全結合のニューラルネットワークでは行列が重みパラメータとなっていたが、CNNの場合はこのフィルターの乗算内容が「重み」に対応する。  \n",
    "積和演算の結果は各ウィンドウの位置ごとに取得され、結果は新たな出力データとなる。  \n",
    "その出力データの行列にスカラをスカラ加算（行列の要素全てに等しく加算）することでバイアスも実現する。  \n",
    "バイアスはスカラなので、1 x 1の行列となる。  "
   ]
  },
  {
   "cell_type": "markdown",
   "metadata": {},
   "source": [
    "### パディング"
   ]
  },
  {
   "cell_type": "markdown",
   "metadata": {},
   "source": [
    "入力データの大外にダミーの枠を用意することで、積和演算結果のサイズを調整できる。  \n",
    "畳み込み演算を繰り返すと段々出力サイズが小さくなるので、最終的な出力サイズが1になることを防ぐことができる。  \n",
    "畳み込み演算回数（隠れ層の数）によっては不要の場合がある。"
   ]
  },
  {
   "cell_type": "markdown",
   "metadata": {},
   "source": [
    "### ストライド"
   ]
  },
  {
   "cell_type": "markdown",
   "metadata": {},
   "source": [
    "フィルターの適用する位置の間隔のこと。積和演算が一回終わった時点でウィンドウがスライドする幅。  \n",
    "パディングとは逆に、ストライドは大きくすると積和演算結果の出力サイズは小さくなる。"
   ]
  },
  {
   "cell_type": "markdown",
   "metadata": {},
   "source": [
    "#### ストライドと出力サイズの関係"
   ]
  },
  {
   "cell_type": "markdown",
   "metadata": {},
   "source": [
    "- 出力サイズ ($OH = \\frac{H+2P-FH}{S} + 1, OW = \\frac{W+2P-FW}{S} + 1$) \n",
    "    - 入力サイズ $(H, W)$\n",
    "    - フィルターサイズ $(FH, FW)$\n",
    "    - パディング $P$\n",
    "    - ストライド $S$\n",
    "  \n",
    "ただし、ストライドで割り切れない値の場合は長方形の形にならない（行列において欠損データが発生する）為\n",
    "割り切れない値を丸めるかダミー値を挿入すること。"
   ]
  },
  {
   "cell_type": "markdown",
   "metadata": {},
   "source": [
    "### 3次元データの畳み込み演算"
   ]
  },
  {
   "cell_type": "markdown",
   "metadata": {},
   "source": [
    "通常の畳込み演算にチャンネル（奥行き）を加えたもの。  \n",
    "- 適用フィルターの枚数（=重み） x 入力データ = 出力チャンネル数となる。\n",
    "- バイアスは（フィルター数, 1, 1）という形でブロードキャスト演算により適用される。"
   ]
  },
  {
   "cell_type": "markdown",
   "metadata": {},
   "source": [
    "http://pythonskywalker.hatenablog.com/entry/2016/12/26/164545  \n",
    "![https://camo.qiitausercontent.com/24262ae92d579768024ae0a7a1d00271d66e8917/68747470733a2f2f71696974612d696d6167652d73746f72652e73332e616d617a6f6e6177732e636f6d2f302f32353939302f66333461363337322d393730632d636365382d353861642d3139316432373566656635372e706e67](https://camo.qiitausercontent.com/24262ae92d579768024ae0a7a1d00271d66e8917/68747470733a2f2f71696974612d696d6167652d73746f72652e73332e616d617a6f6e6177732e636f6d2f302f32353939302f66333461363337322d393730632d636365382d353861642d3139316432373566656635372e706e67)"
   ]
  },
  {
   "cell_type": "markdown",
   "metadata": {},
   "source": [
    "### 畳み込み演算のバッチ演算"
   ]
  },
  {
   "cell_type": "markdown",
   "metadata": {},
   "source": [
    "単にN個のデータを重ねただけ。（4次元データの演算）"
   ]
  },
  {
   "cell_type": "markdown",
   "metadata": {},
   "source": [
    "http://pythonskywalker.hatenablog.com/entry/2016/12/26/164545  \n",
    "![https://cdn-ak.f.st-hatena.com/images/fotolife/r/riikku/20161226/20161226164341.png](https://cdn-ak.f.st-hatena.com/images/fotolife/r/riikku/20161226/20161226164341.png)"
   ]
  },
  {
   "cell_type": "markdown",
   "metadata": {},
   "source": [
    "## プーリング層"
   ]
  },
  {
   "cell_type": "markdown",
   "metadata": {},
   "source": [
    "プーリング層(Pooling)は引数フィルターなどを持たずに、関数のみで入力を縦・横の空間を狭くして出力する演算のこと。  \n",
    "一般的にはウィンドウサイズ＝ストライドとなるように設定する。  \n",
    "MAXプーリングは以下のような形で演算がなされる。他にも、Averageプーリングなどがある。"
   ]
  },
  {
   "cell_type": "markdown",
   "metadata": {},
   "source": [
    "https://indoml.com/2018/03/07/student-notes-convolutional-neural-networks-cnn-introduction/  \n",
    "![https://indoml.files.wordpress.com/2018/03/pooling-layer3.png?w=648&h=180)](https://indoml.files.wordpress.com/2018/03/pooling-layer3.png?w=648&h=180)"
   ]
  },
  {
   "cell_type": "markdown",
   "metadata": {},
   "source": [
    "### プーリング層の特徴"
   ]
  },
  {
   "cell_type": "markdown",
   "metadata": {},
   "source": [
    "#### 学習するパラメータが無い"
   ]
  },
  {
   "cell_type": "markdown",
   "metadata": {},
   "source": [
    "プーリング層は畳み込みそうと違い学習パラメータを持たない。（層自体が成長しない）"
   ]
  },
  {
   "cell_type": "markdown",
   "metadata": {},
   "source": [
    "##### チャンネル層は変化しない"
   ]
  },
  {
   "cell_type": "markdown",
   "metadata": {},
   "source": [
    "プーリング層を通過しても入力データと出力データのチャンネル数は変化しない。"
   ]
  },
  {
   "cell_type": "markdown",
   "metadata": {},
   "source": [
    "##### 微小な位置変化に対してロバスト（頑健）"
   ]
  },
  {
   "cell_type": "markdown",
   "metadata": {},
   "source": [
    "入力データの小さなズレに対してもプーリング層は同じような結果を返す。  \n",
    "入力データが多少ズレていてもウィンドウサイズに収まっている程度のズレであれば吸収できる。"
   ]
  },
  {
   "cell_type": "markdown",
   "metadata": {},
   "source": [
    "## Convolution／Poolingレイヤの実装"
   ]
  },
  {
   "cell_type": "markdown",
   "metadata": {},
   "source": [
    "### 4次元配列"
   ]
  },
  {
   "cell_type": "markdown",
   "metadata": {},
   "source": [
    "CNNは高さx横幅xチャンネルxデータ数の四次元セットと言える。"
   ]
  },
  {
   "cell_type": "markdown",
   "metadata": {},
   "source": [
    "### im2colによる展開"
   ]
  },
  {
   "cell_type": "markdown",
   "metadata": {},
   "source": [
    "畳み込み演算はim2colを使用して入力データを単純な行列の計算に落とし込む方法を使うと線形代数ライブラリで高速処理できるようになる。"
   ]
  },
  {
   "cell_type": "markdown",
   "metadata": {},
   "source": [
    "http://narusawa-a-hiyoko.hatenablog.com/entry/2016/04/12/042039\n",
    "![https://cdn-ak.f.st-hatena.com/images/fotolife/r/riikku/20161226/20161226180402.png](https://cdn-ak.f.st-hatena.com/images/fotolife/r/riikku/20161226/20161226180402.png)"
   ]
  },
  {
   "cell_type": "markdown",
   "metadata": {},
   "source": [
    "### Convolutionレイヤの実装"
   ]
  },
  {
   "cell_type": "markdown",
   "metadata": {},
   "source": [
    "#### im2colの実装"
   ]
  },
  {
   "cell_type": "code",
   "execution_count": 14,
   "metadata": {},
   "outputs": [],
   "source": [
    "def im2col(input_data, filter_h, filter_w, stride=1, pad=0):\n",
    "    \"\"\"\n",
    "\n",
    "    Parameters\n",
    "    ----------\n",
    "    input_data : (データ数, チャンネル, 高さ, 幅)の4次元配列からなる入力データ\n",
    "    filter_h : フィルターの高さ\n",
    "    filter_w : フィルターの幅\n",
    "    stride : ストライド\n",
    "    pad : パディング\n",
    "\n",
    "    Returns\n",
    "    -------\n",
    "    col : 2次元配列\n",
    "    \"\"\"\n",
    "    N, C, H, W = input_data.shape #データ数、チャンネル(奥行き)、高さ、幅\n",
    "    out_h = (H + 2*pad - filter_h)//stride + 1#出力高さを計算\n",
    "    out_w = (W + 2*pad - filter_w)//stride + 1#出力幅を計算\n",
    "\n",
    "    img = np.pad(input_data, [(0,0), (0,0), (pad, pad), (pad, pad)], 'constant')#0埋めでパディング\n",
    "    #no.pad(array, pad_width, mode=None, **kwargs)\n",
    "    col = np.zeros((N, C, filter_h, filter_w, out_h, out_w))#出力用0埋め二次元データのハコを作成\n",
    "    #np.zeros(shape, dtype=float, order='C')\n",
    "\n",
    "    for y in range(filter_h):#ストライドを反映させる\n",
    "        y_max = y + stride*out_h\n",
    "        for x in range(filter_w):\n",
    "            x_max = x + stride*out_w\n",
    "            col[:, :, y, x, :, :] = img[:, :, y:y_max:stride, x:x_max:stride]\n",
    "\n",
    "    col = col.transpose(0, 4, 5, 1, 2, 3).reshape(N*out_h*out_w, -1)\n",
    "    #XXX: ここが分からん！！！\n",
    "    return col"
   ]
  },
  {
   "cell_type": "code",
   "execution_count": 17,
   "metadata": {},
   "outputs": [
    {
     "name": "stdout",
     "output_type": "stream",
     "text": [
      "(1, 3, 7, 7)\n",
      "(9, 75)\n",
      "(10, 3, 7, 7)\n",
      "(90, 75)\n"
     ]
    }
   ],
   "source": [
    "import sys, os\n",
    "import numpy as np\n",
    "sys.path.append(os.pardir)\n",
    "from common.util import im2col\n",
    "\n",
    "x1 = np.random.rand(1,3,7,7)\n",
    "print(x1.shape)\n",
    "#    1: データ数(バッチ数)\n",
    "#    3: チャンネル(奥行き)\n",
    "#    7: 高さ\n",
    "#    7: 幅\n",
    "#4次元配列からなる入力データ\n",
    "\n",
    "col1 = im2col(x1, 5, 5, stride=1, pad=0)\n",
    "#    x1 : (データ数(バッチ数), チャンネル(奥行き), 高さ, 幅)の4次元配列からなる入力データ\n",
    "#    5 : フィルターの高さ\n",
    "#    5 : フィルターの幅\n",
    "#    1 : ストライド\n",
    "#    0 : パディング\n",
    "print(col1.shape)\n",
    "# 9 = #XXX: ここが分からん！\n",
    "# 75 = (チャンネル(奥行き) x フィルターの高さ x フィルターの高さ)\n",
    "\n",
    "x2 = np.random.rand(10,3,7,7)\n",
    "print(x2.shape)\n",
    "\n",
    "col2 = im2col(x2, 5, 5, stride=1, pad=0)\n",
    "print(col2.shape)\n",
    "# 90 = #XXX: ここが分からん！\n",
    "# 75 = (チャンネル(奥行き) x フィルターの高さ x フィルターの高さ)\n"
   ]
  },
  {
   "cell_type": "markdown",
   "metadata": {},
   "source": [
    "__畳み込み層をConvolutionという名前のクラスで実装する__"
   ]
  },
  {
   "cell_type": "code",
   "execution_count": 19,
   "metadata": {},
   "outputs": [],
   "source": [
    "class Convolution:\n",
    "    def __init__(self, W, b, stride=1, pad=0):\n",
    "        self.W = W #フィルターの「重み」\n",
    "        #FN, C, FH, FW = self.W.shape\n",
    "        self.b = b #フィルターの「バイアス」\n",
    "        self.stride = stride #フィルターのストライド\n",
    "        self.pad = pad #フィルター適用前のパディング\n",
    "        \n",
    "        # 中間データ（backward時に使用）\n",
    "        self.x = None   \n",
    "        self.col = None\n",
    "        self.col_W = None\n",
    "        \n",
    "        # 重み・バイアスパラメータの勾配\n",
    "        self.dW = None\n",
    "        self.db = None\n",
    "\n",
    "    def forward(self, x):\n",
    "        FN, C, FH, FW = self.W.shape\n",
    "        #FN=Filterの数, C=チャンネル（奥行）, FH=フィルターの高さ, FW=フィルターの幅\n",
    "        N, C, H, W = x.shape\n",
    "        out_h = 1 + int((H + 2*self.pad - FH) / self.stride)\n",
    "        out_w = 1 + int((W + 2*self.pad - FW) / self.stride)\n",
    "\n",
    "        col = im2col(x, FH, FW, self.stride, self.pad) #入力データを行列式（二次元データ）に変換\n",
    "        col_W = self.W.reshape(FN, -1).T #フィルターデータを行列式（二次元データ）に変換\n",
    "\n",
    "        out = np.dot(col, col_W) + self.b# 二次元データとなり扱えるようになった。Affineレイヤと同じく、内積を取る\n",
    "        out = out.reshape(N, out_h, out_w, -1).transpose(0, 3, 1, 2)# 内積を取った後に元の出力データの形に戻す\n",
    "\n",
    "        self.x = x\n",
    "        self.col = col\n",
    "        self.col_W = col_W\n",
    "\n",
    "        return out\n",
    "\n",
    "    def backward(self, dout):\n",
    "        FN, C, FH, FW = self.W.shape\n",
    "        dout = dout.transpose(0,2,3,1).reshape(-1, FN)\n",
    "\n",
    "        self.db = np.sum(dout, axis=0)\n",
    "        self.dW = np.dot(self.col.T, dout)\n",
    "        self.dW = self.dW.transpose(1, 0).reshape(FN, C, FH, FW)\n",
    "\n",
    "        dcol = np.dot(dout, self.col_W.T)\n",
    "        dx = col2im(dcol, self.x.shape, FH, FW, self.stride, self.pad)\n",
    "\n",
    "        return dx"
   ]
  },
  {
   "cell_type": "markdown",
   "metadata": {},
   "source": [
    "__Convolutionレイヤの順伝搬__"
   ]
  },
  {
   "cell_type": "markdown",
   "metadata": {},
   "source": [
    "- 入力データをim2colで２次元配列に展開\n",
    "- フィルターもreshapeで二次元配列に展開\n",
    "- Affine変換（内積の取得）"
   ]
  },
  {
   "cell_type": "markdown",
   "metadata": {},
   "source": [
    "__Convolutionレイヤの逆伝搬__"
   ]
  },
  {
   "cell_type": "markdown",
   "metadata": {},
   "source": [
    "- col2imを使う"
   ]
  },
  {
   "cell_type": "markdown",
   "metadata": {},
   "source": [
    "### Poolingレイヤの実装"
   ]
  },
  {
   "cell_type": "markdown",
   "metadata": {},
   "source": [
    "PoolingレイヤもConvolutionレイヤと同様、im2colを使って入力データを展開する。但し、プーリングの適用領域チャンネル方向によって変わらない。展開した行列から最大値を求め、適切な計上に整形する。（MAX-Pooling）"
   ]
  },
  {
   "cell_type": "markdown",
   "metadata": {},
   "source": [
    "http://www.hpc.co.jp/AboutDeepLearning.html  \n",
    "![http://www.hpc.co.jp/images/DL_kaisetsu_09.png](http://www.hpc.co.jp/images/DL_kaisetsu_09.png)"
   ]
  },
  {
   "cell_type": "code",
   "execution_count": 1,
   "metadata": {},
   "outputs": [],
   "source": [
    "class Pooling:\n",
    "    def __init__(self, pool_h, pool_w, stride=1, pad=0):\n",
    "        self.pool_h = pool_h\n",
    "        self.pool_w = pool_w\n",
    "        self.stride = stride\n",
    "        self.pad = pad\n",
    "        \n",
    "        self.x = None\n",
    "        self.arg_max = None\n",
    "\n",
    "    def forward(self, x):\n",
    "        N, C, H, W = x.shape\n",
    "        out_h = int(1 + (H - self.pool_h) / self.stride)\n",
    "        out_w = int(1 + (W - self.pool_w) / self.stride)\n",
    "\n",
    "        col = im2col(x, self.pool_h, self.pool_w, self.stride, self.pad)\n",
    "        col = col.reshape(-1, self.pool_h*self.pool_w)\n",
    "\n",
    "        arg_max = np.argmax(col, axis=1)\n",
    "        out = np.max(col, axis=1)\n",
    "        out = out.reshape(N, out_h, out_w, C).transpose(0, 3, 1, 2)\n",
    "\n",
    "        self.x = x\n",
    "        self.arg_max = arg_max\n",
    "\n",
    "        return out\n",
    "\n",
    "    def backward(self, dout):\n",
    "        dout = dout.transpose(0, 2, 3, 1)\n",
    "        \n",
    "        pool_size = self.pool_h * self.pool_w\n",
    "        dmax = np.zeros((dout.size, pool_size))\n",
    "        dmax[np.arange(self.arg_max.size), self.arg_max.flatten()] = dout.flatten()\n",
    "        dmax = dmax.reshape(dout.shape + (pool_size,)) \n",
    "        \n",
    "        dcol = dmax.reshape(dmax.shape[0] * dmax.shape[1] * dmax.shape[2], -1)\n",
    "        dx = col2im(dcol, self.x.shape, self.pool_h, self.pool_w, self.stride, self.pad)\n",
    "        \n",
    "        return dx"
   ]
  },
  {
   "cell_type": "markdown",
   "metadata": {},
   "source": [
    "## CNNの実装"
   ]
  },
  {
   "cell_type": "markdown",
   "metadata": {},
   "source": [
    "### SimpleConvNetクラスの実装"
   ]
  },
  {
   "cell_type": "code",
   "execution_count": 4,
   "metadata": {},
   "outputs": [
    {
     "data": {
      "image/svg+xml": [
       "<?xml version=\"1.0\" encoding=\"UTF-8\" standalone=\"no\"?>\n",
       "<!DOCTYPE svg PUBLIC \"-//W3C//DTD SVG 1.1//EN\"\n",
       " \"http://www.w3.org/Graphics/SVG/1.1/DTD/svg11.dtd\">\n",
       "<!-- Generated by graphviz version 2.38.0 (20140413.2041)\n",
       " -->\n",
       "<!-- Title: %3 Pages: 1 -->\n",
       "<svg width=\"708pt\" height=\"67pt\"\n",
       " viewBox=\"0.00 0.00 707.56 67.00\" xmlns=\"http://www.w3.org/2000/svg\" xmlns:xlink=\"http://www.w3.org/1999/xlink\">\n",
       "<g id=\"graph0\" class=\"graph\" transform=\"scale(1 1) rotate(0) translate(4 63)\">\n",
       "<title>%3</title>\n",
       "<polygon fill=\"white\" stroke=\"none\" points=\"-4,4 -4,-63 703.557,-63 703.557,4 -4,4\"/>\n",
       "<text text-anchor=\"middle\" x=\"349.779\" y=\"-7.8\" font-family=\"Times,serif\" font-size=\"14.00\">単純なCNNのネットワーク構成</text>\n",
       "<!-- L1 -->\n",
       "<g id=\"node1\" class=\"node\"><title>L1</title>\n",
       "<ellipse fill=\"none\" stroke=\"black\" cx=\"29.8973\" cy=\"-41\" rx=\"29.795\" ry=\"18\"/>\n",
       "<text text-anchor=\"middle\" x=\"29.8973\" y=\"-37.3\" font-family=\"Times,serif\" font-size=\"14.00\">Conv</text>\n",
       "</g>\n",
       "<!-- L2 -->\n",
       "<g id=\"node2\" class=\"node\"><title>L2</title>\n",
       "<ellipse fill=\"none\" stroke=\"black\" cx=\"128.292\" cy=\"-41\" rx=\"32.4942\" ry=\"18\"/>\n",
       "<text text-anchor=\"middle\" x=\"128.292\" y=\"-37.3\" font-family=\"Times,serif\" font-size=\"14.00\">ReLU</text>\n",
       "</g>\n",
       "<!-- L1&#45;&gt;L2 -->\n",
       "<g id=\"edge1\" class=\"edge\"><title>L1&#45;&gt;L2</title>\n",
       "<path fill=\"none\" stroke=\"black\" d=\"M59.8189,-41C67.9501,-41 76.9578,-41 85.673,-41\"/>\n",
       "<polygon fill=\"black\" stroke=\"black\" points=\"85.6995,-44.5001 95.6995,-41 85.6994,-37.5001 85.6995,-44.5001\"/>\n",
       "</g>\n",
       "<!-- L3 -->\n",
       "<g id=\"node3\" class=\"node\"><title>L3</title>\n",
       "<ellipse fill=\"none\" stroke=\"black\" cx=\"235.136\" cy=\"-41\" rx=\"38.1938\" ry=\"18\"/>\n",
       "<text text-anchor=\"middle\" x=\"235.136\" y=\"-37.3\" font-family=\"Times,serif\" font-size=\"14.00\">Pooling</text>\n",
       "</g>\n",
       "<!-- L2&#45;&gt;L3 -->\n",
       "<g id=\"edge2\" class=\"edge\"><title>L2&#45;&gt;L3</title>\n",
       "<path fill=\"none\" stroke=\"black\" d=\"M161.033,-41C169.09,-41 177.924,-41 186.579,-41\"/>\n",
       "<polygon fill=\"black\" stroke=\"black\" points=\"186.6,-44.5001 196.6,-41 186.6,-37.5001 186.6,-44.5001\"/>\n",
       "</g>\n",
       "<!-- L4 -->\n",
       "<g id=\"node4\" class=\"node\"><title>L4</title>\n",
       "<ellipse fill=\"none\" stroke=\"black\" cx=\"343.279\" cy=\"-41\" rx=\"33.5952\" ry=\"18\"/>\n",
       "<text text-anchor=\"middle\" x=\"343.279\" y=\"-37.3\" font-family=\"Times,serif\" font-size=\"14.00\">Affine</text>\n",
       "</g>\n",
       "<!-- L3&#45;&gt;L4 -->\n",
       "<g id=\"edge3\" class=\"edge\"><title>L3&#45;&gt;L4</title>\n",
       "<path fill=\"none\" stroke=\"black\" d=\"M273.558,-41C281.875,-41 290.755,-41 299.275,-41\"/>\n",
       "<polygon fill=\"black\" stroke=\"black\" points=\"299.428,-44.5001 309.428,-41 299.428,-37.5001 299.428,-44.5001\"/>\n",
       "</g>\n",
       "<!-- L5 -->\n",
       "<g id=\"node5\" class=\"node\"><title>L5</title>\n",
       "<ellipse fill=\"none\" stroke=\"black\" cx=\"445.573\" cy=\"-41\" rx=\"32.4942\" ry=\"18\"/>\n",
       "<text text-anchor=\"middle\" x=\"445.573\" y=\"-37.3\" font-family=\"Times,serif\" font-size=\"14.00\">ReLU</text>\n",
       "</g>\n",
       "<!-- L4&#45;&gt;L5 -->\n",
       "<g id=\"edge4\" class=\"edge\"><title>L4&#45;&gt;L5</title>\n",
       "<path fill=\"none\" stroke=\"black\" d=\"M377.119,-41C385.323,-41 394.232,-41 402.805,-41\"/>\n",
       "<polygon fill=\"black\" stroke=\"black\" points=\"403.025,-44.5001 413.025,-41 403.024,-37.5001 403.025,-44.5001\"/>\n",
       "</g>\n",
       "<!-- L6 -->\n",
       "<g id=\"node6\" class=\"node\"><title>L6</title>\n",
       "<ellipse fill=\"none\" stroke=\"black\" cx=\"547.867\" cy=\"-41\" rx=\"33.5952\" ry=\"18\"/>\n",
       "<text text-anchor=\"middle\" x=\"547.867\" y=\"-37.3\" font-family=\"Times,serif\" font-size=\"14.00\">Affine</text>\n",
       "</g>\n",
       "<!-- L5&#45;&gt;L6 -->\n",
       "<g id=\"edge5\" class=\"edge\"><title>L5&#45;&gt;L6</title>\n",
       "<path fill=\"none\" stroke=\"black\" d=\"M478.307,-41C486.385,-41 495.204,-41 503.745,-41\"/>\n",
       "<polygon fill=\"black\" stroke=\"black\" points=\"503.958,-44.5001 513.958,-41 503.958,-37.5001 503.958,-44.5001\"/>\n",
       "</g>\n",
       "<!-- L7 -->\n",
       "<g id=\"node7\" class=\"node\"><title>L7</title>\n",
       "<ellipse fill=\"none\" stroke=\"black\" cx=\"658.611\" cy=\"-41\" rx=\"40.8928\" ry=\"18\"/>\n",
       "<text text-anchor=\"middle\" x=\"658.611\" y=\"-37.3\" font-family=\"Times,serif\" font-size=\"14.00\">Softmax</text>\n",
       "</g>\n",
       "<!-- L6&#45;&gt;L7 -->\n",
       "<g id=\"edge6\" class=\"edge\"><title>L6&#45;&gt;L7</title>\n",
       "<path fill=\"none\" stroke=\"black\" d=\"M581.789,-41C589.877,-41 598.718,-41 607.416,-41\"/>\n",
       "<polygon fill=\"black\" stroke=\"black\" points=\"607.507,-44.5001 617.507,-41 607.507,-37.5001 607.507,-44.5001\"/>\n",
       "</g>\n",
       "</g>\n",
       "</svg>\n"
      ],
      "text/plain": [
       "<graphviz.dot.Digraph at 0x7fd36677feb8>"
      ]
     },
     "execution_count": 4,
     "metadata": {},
     "output_type": "execute_result"
    }
   ],
   "source": [
    "from graphviz import Digraph\n",
    "dot = Digraph(comment=\"計算グラフ\")\n",
    "dot.attr(rankdir=\"LR\")\n",
    "#dot.attr(splines=\"\") #line or curved or ortho or polyline;\n",
    "dot.attr(fixedsize=\"true\")\n",
    "dot.attr(label=\"単純なCNNのネットワーク構成\")\n",
    "with dot.subgraph(name=\"main\") as main:\n",
    "    main.node(\"L1\",\"Conv\")\n",
    "    main.node(\"L2\",\"ReLU\")\n",
    "    main.node(\"L3\",\"Pooling\")\n",
    "    main.node(\"L4\",\"Affine\")\n",
    "    main.node(\"L5\",\"ReLU\")\n",
    "    main.node(\"L6\",\"Affine\")\n",
    "    main.node(\"L7\",\"Softmax\")\n",
    "    main.edge(\"L1\", \"L2\",label=\"\")\n",
    "    main.edge(\"L2\", \"L3\",label=\"\")\n",
    "    main.edge(\"L3\", \"L4\",label=\"\")\n",
    "    main.edge(\"L4\", \"L5\",label=\"\")\n",
    "    main.edge(\"L5\", \"L6\",label=\"\")\n",
    "    main.edge(\"L6\", \"L7\",label=\"\")\n",
    "    #print(dot)\n",
    "dot"
   ]
  },
  {
   "cell_type": "code",
   "execution_count": 5,
   "metadata": {},
   "outputs": [],
   "source": [
    "# coding: utf-8\n",
    "import sys, os\n",
    "sys.path.append(os.pardir)  # 親ディレクトリのファイルをインポートするための設定\n",
    "import pickle\n",
    "import numpy as np\n",
    "from collections import OrderedDict\n",
    "from common.layers import *\n",
    "from common.gradient import numerical_gradient\n",
    "\n",
    "\n",
    "class SimpleConvNet:\n",
    "    \"\"\"単純なConvNet\n",
    "\n",
    "    conv - relu - pool - affine - relu - affine - softmax\n",
    "    \n",
    "    Parameters\n",
    "    ----------\n",
    "    input_size : 入力サイズ（MNISTの場合は784）\n",
    "    hidden_size_list : 隠れ層のニューロンの数のリスト（e.g. [100, 100, 100]）\n",
    "    output_size : 出力サイズ（MNISTの場合は10）\n",
    "    activation : 'relu' or 'sigmoid'\n",
    "    weight_init_std : 重みの標準偏差を指定（e.g. 0.01）\n",
    "        'relu'または'he'を指定した場合は「Heの初期値」を設定\n",
    "        'sigmoid'または'xavier'を指定した場合は「Xavierの初期値」を設定\n",
    "    \"\"\"\n",
    "    def __init__(self, input_dim=(1, 28, 28), \n",
    "                 conv_param={'filter_num':30, 'filter_size':5, 'pad':0, 'stride':1},\n",
    "                 hidden_size=100, output_size=10, weight_init_std=0.01):\n",
    "        filter_num = conv_param['filter_num']\n",
    "        filter_size = conv_param['filter_size']\n",
    "        filter_pad = conv_param['pad']\n",
    "        filter_stride = conv_param['stride']\n",
    "        input_size = input_dim[1]\n",
    "        conv_output_size = (input_size - filter_size + 2*filter_pad) / filter_stride + 1\n",
    "        pool_output_size = int(filter_num * (conv_output_size/2) * (conv_output_size/2))\n",
    "\n",
    "        # 重みの初期化\n",
    "        self.params = {}\n",
    "        # Convolution Weight\n",
    "        self.params['W1'] = weight_init_std * \\\n",
    "                            np.random.randn(filter_num, input_dim[0], filter_size, filter_size)\n",
    "        self.params['b1'] = np.zeros(filter_num)\n",
    "        # Affine Weight\n",
    "        self.params['W2'] = weight_init_std * \\\n",
    "                            np.random.randn(pool_output_size, hidden_size)\n",
    "        self.params['b2'] = np.zeros(hidden_size)\n",
    "        # Affine Weight\n",
    "        self.params['W3'] = weight_init_std * \\\n",
    "                            np.random.randn(hidden_size, output_size)\n",
    "        self.params['b3'] = np.zeros(output_size)\n",
    "\n",
    "        # レイヤの生成\n",
    "        self.layers = OrderedDict()\n",
    "        self.layers['Conv1'] = Convolution(self.params['W1'], self.params['b1'],\n",
    "                                           conv_param['stride'], conv_param['pad'])\n",
    "        self.layers['Relu1'] = Relu()\n",
    "        self.layers['Pool1'] = Pooling(pool_h=2, pool_w=2, stride=2)\n",
    "        self.layers['Affine1'] = Affine(self.params['W2'], self.params['b2'])\n",
    "        self.layers['Relu2'] = Relu()\n",
    "        self.layers['Affine2'] = Affine(self.params['W3'], self.params['b3'])\n",
    "\n",
    "        self.last_layer = SoftmaxWithLoss()\n",
    "\n",
    "    def predict(self, x):\n",
    "        for layer in self.layers.values():\n",
    "            x = layer.forward(x)\n",
    "\n",
    "        return x\n",
    "\n",
    "    def loss(self, x, t):\n",
    "        \"\"\"損失関数を求める\n",
    "        引数のxは入力データ、tは教師ラベル\n",
    "        \"\"\"\n",
    "        y = self.predict(x)\n",
    "        return self.last_layer.forward(y, t)\n",
    "\n",
    "    def accuracy(self, x, t, batch_size=100):\n",
    "        if t.ndim != 1 : t = np.argmax(t, axis=1)\n",
    "        \n",
    "        acc = 0.0\n",
    "        \n",
    "        for i in range(int(x.shape[0] / batch_size)):\n",
    "            tx = x[i*batch_size:(i+1)*batch_size]\n",
    "            tt = t[i*batch_size:(i+1)*batch_size]\n",
    "            y = self.predict(tx)\n",
    "            y = np.argmax(y, axis=1)\n",
    "            acc += np.sum(y == tt) \n",
    "        \n",
    "        return acc / x.shape[0]\n",
    "\n",
    "    def numerical_gradient(self, x, t):\n",
    "        \"\"\"勾配を求める（数値微分）\n",
    "\n",
    "        Parameters\n",
    "        ----------\n",
    "        x : 入力データ\n",
    "        t : 教師ラベル\n",
    "\n",
    "        Returns\n",
    "        -------\n",
    "        各層の勾配を持ったディクショナリ変数\n",
    "            grads['W1']、grads['W2']、...は各層の重み\n",
    "            grads['b1']、grads['b2']、...は各層のバイアス\n",
    "        \"\"\"\n",
    "        loss_w = lambda w: self.loss(x, t)\n",
    "\n",
    "        grads = {}\n",
    "        for idx in (1, 2, 3):\n",
    "            grads['W' + str(idx)] = numerical_gradient(loss_w, self.params['W' + str(idx)])\n",
    "            grads['b' + str(idx)] = numerical_gradient(loss_w, self.params['b' + str(idx)])\n",
    "\n",
    "        return grads\n",
    "\n",
    "    def gradient(self, x, t):\n",
    "        \"\"\"勾配を求める（誤差逆伝搬法）\n",
    "\n",
    "        Parameters\n",
    "        ----------\n",
    "        x : 入力データ\n",
    "        t : 教師ラベル\n",
    "\n",
    "        Returns\n",
    "        -------\n",
    "        各層の勾配を持ったディクショナリ変数\n",
    "            grads['W1']、grads['W2']、...は各層の重み\n",
    "            grads['b1']、grads['b2']、...は各層のバイアス\n",
    "        \"\"\"\n",
    "        # forward\n",
    "        self.loss(x, t)\n",
    "\n",
    "        # backward\n",
    "        dout = 1\n",
    "        dout = self.last_layer.backward(dout)\n",
    "\n",
    "        layers = list(self.layers.values())\n",
    "        layers.reverse()\n",
    "        for layer in layers:\n",
    "            dout = layer.backward(dout)\n",
    "\n",
    "        # 設定\n",
    "        grads = {}\n",
    "        grads['W1'], grads['b1'] = self.layers['Conv1'].dW, self.layers['Conv1'].db\n",
    "        grads['W2'], grads['b2'] = self.layers['Affine1'].dW, self.layers['Affine1'].db\n",
    "        grads['W3'], grads['b3'] = self.layers['Affine2'].dW, self.layers['Affine2'].db\n",
    "\n",
    "        return grads\n",
    "        \n",
    "    def save_params(self, file_name=\"params.pkl\"):\n",
    "        params = {}\n",
    "        for key, val in self.params.items():\n",
    "            params[key] = val\n",
    "        with open(file_name, 'wb') as f:\n",
    "            pickle.dump(params, f)\n",
    "\n",
    "    def load_params(self, file_name=\"params.pkl\"):\n",
    "        with open(file_name, 'rb') as f:\n",
    "            params = pickle.load(f)\n",
    "        for key, val in params.items():\n",
    "            self.params[key] = val\n",
    "\n",
    "        for i, key in enumerate(['Conv1', 'Affine1', 'Affine2']):\n",
    "            self.layers[key].W = self.params['W' + str(i+1)]\n",
    "            self.layers[key].b = self.params['b' + str(i+1)]"
   ]
  },
  {
   "cell_type": "markdown",
   "metadata": {},
   "source": [
    "#### SimpleConvNetの引数"
   ]
  },
  {
   "cell_type": "markdown",
   "metadata": {},
   "source": [
    "- 初期化の際の重みの標準偏差\n",
    "- 入力データ（C, H, W）の次元\n",
    "- Convolution層\n",
    "    - フィルターの数\n",
    "    - フィルターのサイズ\n",
    "    - フィルターのストライド\n",
    "    - フィルターのパディング\n",
    "- 隠れ層\n",
    "    - 全結合ニューロン数\n",
    "- 出力層\n",
    "    - 全結合ニューロン数\n"
   ]
  },
  {
   "cell_type": "code",
   "execution_count": null,
   "metadata": {},
   "outputs": [],
   "source": []
  }
 ],
 "metadata": {
  "kernelspec": {
   "display_name": "Python 3",
   "language": "python",
   "name": "python3"
  },
  "language_info": {
   "codemirror_mode": {
    "name": "ipython",
    "version": 3
   },
   "file_extension": ".py",
   "mimetype": "text/x-python",
   "name": "python",
   "nbconvert_exporter": "python",
   "pygments_lexer": "ipython3",
   "version": "3.5.4"
  }
 },
 "nbformat": 4,
 "nbformat_minor": 2
}
