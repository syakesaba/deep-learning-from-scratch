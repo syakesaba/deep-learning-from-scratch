{
 "cells": [
  {
   "cell_type": "markdown",
   "metadata": {},
   "source": [
    "# ニューラルネットワークの学習"
   ]
  },
  {
   "cell_type": "markdown",
   "metadata": {},
   "source": [
    "## データ駆動、人駆動"
   ]
  },
  {
   "cell_type": "markdown",
   "metadata": {},
   "source": [
    "- データ駆動：人の意識なく集められたデータのみを信用する考え方  \n",
    "- 人駆動：人の意識によって集められた特徴量（ベクトル）、人の意識によって集められた分類法によって得られたデータを使用する考え方  \n",
    "- 教師データ：ニューラルネットワークでいう、学習データ。学習データはディープラーニングにおいてデータ駆動として扱う都合テストデータと一致してはならない。"
   ]
  },
  {
   "cell_type": "markdown",
   "metadata": {},
   "source": [
    "## 過学習(overfitting)"
   ]
  },
  {
   "cell_type": "markdown",
   "metadata": {
    "collapsed": true
   },
   "source": [
    "ディープラーニングのおいて特定個人・個別のデータの特徴量のみ意識してしまい汎化能力に欠けてしまうこと。\n",
    "ディープラーニングに置いては 学習データ≠テストデータ≠将来的なデータ でなければならない。"
   ]
  },
  {
   "cell_type": "markdown",
   "metadata": {},
   "source": [
    "## 損失関数(loss function)"
   ]
  },
  {
   "cell_type": "markdown",
   "metadata": {
    "collapsed": true
   },
   "source": [
    "出力における、テスト結果における正解との誤差のこと。平均二乗誤差(mean squared error)と交差エントロピー誤差（cross entropy error）の二つが代表的にある。この損失関数の値が小さいほど正解に近いということになる。"
   ]
  },
  {
   "cell_type": "markdown",
   "metadata": {},
   "source": [
    "### 平均二乗誤差"
   ]
  },
  {
   "cell_type": "markdown",
   "metadata": {},
   "source": [
    "$$ E = 1/2(\\Sigma_k(y_k - t_k)^2 )$$"
   ]
  },
  {
   "cell_type": "code",
   "execution_count": 57,
   "metadata": {
    "collapsed": false
   },
   "outputs": [
    {
     "name": "stdout",
     "output_type": "stream",
     "text": [
      "0.5\n",
      "24.5\n",
      "0.0\n"
     ]
    }
   ],
   "source": [
    "import numpy as np\n",
    "import pandas as pd\n",
    "def mean_squared_error(y, t):\n",
    "    return 0.5 * np.sum((y-t)**2)\n",
    "a1,a2 = np.asarray([1,2,3]), np.asarray([1,2,4])\n",
    "print(mean_squared_error(a1,a2))\n",
    "a1,a2 = np.asarray([1,2,3]), np.asarray([1,2,10])\n",
    "print( mean_squared_error(a1,a2) )\n",
    "a1,a2 = np.asarray([1,2,3]), np.asarray([1,2,3])\n",
    "print( mean_squared_error(a1,a2) )"
   ]
  },
  {
   "cell_type": "markdown",
   "metadata": {},
   "source": [
    "### 交差エントロピー誤差"
   ]
  },
  {
   "cell_type": "markdown",
   "metadata": {},
   "source": [
    "$$ E = -(\\Sigma_k(t_k \\log y_t)^2 )$$"
   ]
  },
  {
   "cell_type": "markdown",
   "metadata": {},
   "source": [
    "#### log(x)の関数の特徴"
   ]
  },
  {
   "cell_type": "code",
   "execution_count": 46,
   "metadata": {
    "collapsed": false,
    "scrolled": true
   },
   "outputs": [
    {
     "data": {
      "image/png": "[encoded data removed]",
      "text/plain": [
       "<matplotlib.figure.Figure at 0x7f350465b208>"
      ]
     },
     "metadata": {},
     "output_type": "display_data"
    }
   ],
   "source": [
    "%matplotlib inline\n",
    "#plt.show()をinlineにて表示する\n",
    "#Esc+Lで行番号を表示する\n",
    "import matplotlib.pyplot as plt\n",
    "import numpy as np\n",
    "\n",
    "import numpy as np\n",
    "def log(x):\n",
    "    return np.log(x)\n",
    "x = np.arange(0.01,100,0.01)\n",
    "y = log(x)\n",
    "\n",
    "plt.plot(x,y,label=\"log(x)\", linestyle=\"--\")\n",
    "\n",
    "plt.xlabel(\"x\")\n",
    "plt.ylabel(\"y\")\n",
    "\n",
    "plt.title(\"y=log(x)\")\n",
    "\n",
    "plt.legend()#show label box\n",
    "\n",
    "plt.show()\n",
    "plt.close()"
   ]
  },
  {
   "cell_type": "markdown",
   "metadata": {},
   "source": [
    "#### 交差エントロピー誤差の関数"
   ]
  },
  {
   "cell_type": "code",
   "execution_count": 47,
   "metadata": {
    "collapsed": true
   },
   "outputs": [],
   "source": [
    "def softmax(array):\n",
    "    return np.exp(array) / np.sum(np.exp(array))\n",
    "def cross_entropy_error(y, t):\n",
    "    delta = 1e-7 #Avoid log(0) => Inf\n",
    "    return -np.sum(t * np.log(y + delta))"
   ]
  },
  {
   "cell_type": "code",
   "execution_count": 58,
   "metadata": {
    "collapsed": false
   },
   "outputs": [
    {
     "name": "stdout",
     "output_type": "stream",
     "text": [
      "SUM t = 1\n",
      "SUM y = 1.0\n",
      "交差エントロピー誤差 =  0.510825457099\n",
      "SUM t = 1\n",
      "SUM y = 1.0\n",
      "交差エントロピー誤差 =  2.30258409299\n"
     ]
    }
   ],
   "source": [
    "t = [0, 0, 1, 0, 0, 0, 0, 0, 0, 0]#One-Shot配列（正解＝１、不正解＝０に正規化したもの）\n",
    "y = [0.1, 0.05, 0.6, 0.0, 0.05, 0.1, 0.0, 0.1, 0.0, 0.0]#SoftMax関数により正規化済\n",
    "print(\"SUM t =\",np.sum(np.array(t)))\n",
    "print(\"SUM y =\", np.sum(np.array(y)))\n",
    "print(\"交差エントロピー誤差 = \",cross_entropy_error(np.array(y),np.array(t)))\n",
    "\n",
    "t = [0, 0, 1, 0, 0, 0, 0, 0, 0, 0]#One-Shot配列（正解＝１、不正解＝０に正規化したもの）\n",
    "y = [0.1, 0.05, 0.1, 0.0, 0.05, 0.1, 0.0, 0.6, 0.0, 0.0]#SoftMax関数により正規化済\n",
    "print(\"SUM t =\",np.sum(np.array(t)))\n",
    "print(\"SUM y =\", np.sum(np.array(y)))\n",
    "print(\"交差エントロピー誤差 = \",cross_entropy_error(np.array(y),np.array(t)))"
   ]
  },
  {
   "cell_type": "markdown",
   "metadata": {
    "collapsed": true
   },
   "source": [
    "### ミニバッチ学習（サンプリング）"
   ]
  },
  {
   "cell_type": "markdown",
   "metadata": {},
   "source": [
    "#### 損失関数を行列横断的に実施するためには、以下の関数を用いる"
   ]
  },
  {
   "cell_type": "markdown",
   "metadata": {
    "collapsed": true
   },
   "source": [
    "$$ E = -(1/N)\\Sigma_n\\Sigma_k(t_(nk)\\log y_(nk))$$"
   ]
  },
  {
   "cell_type": "markdown",
   "metadata": {},
   "source": [
    "#### 関数は難しいが単純に損失関数を各配列ごとにやって最後に足しているだけ。それぞれの配列の内容や要素数はもちろん異なるため、それぞれ正規化されていることが条件。最後に誤差を平均化するため配列数で割る。（これにより、それぞれのバッチのパーセプトロンの数（＝配列数）や次元数（＝配列の長さ）を変動させても互いに損失関数として比較可能とすることが出来る。）　→　膨大なデータの中から任意の数のデータのみをサンプリングして機械学習に流し込むことができるので、計算量を削減できる。しかも、サンプリングパーセンテージはその配列毎に変えることができる。（batch_size）"
   ]
  },
  {
   "cell_type": "markdown",
   "metadata": {},
   "source": [
    "### MNISTデータを使ってミニバッチ学習を実践"
   ]
  },
  {
   "cell_type": "code",
   "execution_count": 62,
   "metadata": {
    "collapsed": false
   },
   "outputs": [
    {
     "name": "stdout",
     "output_type": "stream",
     "text": [
      "(60000, 784)\n",
      "(60000,)\n",
      "(10000, 784)\n",
      "(10000,)\n"
     ]
    }
   ],
   "source": [
    "# MNISTデータのロード\n",
    "import sys,os\n",
    "sys.path.append(os.pardir) #mnist.pyを呼び出すための設定\n",
    "from dataset.mnist import load_mnist\n",
    "\n",
    "#flattenで行列ではなく配列にする\n",
    "#normalizeで0〜1に正規化する\n",
    "(x_train, t_train),  (x_test, t_test) = load_mnist(normalize=False, one_hot_label=True)\n",
    "#1画素 = 0〜256\n",
    "\n",
    "print(x_train.shape) # 784画素 x 6万件の学習データ\n",
    "print(t_train.shape) # 6万件の学習ラベルデータ\n",
    "print(x_test.shape) # 784画素 x 1万件のテストデータ\n",
    "print(t_test.shape) # 1万件のテストラベルデータ"
   ]
  },
  {
   "cell_type": "code",
   "execution_count": 75,
   "metadata": {
    "collapsed": false
   },
   "outputs": [
    {
     "data": {
      "text/plain": [
       "array([41601,  2251, 53354, 54560,  8161, 31004, 26653, 13916, 42662,   294])"
      ]
     },
     "execution_count": 75,
     "metadata": {},
     "output_type": "execute_result"
    }
   ],
   "source": [
    "#MNISTデータからランダムサンプリング\n",
    "batch_size = 10\n",
    "np.random.choice(x_train.shape[0], batch_size)#0～60000の配列のうち、どの配列を使うか選んで数字でインデックスを返す"
   ]
  },
  {
   "cell_type": "markdown",
   "metadata": {},
   "source": [
    "#### ミニバッチ対応版（交差エントロピー誤差　損失関数の実装）"
   ]
  },
  {
   "cell_type": "code",
   "execution_count": 78,
   "metadata": {
    "collapsed": true
   },
   "outputs": [],
   "source": [
    "def cross_entropy_error(y, t):\n",
    "    if y.ndim == 1:\n",
    "        t = t.reshape(1,t.size)\n",
    "        y = y.reshape(1, y.size)\n",
    "\n",
    "    batch_size = y.shape[0]\n",
    "    # One-Hot表現の場合、0 or 1なので、\n",
    "    return -np.sum(np.log(y[np.arange(batch_size), t])) / batch_size"
   ]
  },
  {
   "cell_type": "markdown",
   "metadata": {
    "collapsed": true
   },
   "source": [
    "## 認識精度よりも損失度を認識度の指標とする理由"
   ]
  },
  {
   "cell_type": "markdown",
   "metadata": {},
   "source": [
    "- 認識精度はどのレベルまで認識できれば良いのか上限が見えず、たまたま100%になる（微分し傾きが0になる場所が多く存在する）ことがありデータ表現として0～1の間で表せられないことが多い。（機械が扱うには少し弱いデータ）\n",
    "- 誤差精度は滅多に100%になることがなく、ゆるやかに収束する（微分し傾きが0になる場所が滅多に存在しない）ため微細なパラメータ調整の結果得られる誤差移動率（＝微分した際の傾き）が算出可能となり0～1の間で表せられる。（機械が扱いやすい）"
   ]
  },
  {
   "cell_type": "code",
   "execution_count": 93,
   "metadata": {
    "collapsed": false
   },
   "outputs": [
    {
     "data": {
      "image/png": "[encoded data removed]",
      "text/plain": [
       "<matplotlib.figure.Figure at 0x7f3504576c88>"
      ]
     },
     "metadata": {},
     "output_type": "display_data"
    }
   ],
   "source": [
    "%matplotlib inline\n",
    "#plt.show()をinlineにて表示する\n",
    "#Esc+Lで行番号を表示する1\n",
    "import matplotlib.pyplot as plt\n",
    "import numpy as np\n",
    "d\n",
    "x1 = np.arange(-10,10,0.001) #-0 to 10 by 0.001\n",
    "y1 = 1.0/(1.0 + np.e ** (-1.0*x))\n",
    "\n",
    "x2 = x1\n",
    "y2 = x2*0\n",
    "\n",
    "x3 = x1\n",
    "y3 = x3*0+1\n",
    "\n",
    "plt.plot(x1,y1,label=\"1/(1+e**-x)\", linestyle=\"-\")\n",
    "plt.plot(x2,y2,label=\"0\", linestyle=\"-\")\n",
    "plt.plot(x3,y3,label=\"1\", linestyle=\"-\")\n",
    "\n",
    "plt.xlabel(\"x\")\n",
    "plt.ylabel(\"y\")\n",
    "\n",
    "plt.title(\"Standard Sigmoid function#Gain=1 has no gradients=ZERO\")\n",
    "\n",
    "plt.legend()#show label box\n",
    "\n",
    "plt.show()\n",
    "plt.close()"
   ]
  },
  {
   "cell_type": "markdown",
   "metadata": {},
   "source": [
    "## 誤差の遷移に傾き（微分）を使う際の丸め誤差"
   ]
  },
  {
   "cell_type": "code",
   "execution_count": 94,
   "metadata": {
    "collapsed": false,
    "scrolled": true
   },
   "outputs": [
    {
     "data": {
      "text/plain": [
       "0.0"
      ]
     },
     "execution_count": 94,
     "metadata": {},
     "output_type": "execute_result"
    }
   ],
   "source": [
    "np.float32(1e-50)\n",
    "np.flo"
   ]
  },
  {
   "cell_type": "markdown",
   "metadata": {},
   "source": []
  },
  {
   "cell_type": "markdown",
   "metadata": {},
   "source": [
    "### 微分方程式"
   ]
  },
  {
   "cell_type": "markdown",
   "metadata": {},
   "source": [
    "$$ f'(x)=\\frac{d}{dx}f(x)=\\lim_{\\Delta x \\to 0} \\frac{f(x+\\Delta x)-f(x)}{\\Delta x} $$"
   ]
  },
  {
   "cell_type": "markdown",
   "metadata": {},
   "source": [
    "### 数値微分プログラム"
   ]
  },
  {
   "cell_type": "code",
   "execution_count": 100,
   "metadata": {
    "collapsed": true
   },
   "outputs": [],
   "source": [
    "def numerical_diff(f, x):\n",
    "    \"\"\"Bad Practice\"\"\"\n",
    "    h = 10e-4\n",
    "    return (f(x+h) - f(x)) / 2*h"
   ]
  },
  {
   "cell_type": "markdown",
   "metadata": {
    "collapsed": true
   },
   "source": [
    "### 解析的な微分と数値微分\n",
    "#### 数値微分は誤差が大きい、解析的微分は誤差が小さい"
   ]
  },
  {
   "cell_type": "markdown",
   "metadata": {},
   "source": [
    "### 解析的微分"
   ]
  },
  {
   "cell_type": "markdown",
   "metadata": {
    "collapsed": true
   },
   "source": [
    "#### 通常の微分方程式により定数計算をしない"
   ]
  },
  {
   "cell_type": "code",
   "execution_count": 104,
   "metadata": {
    "collapsed": false
   },
   "outputs": [
    {
     "name": "stdout",
     "output_type": "stream",
     "text": [
      "0.1999999999990898\n"
     ]
    },
    {
     "data": {
      "image/png": "[encoded data removed]",
      "text/plain": [
       "<matplotlib.figure.Figure at 0x7f34fb7682b0>"
      ]
     },
     "metadata": {},
     "output_type": "display_data"
    }
   ],
   "source": [
    "# coding: utf-8\n",
    "import numpy as np\n",
    "import matplotlib.pylab as plt\n",
    "\n",
    "\n",
    "def numerical_diff(f, x):\n",
    "    h = 1e-4 # 0.0001\n",
    "    return (f(x+h) - f(x-h)) / (2*h)\n",
    "\n",
    "\n",
    "def function_1(x):\n",
    "    return 0.01*x**2 + 0.1*x \n",
    "\n",
    "\n",
    "def tangent_line(f, x):\n",
    "    d = numerical_diff(f, x)\n",
    "    print(d)\n",
    "    y = f(x) - d*x\n",
    "    return lambda t: d*t + y\n",
    "     \n",
    "x = np.arange(0.0, 20.0, 0.1)\n",
    "y = function_1(x)\n",
    "plt.xlabel(\"x\")\n",
    "plt.ylabel(\"f(x)\")\n",
    "\n",
    "tf = tangent_line(function_1, 5)\n",
    "y2 = tf(x)\n",
    "\n",
    "plt.plot(x, y)\n",
    "plt.plot(x, y2)\n",
    "plt.show()\n",
    "#傾きが0.2になっていない！"
   ]
  },
  {
   "cell_type": "markdown",
   "metadata": {},
   "source": [
    "### 偏微分"
   ]
  },
  {
   "cell_type": "code",
   "execution_count": 106,
   "metadata": {
    "collapsed": true
   },
   "outputs": [],
   "source": [
    "#略（微分が対象軸（＝変数）ごとに実施できることと、複数の微分演算子が微分の順番を変えても最終的には成り立つということが示されていること）"
   ]
  },
  {
   "cell_type": "markdown",
   "metadata": {},
   "source": [
    "### 勾配"
   ]
  },
  {
   "cell_type": "markdown",
   "metadata": {},
   "source": [
    "#### 行列式において、全ての値についての偏微分を求めてベクトル行列化したものを勾配と呼ぶ。"
   ]
  },
  {
   "cell_type": "code",
   "execution_count": 111,
   "metadata": {
    "collapsed": true
   },
   "outputs": [],
   "source": [
    "def numerical_gradient(f, x):\n",
    "    \"\"\"f関数におけるx配列の数値微分をし、それぞれの値の勾配（微分した際の傾きを返します）をxと同じ列数の配列で返します。\"\"\"\n",
    "    h = 1e-4 # 0.0001（微動）\n",
    "    grad = np.zeros_like(x) # 0 * xと同義\n",
    "\n",
    "    for idx in range(x.size):\n",
    "        \n",
    "        #一旦退避。\n",
    "        tmp_val = x[idx]\n",
    "        \n",
    "        #もしプラスの方向に微動した場合の結果は？\n",
    "        x[idx] = float(tmp_val) + h\n",
    "        fxh1 = f(x) # f(x+h)\n",
    "        \n",
    "        #もしマイナスの方向に微動した場合の結果は？\n",
    "        x[idx] = tmp_val - h \n",
    "        fxh2 = f(x) # f(x-h)\n",
    "        \n",
    "        #配列を数値微分\n",
    "        grad[idx] = (fxh1 - fxh2) / (2*h)\n",
    "        \n",
    "        #傾きの計算が終わったので、一旦値を戻す\n",
    "        x[idx] = tmp_val\n",
    "        \n",
    "    return grad"
   ]
  },
  {
   "cell_type": "markdown",
   "metadata": {},
   "source": [
    "#### 勾配降下のイメージ図（2次元関数の場合）→傾きが0に収束するためのベクトルがプロットされる"
   ]
  },
  {
   "cell_type": "code",
   "execution_count": 113,
   "metadata": {
    "collapsed": false
   },
   "outputs": [
    {
     "name": "stderr",
     "output_type": "stream",
     "text": [
      "/usr/local/anaconda3/lib/python3.6/site-packages/matplotlib/axes/_axes.py:545: UserWarning: No labelled objects found. Use label='...' kwarg on individual plots.\n",
      "  warnings.warn(\"No labelled objects found. \"\n"
     ]
    },
    {
     "data": {
      "image/png": "[encoded data removed]",
      "text/plain": [
       "<matplotlib.figure.Figure at 0x7f34fb926cc0>"
      ]
     },
     "metadata": {},
     "output_type": "display_data"
    }
   ],
   "source": [
    "# coding: utf-8\n",
    "# cf.http://d.hatena.ne.jp/white_wheels/20100327/p3\n",
    "import numpy as np\n",
    "import matplotlib.pylab as plt\n",
    "from mpl_toolkits.mplot3d import Axes3D\n",
    "\n",
    "\n",
    "def _numerical_gradient_no_batch(f, x):\n",
    "    h = 1e-4 # 0.0001\n",
    "    grad = np.zeros_like(x)\n",
    "    \n",
    "    for idx in range(x.size):\n",
    "        tmp_val = x[idx]\n",
    "        x[idx] = float(tmp_val) + h\n",
    "        fxh1 = f(x) # f(x+h)\n",
    "        \n",
    "        x[idx] = tmp_val - h \n",
    "        fxh2 = f(x) # f(x-h)\n",
    "        grad[idx] = (fxh1 - fxh2) / (2*h)\n",
    "        \n",
    "        x[idx] = tmp_val # 値を元に戻す\n",
    "        \n",
    "    return grad\n",
    "\n",
    "\n",
    "def numerical_gradient(f, X):\n",
    "    if X.ndim == 1:\n",
    "        return _numerical_gradient_no_batch(f, X)\n",
    "    else:\n",
    "        grad = np.zeros_like(X)\n",
    "        \n",
    "        for idx, x in enumerate(X):\n",
    "            grad[idx] = _numerical_gradient_no_batch(f, x)\n",
    "        \n",
    "        return grad\n",
    "\n",
    "\n",
    "def function_2(x):\n",
    "    if x.ndim == 1:\n",
    "        return np.sum(x**2)\n",
    "    else:\n",
    "        return np.sum(x**2, axis=1)\n",
    "\n",
    "\n",
    "def tangent_line(f, x):\n",
    "    d = numerical_gradient(f, x)\n",
    "    print(d)\n",
    "    y = f(x) - d*x\n",
    "    return lambda t: d*t + y\n",
    "     \n",
    "if __name__ == '__main__':\n",
    "    x0 = np.arange(-2, 2.5, 0.25)\n",
    "    x1 = np.arange(-2, 2.5, 0.25)\n",
    "    X, Y = np.meshgrid(x0, x1)\n",
    "    \n",
    "    X = X.flatten()\n",
    "    Y = Y.flatten()\n",
    "    \n",
    "    grad = numerical_gradient(function_2, np.array([X, Y]) )\n",
    "    \n",
    "    plt.figure()\n",
    "    plt.quiver(X, Y, -grad[0], -grad[1],  angles=\"xy\",color=\"#666666\")#,headwidth=10,scale=40,color=\"#444444\")\n",
    "    plt.xlim([-2, 2])\n",
    "    plt.ylim([-2, 2])\n",
    "    plt.xlabel('x0')\n",
    "    plt.ylabel('x1')\n",
    "    plt.grid()\n",
    "    plt.legend()\n",
    "    plt.draw()\n",
    "    plt.show()"
   ]
  },
  {
   "cell_type": "markdown",
   "metadata": {},
   "source": [
    "関数が収束する方向にベクトルが向いていることに注意。"
   ]
  },
  {
   "cell_type": "markdown",
   "metadata": {},
   "source": [
    "### 勾配法"
   ]
  },
  {
   "cell_type": "markdown",
   "metadata": {},
   "source": [
    "関数の傾きが0となる点を目指して関数の値を徐々に収束させる手法。\n",
    "今回の場合は損失関数を0に収束させるため、勾配降下法と呼ぶ。"
   ]
  },
  {
   "cell_type": "markdown",
   "metadata": {},
   "source": [
    "#### 勾配法"
   ]
  },
  {
   "cell_type": "markdown",
   "metadata": {},
   "source": [
    "$$ x_0 = x_0 - \\eta(\\partial f/\\partial x_0) , x_1 = x_1 - \\eta(\\partial f/\\partial x_1) $$\n",
    "$$ \\eta = 学習率 (概ね、0.01や0.001などの値になる。ハイパーパラメータ) $$"
   ]
  },
  {
   "cell_type": "markdown",
   "metadata": {},
   "source": [
    "#### 勾配法プログラム"
   ]
  },
  {
   "cell_type": "code",
   "execution_count": 118,
   "metadata": {
    "collapsed": true
   },
   "outputs": [],
   "source": [
    "import numpy as np\n",
    "import matplotlib.pylab as plt\n",
    "from gradient_2d import numerical_gradient\n",
    "\n",
    "def gradient_descent(f, init_x, lr=0.01, step_num=100):\n",
    "    \"\"\"f : 最適化が必要な関数, init_xは初期値, lrは学習率, step_numは勾配降下回数. fの傾きが最小となるような\"\"\"\n",
    "    x = init_x\n",
    "    x_history = []\n",
    "\n",
    "    for i in range(step_num):\n",
    "        x_history.append( x.copy() )\n",
    "\n",
    "        grad = numerical_gradient(f, x)\n",
    "        x -= lr * grad\n",
    "\n",
    "    return x,np.array(x_history)"
   ]
  },
  {
   "cell_type": "markdown",
   "metadata": {},
   "source": [
    "$$ f(x_0, x_1) = x_0^2 + x_1^2 $$ の最小値を勾配法プログラムによって求める。"
   ]
  },
  {
   "cell_type": "code",
   "execution_count": 119,
   "metadata": {
    "collapsed": false
   },
   "outputs": [
    {
     "data": {
      "image/png": "[encoded data removed]",
      "text/plain": [
       "<matplotlib.figure.Figure at 0x7f34fb7bc0f0>"
      ]
     },
     "metadata": {},
     "output_type": "display_data"
    }
   ],
   "source": [
    "def function_2(x):\n",
    "    return x[0]**2 + x[1]**2\n",
    "\n",
    "init_x = np.array([-3.0, 4.0])    \n",
    "\n",
    "lr = 0.1\n",
    "step_num = 20\n",
    "x, x_history = gradient_descent(function_2, init_x, lr=lr, step_num=step_num)\n",
    "\n",
    "plt.plot( [-5, 5], [0,0], '--b')\n",
    "plt.plot( [0,0], [-5, 5], '--b')\n",
    "plt.plot(x_history[:,0], x_history[:,1], 'o')\n",
    "\n",
    "plt.xlim(-3.5, 3.5)\n",
    "plt.ylim(-4.5, 4.5)\n",
    "plt.xlabel(\"X0\")\n",
    "plt.ylabel(\"X1\")\n",
    "plt.show()"
   ]
  },
  {
   "cell_type": "markdown",
   "metadata": {},
   "source": [
    "偏微分の公式おさらい\n",
    "$$\n",
    "\\displaystyle{ \\left( k f_{x}\\right) = k f_{x} } \\\\\n",
    "\\displaystyle{ \\left(  f \\pm g \\right)_{x} = f_{x} \\pm g_{x} } \\\\\n",
    "\\displaystyle{ \\left(  f \\cdot g \\right)_{x} = f_{x} \\cdot g + f \\cdot g_{x} } \\\\\n",
    "\\displaystyle{ \\left(  \\frac{f}{g} \\right)_{x} = \\frac{ f_{x} \\cdot g – f \\cdot g_{x} }{g^2} } \\\\\n",
    "\\begin{aligned}\n",
    "      \\frac{\\partial f}{\\partial x} &= \\frac{d f}{du} \\frac{\\partial u}{\\partial x} \\\\\n",
    "      \\frac{\\partial f}{\\partial y} &= \\frac{d f}{du} \\frac{\\partial u}{\\partial y}\n",
    "\\end{aligned}\n",
    "$$"
   ]
  },
  {
   "cell_type": "markdown",
   "metadata": {},
   "source": [
    "### ニューラルネットワーク（行列式）における勾配降下プログラム"
   ]
  },
  {
   "cell_type": "code",
   "execution_count": 134,
   "metadata": {
    "collapsed": false
   },
   "outputs": [
    {
     "name": "stdout",
     "output_type": "stream",
     "text": [
      "W= [[-1.9540357   0.21284627 -1.4768505 ]\n",
      " [-1.08795996 -1.24378248  1.60796025]]\n",
      "dW= [[ 0.03115496  0.09937119 -0.13052614]\n",
      " [ 0.04673243  0.14905678 -0.19578922]]\n",
      "WをdWを下げるようにベクトルを向ける必要がある\n"
     ]
    }
   ],
   "source": [
    "# coding: utf-8\n",
    "import sys, os\n",
    "sys.path.append(os.pardir)  # 親ディレクトリのファイルをインポートするための設定\n",
    "import numpy as np\n",
    "from common.functions import softmax, cross_entropy_error\n",
    "from common.gradient import numerical_gradient\n",
    "\n",
    "\n",
    "class simpleNet:\n",
    "    def __init__(self):\n",
    "        self.W = np.random.randn(2,3)#2行x3列の行列として作成\n",
    "        #ガウス分布で初期化\n",
    "\n",
    "    def predict(self, x):\n",
    "        \"\"\"内積をとる（自身のW（重み）を積算）\"\"\"\n",
    "        return np.dot(x, self.W)\n",
    "\n",
    "    def loss(self, x, t):\n",
    "        \"\"\"x = 入力データ、 t = テストデータ\"\"\"\n",
    "        z = self.predict(x)\n",
    "        y = softmax(z)#0〜1の値へと汎化\n",
    "        loss = cross_entropy_error(y, t) #tはone-shot行列とする（正解=1、不正解=0）\n",
    "\n",
    "        return loss\n",
    "\n",
    "x = np.array([0.6, 0.9])# 1行2列\n",
    "t = np.array([0, 0, 1]) #1行3列\n",
    "\n",
    "net = simpleNet()\n",
    "f = lambda w: net.loss(x, t)\n",
    "dW = numerical_gradient(f, net.W)\n",
    "\n",
    "print(\"W=\",net.W)\n",
    "print(\"dW=\",dW)\n",
    "print(\"WをdWを下げるようにベクトルを向ける必要がある\")"
   ]
  },
  {
   "cell_type": "markdown",
   "metadata": {
    "collapsed": true
   },
   "source": [
    "### 学習アルゴリズムの実装"
   ]
  },
  {
   "cell_type": "markdown",
   "metadata": {},
   "source": [
    "1. ミニバッチ（訓練データサンプリング）\n",
    "    - 訓練データの中からランダムに一部のデータを選びだす。その選ばれたデータをミニバッチと言い、ここでは、そのミニバッチの損失関数の値を減らすことを目的とする。（ミニバッチは無作為サンプリングの手法のため、__確率的勾配降下法(stochastic gradient descent, SGD)__と呼ばれる）\n",
    "2. 勾配算出\n",
    "    - ミニバッチの損失関数を減らすために、各重みのパラメータの勾配を求める。勾配は損失関数の値をもっとも減らす方向を示す。\n",
    "3. パラメータの更新\n",
    "    - 重みパラメータを勾配方向に微小量だけ更新する。\n",
    "4. 繰り返し\n",
    "    - 1 ~ 3 の繰り返し"
   ]
  },
  {
   "cell_type": "code",
   "execution_count": 140,
   "metadata": {
    "collapsed": true
   },
   "outputs": [],
   "source": [
    "# coding: utf-8\n",
    "import sys, os\n",
    "sys.path.append(os.pardir)  # 親ディレクトリのファイルをインポートするための設定\n",
    "from common.functions import *\n",
    "from common.gradient import numerical_gradient\n",
    "\n",
    "\n",
    "class TwoLayerNet:\n",
    "    \"\"\"\n",
    "    2層ニューラルネットワークの実装\n",
    "    \"\"\"\n",
    "    def __init__(self, input_size, hidden_size, output_size, weight_init_std=0.01):\n",
    "        \"\"\"input_size = 入力の数(MNISTの場合、28 x 28の画素=784), hidden_size = 隠れ層の数(ハイパーパラメータ), output_size = 出力の数(MNISTの場合、0〜9の数字=10), weight_init_std = 重みの標準化引数(?)\"\"\"\n",
    "        # 重みの初期化\n",
    "        self.params = {}\n",
    "        self.params['W1'] = weight_init_std * np.random.randn(input_size, hidden_size) #ガウス分布による重みパラメータの初期化\n",
    "        self.params['b1'] = np.zeros(hidden_size) #一様分布によるバイアスパラメータの初期化\n",
    "        self.params['W2'] = weight_init_std * np.random.randn(hidden_size, output_size) #ガウス分布による重みパラメータの初期化\n",
    "        self.params['b2'] = np.zeros(output_size) #一様分布によるバイアスパラメータの初期化\n",
    "\n",
    "    def predict(self, x):\n",
    "        \"\"\"入力に対する出力を確率配列として返す\"\"\"\n",
    "        W1, W2 = self.params['W1'], self.params['W2']\n",
    "        b1, b2 = self.params['b1'], self.params['b2']\n",
    "    \n",
    "        a1 = np.dot(x, W1) + b1\n",
    "        z1 = sigmoid(a1)\n",
    "        a2 = np.dot(z1, W2) + b2\n",
    "        y = softmax(a2)\n",
    "        \n",
    "        return y\n",
    "        \n",
    "    # x:入力データ, t:教師データ\n",
    "    def loss(self, x, t):\n",
    "        \"\"\"誤差を交差エントロピー誤差関数によって返す（y =確率配列 , t =one-hot配列）\"\"\"\n",
    "        y = self.predict(x)\n",
    "        return cross_entropy_error(y, t)\n",
    "    \n",
    "    def accuracy(self, x, t):\n",
    "        \"\"\"正確度を返す。x = 入力データ、t = テストデータ、accuracy = **%\"\"\"\n",
    "        y = self.predict(x)\n",
    "        y = np.argmax(y, axis=1)\n",
    "        t = np.argmax(t, axis=1)\n",
    "        \n",
    "        accuracy = np.sum(y == t) / float(x.shape[0])\n",
    "        return accuracy\n",
    "        \n",
    "    # x:入力データ, t:教師データ\n",
    "    def numerical_gradient(self, x, t):\n",
    "        loss_W = lambda W: self.loss(x, t)\n",
    "        \n",
    "        grads = {}\n",
    "        grads['W1'] = numerical_gradient(loss_W, self.params['W1'])\n",
    "        grads['b1'] = numerical_gradient(loss_W, self.params['b1'])\n",
    "        grads['W2'] = numerical_gradient(loss_W, self.params['W2'])\n",
    "        grads['b2'] = numerical_gradient(loss_W, self.params['b2'])\n",
    "        \n",
    "        return grads\n",
    "        \n",
    "    def gradient(self, x, t):\n",
    "        W1, W2 = self.params['W1'], self.params['W2']\n",
    "        b1, b2 = self.params['b1'], self.params['b2']\n",
    "        grads = {}\n",
    "        \n",
    "        batch_num = x.shape[0]\n",
    "        \n",
    "        # forward\n",
    "        a1 = np.dot(x, W1) + b1\n",
    "        z1 = sigmoid(a1)\n",
    "        a2 = np.dot(z1, W2) + b2\n",
    "        y = softmax(a2)\n",
    "        \n",
    "        # backward\n",
    "        dy = (y - t) / batch_num\n",
    "        grads['W2'] = np.dot(z1.T, dy)\n",
    "        grads['b2'] = np.sum(dy, axis=0)\n",
    "        \n",
    "        da1 = np.dot(dy, W2.T)\n",
    "        dz1 = sigmoid_grad(a1) * da1\n",
    "        grads['W1'] = np.dot(x.T, dz1)\n",
    "        grads['b1'] = np.sum(dz1, axis=0)\n",
    "\n",
    "        return grads"
   ]
  },
  {
   "cell_type": "markdown",
   "metadata": {},
   "source": [
    "### 2層ニューラルネットワークを使った学習"
   ]
  },
  {
   "cell_type": "code",
   "execution_count": 143,
   "metadata": {
    "collapsed": false
   },
   "outputs": [
    {
     "name": "stdout",
     "output_type": "stream",
     "text": [
      "train acc, test acc | 0.0975166666667, 0.0974\n",
      "train acc, test acc | 0.7916, 0.7964\n",
      "train acc, test acc | 0.877633333333, 0.8804\n",
      "train acc, test acc | 0.897933333333, 0.902\n",
      "train acc, test acc | 0.907483333333, 0.9128\n",
      "train acc, test acc | 0.914716666667, 0.9163\n",
      "train acc, test acc | 0.9201, 0.9228\n",
      "train acc, test acc | 0.9246, 0.928\n",
      "train acc, test acc | 0.92645, 0.9278\n",
      "train acc, test acc | 0.9311, 0.9327\n",
      "train acc, test acc | 0.93405, 0.9342\n",
      "train acc, test acc | 0.9361, 0.9355\n",
      "train acc, test acc | 0.938466666667, 0.9385\n",
      "train acc, test acc | 0.94095, 0.9415\n",
      "train acc, test acc | 0.942833333333, 0.942\n",
      "train acc, test acc | 0.945, 0.9449\n",
      "train acc, test acc | 0.947166666667, 0.9464\n"
     ]
    },
    {
     "data": {
      "image/png": "[encoded data removed]",
      "text/plain": [
       "<matplotlib.figure.Figure at 0x7f34fbb69eb8>"
      ]
     },
     "metadata": {},
     "output_type": "display_data"
    }
   ],
   "source": [
    "# coding: utf-8\n",
    "import sys, os\n",
    "sys.path.append(os.pardir)  # 親ディレクトリのファイルをインポートするための設定\n",
    "import numpy as np\n",
    "import matplotlib.pyplot as plt\n",
    "from dataset.mnist import load_mnist\n",
    "from two_layer_net import TwoLayerNet\n",
    "\n",
    "# データの読み込み\n",
    "(x_train, t_train), (x_test, t_test) = load_mnist(normalize=True, one_hot_label=True)\n",
    "\n",
    "network = TwoLayerNet(input_size=784, hidden_size=50, output_size=10)\n",
    "\n",
    "iters_num = 10000  # 繰り返しの回数を適宜設定する\n",
    "train_size = x_train.shape[0]\n",
    "batch_size = 100\n",
    "learning_rate = 0.1\n",
    "\n",
    "train_loss_list = []\n",
    "train_acc_list = []\n",
    "test_acc_list = []\n",
    "\n",
    "iter_per_epoch = max(train_size / batch_size, 1)\n",
    "\n",
    "for i in range(iters_num):\n",
    "    batch_mask = np.random.choice(train_size, batch_size)\n",
    "    x_batch = x_train[batch_mask]\n",
    "    t_batch = t_train[batch_mask]\n",
    "    \n",
    "    # 勾配の計算\n",
    "    #grad = network.numerical_gradient(x_batch, t_batch)\n",
    "    grad = network.gradient(x_batch, t_batch)\n",
    "    \n",
    "    # パラメータの更新\n",
    "    for key in ('W1', 'b1', 'W2', 'b2'):\n",
    "        network.params[key] -= learning_rate * grad[key]\n",
    "    \n",
    "    loss = network.loss(x_batch, t_batch)\n",
    "    train_loss_list.append(loss)\n",
    "    \n",
    "    if i % iter_per_epoch == 0:\n",
    "        train_acc = network.accuracy(x_train, t_train)\n",
    "        test_acc = network.accuracy(x_test, t_test)\n",
    "        train_acc_list.append(train_acc)\n",
    "        test_acc_list.append(test_acc)\n",
    "        print(\"train acc, test acc | \" + str(train_acc) + \", \" + str(test_acc))\n",
    "\n",
    "# グラフの描画\n",
    "markers = {'train': 'o', 'test': 's'}\n",
    "x = np.arange(len(train_acc_list))\n",
    "plt.plot(x, train_acc_list, label='train acc')\n",
    "plt.plot(x, test_acc_list, label='test acc', linestyle='--')\n",
    "plt.xlabel(\"epochs\")\n",
    "plt.ylabel(\"accuracy\")\n",
    "plt.ylim(0, 1.0)\n",
    "plt.legend(loc='lower right')\n",
    "plt.show()"
   ]
  },
  {
   "cell_type": "markdown",
   "metadata": {},
   "source": [
    "__学習データにおける正確さとテストデータにおける正確さが概ね合致しているので、「過学習」は起きていないと思われる！__"
   ]
  },
  {
   "cell_type": "code",
   "execution_count": null,
   "metadata": {
    "collapsed": true
   },
   "outputs": [],
   "source": []
  }
 ],
 "metadata": {
  "kernelspec": {
   "display_name": "Python 3",
   "language": "python",
   "name": "python3"
  },
  "language_info": {
   "codemirror_mode": {
    "name": "ipython",
    "version": 3
   },
   "file_extension": ".py",
   "mimetype": "text/x-python",
   "name": "python",
   "nbconvert_exporter": "python",
   "pygments_lexer": "ipython3",
   "version": "3.6.0"
  }
 },
 "nbformat": 4,
 "nbformat_minor": 2
}
